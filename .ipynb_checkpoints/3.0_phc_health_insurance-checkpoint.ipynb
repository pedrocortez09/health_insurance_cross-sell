{
 "cells": [
  {
   "cell_type": "markdown",
   "id": "59249c27",
   "metadata": {},
   "source": [
    "# 0.0 HELPER FUNCTIONS & IMPORTS"
   ]
  },
  {
   "cell_type": "code",
   "execution_count": 1,
   "id": "aab40977",
   "metadata": {
    "ExecuteTime": {
     "end_time": "2022-10-06T20:55:40.620849Z",
     "start_time": "2022-10-06T20:55:38.706839Z"
    }
   },
   "outputs": [],
   "source": [
    "import pandas as pd\n",
    "import seaborn as sns\n",
    "import numpy as np\n",
    "import scikitplot as skplt\n",
    "import boruta as bt\n",
    "import pickle\n",
    "\n",
    "from IPython.display import Image\n",
    "from IPython.core.display import HTML\n",
    "from matplotlib import pyplot as plt\n",
    "from scipy import stats\n",
    "from sklearn import preprocessing as pp\n",
    "from sklearn import model_selection as ms\n",
    "from sklearn import ensemble as en\n",
    "from sklearn import neighbors as nh\n",
    "from sklearn import linear_model as lm"
   ]
  },
  {
   "cell_type": "code",
   "execution_count": 2,
   "id": "efdae423",
   "metadata": {
    "ExecuteTime": {
     "end_time": "2022-10-06T20:55:42.387938Z",
     "start_time": "2022-10-06T20:55:42.369944Z"
    }
   },
   "outputs": [],
   "source": [
    "# Funções\n",
    "\n",
    "def jupyter_settings():\n",
    "    %matplotlib inline\n",
    "    %pylab inline\n",
    "    \n",
    "    plt.style.use( 'bmh' )\n",
    "    plt.rcParams['figure.figsize'] = [25, 12]\n",
    "    plt.rcParams['font.size'] = 24\n",
    "   \n",
    "\n",
    "    display( HTML( '<style>.container { width:80% !important; }</style>') )\n",
    "    pd.options.display.max_columns = None\n",
    "    pd.options.display.max_rows = None\n",
    "    pd.set_option( 'display.expand_frame_repr', False )\n",
    "    \n",
    "    sns.set()\n",
    "    \n",
    "def cramer_v( x, y ):\n",
    "    cm = pd.crosstab( x, y ).to_numpy()\n",
    "    n = cm.sum()\n",
    "    r, k = cm.shape\n",
    "\n",
    "    chi2 = stats.chi2_contingency( cm )[0]\n",
    "    chi2corr = max( 0, chi2 - (k-1)*(r-1)/(n-1) )\n",
    "\n",
    "    kcorr = k - (k-1)**2/(n-1)\n",
    "    rcorr = r - (r-1)**2/(n-1)\n",
    "    return np.sqrt( (chi2corr/n) / ( min( kcorr-1, rcorr-1 ) ) )"
   ]
  },
  {
   "cell_type": "code",
   "execution_count": null,
   "id": "fc360cf0",
   "metadata": {
    "ExecuteTime": {
     "end_time": "2022-10-06T20:21:25.479877Z",
     "start_time": "2022-10-06T20:21:25.464299Z"
    }
   },
   "outputs": [],
   "source": [
    "jupyter_settings()"
   ]
  },
  {
   "cell_type": "code",
   "execution_count": 3,
   "id": "73346b4a",
   "metadata": {
    "ExecuteTime": {
     "end_time": "2022-10-06T20:55:43.885954Z",
     "start_time": "2022-10-06T20:55:43.425102Z"
    }
   },
   "outputs": [],
   "source": [
    "df_raw = pd.read_csv('C:/Users/Pedro/repos/health_insurance_cross_sell/pa004_health_insurance_cross_sell/health_insurance_cross-sell/data/raw/train.csv')"
   ]
  },
  {
   "cell_type": "code",
   "execution_count": 4,
   "id": "21f4eeda",
   "metadata": {
    "ExecuteTime": {
     "end_time": "2022-10-06T20:55:44.843593Z",
     "start_time": "2022-10-06T20:55:44.819613Z"
    }
   },
   "outputs": [
    {
     "data": {
      "text/html": [
       "<div>\n",
       "<style scoped>\n",
       "    .dataframe tbody tr th:only-of-type {\n",
       "        vertical-align: middle;\n",
       "    }\n",
       "\n",
       "    .dataframe tbody tr th {\n",
       "        vertical-align: top;\n",
       "    }\n",
       "\n",
       "    .dataframe thead th {\n",
       "        text-align: right;\n",
       "    }\n",
       "</style>\n",
       "<table border=\"1\" class=\"dataframe\">\n",
       "  <thead>\n",
       "    <tr style=\"text-align: right;\">\n",
       "      <th></th>\n",
       "      <th>id</th>\n",
       "      <th>Gender</th>\n",
       "      <th>Age</th>\n",
       "      <th>Driving_License</th>\n",
       "      <th>Region_Code</th>\n",
       "      <th>Previously_Insured</th>\n",
       "      <th>Vehicle_Age</th>\n",
       "      <th>Vehicle_Damage</th>\n",
       "      <th>Annual_Premium</th>\n",
       "      <th>Policy_Sales_Channel</th>\n",
       "      <th>Vintage</th>\n",
       "      <th>Response</th>\n",
       "    </tr>\n",
       "  </thead>\n",
       "  <tbody>\n",
       "    <tr>\n",
       "      <th>0</th>\n",
       "      <td>1</td>\n",
       "      <td>Male</td>\n",
       "      <td>44</td>\n",
       "      <td>1</td>\n",
       "      <td>28.0</td>\n",
       "      <td>0</td>\n",
       "      <td>&gt; 2 Years</td>\n",
       "      <td>Yes</td>\n",
       "      <td>40454.0</td>\n",
       "      <td>26.0</td>\n",
       "      <td>217</td>\n",
       "      <td>1</td>\n",
       "    </tr>\n",
       "    <tr>\n",
       "      <th>1</th>\n",
       "      <td>2</td>\n",
       "      <td>Male</td>\n",
       "      <td>76</td>\n",
       "      <td>1</td>\n",
       "      <td>3.0</td>\n",
       "      <td>0</td>\n",
       "      <td>1-2 Year</td>\n",
       "      <td>No</td>\n",
       "      <td>33536.0</td>\n",
       "      <td>26.0</td>\n",
       "      <td>183</td>\n",
       "      <td>0</td>\n",
       "    </tr>\n",
       "    <tr>\n",
       "      <th>2</th>\n",
       "      <td>3</td>\n",
       "      <td>Male</td>\n",
       "      <td>47</td>\n",
       "      <td>1</td>\n",
       "      <td>28.0</td>\n",
       "      <td>0</td>\n",
       "      <td>&gt; 2 Years</td>\n",
       "      <td>Yes</td>\n",
       "      <td>38294.0</td>\n",
       "      <td>26.0</td>\n",
       "      <td>27</td>\n",
       "      <td>1</td>\n",
       "    </tr>\n",
       "    <tr>\n",
       "      <th>3</th>\n",
       "      <td>4</td>\n",
       "      <td>Male</td>\n",
       "      <td>21</td>\n",
       "      <td>1</td>\n",
       "      <td>11.0</td>\n",
       "      <td>1</td>\n",
       "      <td>&lt; 1 Year</td>\n",
       "      <td>No</td>\n",
       "      <td>28619.0</td>\n",
       "      <td>152.0</td>\n",
       "      <td>203</td>\n",
       "      <td>0</td>\n",
       "    </tr>\n",
       "    <tr>\n",
       "      <th>4</th>\n",
       "      <td>5</td>\n",
       "      <td>Female</td>\n",
       "      <td>29</td>\n",
       "      <td>1</td>\n",
       "      <td>41.0</td>\n",
       "      <td>1</td>\n",
       "      <td>&lt; 1 Year</td>\n",
       "      <td>No</td>\n",
       "      <td>27496.0</td>\n",
       "      <td>152.0</td>\n",
       "      <td>39</td>\n",
       "      <td>0</td>\n",
       "    </tr>\n",
       "  </tbody>\n",
       "</table>\n",
       "</div>"
      ],
      "text/plain": [
       "   id  Gender  Age  Driving_License  Region_Code  Previously_Insured  \\\n",
       "0   1    Male   44                1         28.0                   0   \n",
       "1   2    Male   76                1          3.0                   0   \n",
       "2   3    Male   47                1         28.0                   0   \n",
       "3   4    Male   21                1         11.0                   1   \n",
       "4   5  Female   29                1         41.0                   1   \n",
       "\n",
       "  Vehicle_Age Vehicle_Damage  Annual_Premium  Policy_Sales_Channel  Vintage  \\\n",
       "0   > 2 Years            Yes         40454.0                  26.0      217   \n",
       "1    1-2 Year             No         33536.0                  26.0      183   \n",
       "2   > 2 Years            Yes         38294.0                  26.0       27   \n",
       "3    < 1 Year             No         28619.0                 152.0      203   \n",
       "4    < 1 Year             No         27496.0                 152.0       39   \n",
       "\n",
       "   Response  \n",
       "0         1  \n",
       "1         0  \n",
       "2         1  \n",
       "3         0  \n",
       "4         0  "
      ]
     },
     "execution_count": 4,
     "metadata": {},
     "output_type": "execute_result"
    }
   ],
   "source": [
    "df_raw.head()"
   ]
  },
  {
   "cell_type": "markdown",
   "id": "06fd9c32",
   "metadata": {},
   "source": [
    "# 1.0 DESCRIÇÃO DOS DADOS"
   ]
  },
  {
   "cell_type": "code",
   "execution_count": 5,
   "id": "a7623851",
   "metadata": {
    "ExecuteTime": {
     "end_time": "2022-10-06T20:55:46.576498Z",
     "start_time": "2022-10-06T20:55:46.555504Z"
    }
   },
   "outputs": [],
   "source": [
    "df1 = df_raw.copy()"
   ]
  },
  {
   "cell_type": "code",
   "execution_count": 6,
   "id": "2506db8e",
   "metadata": {
    "ExecuteTime": {
     "end_time": "2022-10-06T20:55:47.791083Z",
     "start_time": "2022-10-06T20:55:47.786085Z"
    }
   },
   "outputs": [],
   "source": [
    "cols_new = ['id', 'gender', 'age', 'driving_license', 'region_code',\n",
    "       'previously_insured', 'vehicle_age', 'vehicle_damage', 'annual_premium',\n",
    "       'policy_sales_channel', 'vintage', 'response']\n",
    "\n",
    "df1.columns = cols_new"
   ]
  },
  {
   "cell_type": "code",
   "execution_count": 12,
   "id": "2c1682fd",
   "metadata": {
    "ExecuteTime": {
     "end_time": "2022-10-06T20:45:55.865197Z",
     "start_time": "2022-10-06T20:45:55.782223Z"
    }
   },
   "outputs": [
    {
     "name": "stdout",
     "output_type": "stream",
     "text": [
      "<class 'pandas.core.frame.DataFrame'>\n",
      "RangeIndex: 381109 entries, 0 to 381108\n",
      "Data columns (total 12 columns):\n",
      " #   Column                Non-Null Count   Dtype  \n",
      "---  ------                --------------   -----  \n",
      " 0   id                    381109 non-null  int64  \n",
      " 1   gender                381109 non-null  object \n",
      " 2   age                   381109 non-null  int64  \n",
      " 3   driving_license       381109 non-null  int64  \n",
      " 4   region_code           381109 non-null  float64\n",
      " 5   previously_insured    381109 non-null  int64  \n",
      " 6   vehicle_age           381109 non-null  object \n",
      " 7   vehicle_damage        381109 non-null  object \n",
      " 8   annual_premium        381109 non-null  float64\n",
      " 9   policy_sales_channel  381109 non-null  float64\n",
      " 10  vintage               381109 non-null  int64  \n",
      " 11  response              381109 non-null  int64  \n",
      "dtypes: float64(3), int64(6), object(3)\n",
      "memory usage: 34.9+ MB\n"
     ]
    }
   ],
   "source": [
    "# Verificando características do DataFrame\n",
    "df1.info(verbose=True)"
   ]
  },
  {
   "cell_type": "code",
   "execution_count": 13,
   "id": "74e85cd9",
   "metadata": {
    "ExecuteTime": {
     "end_time": "2022-10-06T20:45:56.412471Z",
     "start_time": "2022-10-06T20:45:56.398475Z"
    }
   },
   "outputs": [
    {
     "name": "stdout",
     "output_type": "stream",
     "text": [
      "Número de colunas: 12\n",
      "Número de linhas: 381109\n"
     ]
    }
   ],
   "source": [
    "# Printando numero de linhas e colunas\n",
    "print('Número de colunas: {}'.format(df1.shape[1]))\n",
    "print('Número de linhas: {}'.format(df1.shape[0]))"
   ]
  },
  {
   "cell_type": "code",
   "execution_count": 14,
   "id": "0d9d6702",
   "metadata": {
    "ExecuteTime": {
     "end_time": "2022-10-06T20:45:57.710207Z",
     "start_time": "2022-10-06T20:45:57.270348Z"
    }
   },
   "outputs": [
    {
     "data": {
      "text/html": [
       "<div>\n",
       "<style scoped>\n",
       "    .dataframe tbody tr th:only-of-type {\n",
       "        vertical-align: middle;\n",
       "    }\n",
       "\n",
       "    .dataframe tbody tr th {\n",
       "        vertical-align: top;\n",
       "    }\n",
       "\n",
       "    .dataframe thead th {\n",
       "        text-align: right;\n",
       "    }\n",
       "</style>\n",
       "<table border=\"1\" class=\"dataframe\">\n",
       "  <thead>\n",
       "    <tr style=\"text-align: right;\">\n",
       "      <th></th>\n",
       "      <th>attributes</th>\n",
       "      <th>min</th>\n",
       "      <th>max</th>\n",
       "      <th>range</th>\n",
       "      <th>mean</th>\n",
       "      <th>median</th>\n",
       "      <th>std</th>\n",
       "      <th>skew</th>\n",
       "      <th>kurtosis</th>\n",
       "    </tr>\n",
       "  </thead>\n",
       "  <tbody>\n",
       "    <tr>\n",
       "      <th>0</th>\n",
       "      <td>age</td>\n",
       "      <td>20.0</td>\n",
       "      <td>85.0</td>\n",
       "      <td>65.0</td>\n",
       "      <td>38.822584</td>\n",
       "      <td>36.0</td>\n",
       "      <td>15.511591</td>\n",
       "      <td>0.672539</td>\n",
       "      <td>-0.565655</td>\n",
       "    </tr>\n",
       "    <tr>\n",
       "      <th>1</th>\n",
       "      <td>annual_premium</td>\n",
       "      <td>2630.0</td>\n",
       "      <td>540165.0</td>\n",
       "      <td>537535.0</td>\n",
       "      <td>30564.389581</td>\n",
       "      <td>31669.0</td>\n",
       "      <td>17213.132474</td>\n",
       "      <td>1.766087</td>\n",
       "      <td>34.004569</td>\n",
       "    </tr>\n",
       "    <tr>\n",
       "      <th>2</th>\n",
       "      <td>vintage</td>\n",
       "      <td>10.0</td>\n",
       "      <td>299.0</td>\n",
       "      <td>289.0</td>\n",
       "      <td>154.347397</td>\n",
       "      <td>154.0</td>\n",
       "      <td>83.671194</td>\n",
       "      <td>0.003030</td>\n",
       "      <td>-1.200688</td>\n",
       "    </tr>\n",
       "    <tr>\n",
       "      <th>3</th>\n",
       "      <td>driving_license</td>\n",
       "      <td>0.0</td>\n",
       "      <td>1.0</td>\n",
       "      <td>1.0</td>\n",
       "      <td>0.997869</td>\n",
       "      <td>1.0</td>\n",
       "      <td>0.046109</td>\n",
       "      <td>-21.595182</td>\n",
       "      <td>464.354302</td>\n",
       "    </tr>\n",
       "  </tbody>\n",
       "</table>\n",
       "</div>"
      ],
      "text/plain": [
       "        attributes     min       max     range          mean   median  \\\n",
       "0              age    20.0      85.0      65.0     38.822584     36.0   \n",
       "1   annual_premium  2630.0  540165.0  537535.0  30564.389581  31669.0   \n",
       "2          vintage    10.0     299.0     289.0    154.347397    154.0   \n",
       "3  driving_license     0.0       1.0       1.0      0.997869      1.0   \n",
       "\n",
       "            std       skew    kurtosis  \n",
       "0     15.511591   0.672539   -0.565655  \n",
       "1  17213.132474   1.766087   34.004569  \n",
       "2     83.671194   0.003030   -1.200688  \n",
       "3      0.046109 -21.595182  464.354302  "
      ]
     },
     "execution_count": 14,
     "metadata": {},
     "output_type": "execute_result"
    }
   ],
   "source": [
    "# Estatistica Descritiva\n",
    "df_statistics = df1[['age', 'annual_premium', 'vintage', 'driving_license']]\n",
    "\n",
    "# Central Tendency - mean, median\n",
    "ct1 = pd.DataFrame( df_statistics.apply( np.mean ) ).T\n",
    "ct2 = pd.DataFrame( df_statistics.apply( np.median ) ).T\n",
    "\n",
    "# Dispersion - std, min, max, range, skew, kurtosis\n",
    "d1 = pd.DataFrame( df_statistics.apply( np.std ) ).T\n",
    "d2 = pd.DataFrame( df_statistics.apply( min ) ).T\n",
    "d3 = pd.DataFrame( df_statistics.apply( max ) ).T\n",
    "d4 = pd.DataFrame( df_statistics.apply( lambda x: x.max() - x.min() ) ).T\n",
    "d5 = pd.DataFrame( df_statistics.apply( lambda x: x.skew() ) ).T\n",
    "d6 = pd.DataFrame( df_statistics.apply( lambda x: x.kurtosis() ) ).T\n",
    "\n",
    "# Concat\n",
    "m = pd.concat( [d2, d3, d4, ct1, ct2, d1, d5, d6] ).T.reset_index()\n",
    "m.columns = ['attributes', 'min', 'max', 'range', 'mean', 'median', 'std', 'skew', 'kurtosis']\n",
    "m"
   ]
  },
  {
   "cell_type": "code",
   "execution_count": 15,
   "id": "ad3c28a0",
   "metadata": {
    "ExecuteTime": {
     "end_time": "2022-10-06T20:45:57.900061Z",
     "start_time": "2022-10-06T20:45:57.870072Z"
    }
   },
   "outputs": [
    {
     "data": {
      "text/html": [
       "<div>\n",
       "<style scoped>\n",
       "    .dataframe tbody tr th:only-of-type {\n",
       "        vertical-align: middle;\n",
       "    }\n",
       "\n",
       "    .dataframe tbody tr th {\n",
       "        vertical-align: top;\n",
       "    }\n",
       "\n",
       "    .dataframe thead th {\n",
       "        text-align: right;\n",
       "    }\n",
       "</style>\n",
       "<table border=\"1\" class=\"dataframe\">\n",
       "  <thead>\n",
       "    <tr style=\"text-align: right;\">\n",
       "      <th></th>\n",
       "      <th>response</th>\n",
       "      <th>id</th>\n",
       "    </tr>\n",
       "  </thead>\n",
       "  <tbody>\n",
       "    <tr>\n",
       "      <th>0</th>\n",
       "      <td>0</td>\n",
       "      <td>334399</td>\n",
       "    </tr>\n",
       "    <tr>\n",
       "      <th>1</th>\n",
       "      <td>1</td>\n",
       "      <td>46710</td>\n",
       "    </tr>\n",
       "  </tbody>\n",
       "</table>\n",
       "</div>"
      ],
      "text/plain": [
       "   response      id\n",
       "0         0  334399\n",
       "1         1   46710"
      ]
     },
     "execution_count": 15,
     "metadata": {},
     "output_type": "execute_result"
    }
   ],
   "source": [
    "# Verificando o balanceamento da variável resposta\n",
    "df_response = df1[['response', 'id']].groupby('response').count().reset_index()\n",
    "df_response"
   ]
  },
  {
   "cell_type": "code",
   "execution_count": 16,
   "id": "66c97d5d",
   "metadata": {
    "ExecuteTime": {
     "end_time": "2022-10-06T20:45:58.958830Z",
     "start_time": "2022-10-06T20:45:58.798882Z"
    }
   },
   "outputs": [
    {
     "data": {
      "image/png": "[encoded data removed]",
      "text/plain": [
       "<Figure size 432x288 with 1 Axes>"
      ]
     },
     "metadata": {
      "needs_background": "light"
     },
     "output_type": "display_data"
    }
   ],
   "source": [
    "# Colocando em gráfico a variavel resposta\n",
    "sns.barplot( data=df_response, x='response', y='id' );"
   ]
  },
  {
   "cell_type": "markdown",
   "id": "aa0bbd22",
   "metadata": {},
   "source": [
    "# 2.0 FEATURE ENGINEERING"
   ]
  },
  {
   "cell_type": "code",
   "execution_count": 7,
   "id": "f9397af0",
   "metadata": {
    "ExecuteTime": {
     "end_time": "2022-10-06T20:55:51.277863Z",
     "start_time": "2022-10-06T20:55:51.257869Z"
    }
   },
   "outputs": [],
   "source": [
    "df2 = df1.copy()"
   ]
  },
  {
   "cell_type": "markdown",
   "id": "c7d0ca38",
   "metadata": {
    "heading_collapsed": true
   },
   "source": [
    "## 2.1 Mapa Mental de Hipóteses"
   ]
  },
  {
   "cell_type": "code",
   "execution_count": null,
   "id": "b21872c1",
   "metadata": {
    "ExecuteTime": {
     "end_time": "2022-09-29T18:11:16.413474Z",
     "start_time": "2022-09-29T18:11:16.379486Z"
    },
    "hidden": true
   },
   "outputs": [],
   "source": [
    "Image('C:/Users/Pedro/repos/health_insurance_cross_sell/pa004_health_insurance_cross_sell/health_insurance_cross-sell/img/car_insurance.png')"
   ]
  },
  {
   "cell_type": "markdown",
   "id": "ebf8cf0c",
   "metadata": {
    "heading_collapsed": true
   },
   "source": [
    "## 2.2 Criação das Hipóteses"
   ]
  },
  {
   "cell_type": "markdown",
   "id": "22362a42",
   "metadata": {
    "heading_collapsed": true,
    "hidden": true
   },
   "source": [
    "### 2.2.1 Hipóteses de Clientes"
   ]
  },
  {
   "cell_type": "markdown",
   "id": "d54ab0be",
   "metadata": {
    "hidden": true
   },
   "source": [
    "**1.** 100% dos clientes sem carteira de habilitação não aderem ao seguro.\n",
    "\n",
    "**2.** Clientes com mais dias associados tendem a aderir ao seguro.\n",
    "\n",
    "**3.** 100% dos clientes que ja tiveram o carro batido aderem ao seguro.\n",
    "\n",
    "**4.** Clientes mais velhos tendem a aderir ao seguro.\n",
    "\n",
    "**5.** Mulheres tendem a aderir ao seguro 30% mais que homens."
   ]
  },
  {
   "cell_type": "markdown",
   "id": "61b12c36",
   "metadata": {
    "heading_collapsed": true,
    "hidden": true
   },
   "source": [
    "### 2.2.1 Hipóteses de Localização"
   ]
  },
  {
   "cell_type": "markdown",
   "id": "f2fdce49",
   "metadata": {
    "hidden": true
   },
   "source": [
    "**1.** Clientes em zona rural aderem menos ao seguro.\n",
    "\n",
    "**2.** Clientes em cidades grandes aderem mais ao seguro."
   ]
  },
  {
   "cell_type": "markdown",
   "id": "92eaabb5",
   "metadata": {
    "heading_collapsed": true,
    "hidden": true
   },
   "source": [
    "### 2.2.1 Hipóteses de Veiculo"
   ]
  },
  {
   "cell_type": "markdown",
   "id": "159d3365",
   "metadata": {
    "hidden": true
   },
   "source": [
    "**1.** Com veículo mais velho tendem a não aderir ao seguro.\n",
    "\n",
    "**2.** 100% dos clientes que ja tem seguro de carro não aderem ao seguro."
   ]
  },
  {
   "cell_type": "markdown",
   "id": "b4b9a874",
   "metadata": {
    "heading_collapsed": true
   },
   "source": [
    "## 2.3 Lista Final de Hipóteses"
   ]
  },
  {
   "cell_type": "markdown",
   "id": "5e2d8f88",
   "metadata": {
    "ExecuteTime": {
     "end_time": "2022-09-23T14:03:23.893795Z",
     "start_time": "2022-09-23T14:03:23.879799Z"
    },
    "hidden": true
   },
   "source": [
    "**1.** 100% dos clientes sem carteira de habilitação não aderem ao seguro.\n",
    "\n",
    "**2.** Clientes com mais dias associados tendem a aderir ao seguro.\n",
    "\n",
    "**3.** 100% dos clientes que ja tiveram o carro batido aderem ao seguro.\n",
    "\n",
    "**4.** Clientes mais velhos tendem a aderir ao seguro.\n",
    "\n",
    "**5.** Mulheres tendem a aderir ao seguro 30% mais que homens.\n",
    "\n",
    "**6.** Clientes em zona rural aderem menos ao seguro.\n",
    "\n",
    "**7.** Clientes em cidades grandes aderem mais ao seguro.\n",
    "\n",
    "**8.** Com veículo mais velho tendem a não aderir ao seguro.\n",
    "\n",
    "**9.** 100% dos clientes que ja tem seguro de carro não aderem ao seguro."
   ]
  },
  {
   "cell_type": "markdown",
   "id": "de6865c1",
   "metadata": {},
   "source": [
    "## 2.4 Feature Engineering"
   ]
  },
  {
   "cell_type": "code",
   "execution_count": 8,
   "id": "9b67e664",
   "metadata": {
    "ExecuteTime": {
     "end_time": "2022-10-06T20:55:52.761555Z",
     "start_time": "2022-10-06T20:55:52.490642Z"
    }
   },
   "outputs": [],
   "source": [
    "# vehicle_Age\n",
    "df2['vehicle_age'] = df2['vehicle_age'].apply( lambda x: 'below_1_year' if x == '< 1 Year' else 'between_1_2_year' if x == '1-2 Year' else 'over_2_years' )\n",
    "\n",
    "# vehicle_damage\n",
    "df2['vehicle_damage'] = df2['vehicle_damage'].apply( lambda x: 1 if x == 'Yes' else 0 )"
   ]
  },
  {
   "cell_type": "code",
   "execution_count": 9,
   "id": "33bdbfcb",
   "metadata": {
    "ExecuteTime": {
     "end_time": "2022-10-06T20:55:52.996543Z",
     "start_time": "2022-10-06T20:55:52.987546Z"
    }
   },
   "outputs": [
    {
     "data": {
      "text/plain": [
       "1    192413\n",
       "0    188696\n",
       "Name: vehicle_damage, dtype: int64"
      ]
     },
     "execution_count": 9,
     "metadata": {},
     "output_type": "execute_result"
    }
   ],
   "source": [
    "df2['vehicle_damage'].value_counts()"
   ]
  },
  {
   "cell_type": "markdown",
   "id": "67d94ce1",
   "metadata": {},
   "source": [
    "# 3.0 ANÁLISE EXPLORATÓRIA DOS DADOS"
   ]
  },
  {
   "cell_type": "code",
   "execution_count": 10,
   "id": "9aefe6db",
   "metadata": {
    "ExecuteTime": {
     "end_time": "2022-10-06T20:55:54.766579Z",
     "start_time": "2022-10-06T20:55:54.730590Z"
    }
   },
   "outputs": [],
   "source": [
    "df3 = df2.copy()"
   ]
  },
  {
   "cell_type": "markdown",
   "id": "3b5833b2",
   "metadata": {
    "heading_collapsed": true
   },
   "source": [
    "## 3.1 Análise Univariada"
   ]
  },
  {
   "cell_type": "markdown",
   "id": "fca8f411",
   "metadata": {
    "heading_collapsed": true,
    "hidden": true
   },
   "source": [
    "### 3.1.1 Variavel Resposta"
   ]
  },
  {
   "cell_type": "code",
   "execution_count": null,
   "id": "38687618",
   "metadata": {
    "ExecuteTime": {
     "end_time": "2022-09-28T18:00:46.032509Z",
     "start_time": "2022-09-28T18:00:45.411484Z"
    },
    "hidden": true
   },
   "outputs": [],
   "source": [
    "sns.displot( df3['response'] );"
   ]
  },
  {
   "cell_type": "markdown",
   "id": "a372532c",
   "metadata": {
    "heading_collapsed": true,
    "hidden": true
   },
   "source": [
    "### 3.1.2 Varivavel Numérica"
   ]
  },
  {
   "cell_type": "code",
   "execution_count": null,
   "id": "64897335",
   "metadata": {
    "ExecuteTime": {
     "end_time": "2022-09-28T18:00:50.203885Z",
     "start_time": "2022-09-28T18:00:48.915298Z"
    },
    "hidden": true
   },
   "outputs": [],
   "source": [
    "df_statistics['vehicle_damage'] = df3['vehicle_damage']\n",
    "df_statistics.hist(bins=25);"
   ]
  },
  {
   "cell_type": "markdown",
   "id": "cb4ff745",
   "metadata": {
    "heading_collapsed": true,
    "hidden": true
   },
   "source": [
    "### 3.1.3 Varivavel Categórica"
   ]
  },
  {
   "cell_type": "code",
   "execution_count": null,
   "id": "c92bcb54",
   "metadata": {
    "ExecuteTime": {
     "end_time": "2022-09-28T18:00:52.419767Z",
     "start_time": "2022-09-28T18:00:52.395775Z"
    },
    "hidden": true
   },
   "outputs": [],
   "source": [
    "cat_attributes = df3.select_dtypes( exclude=['int64', 'float64', 'datetime64[ns]'] )\n",
    "cat_attributes.columns"
   ]
  },
  {
   "cell_type": "code",
   "execution_count": null,
   "id": "894fa732",
   "metadata": {
    "ExecuteTime": {
     "end_time": "2022-09-28T14:28:40.065783Z",
     "start_time": "2022-09-28T14:28:39.222053Z"
    },
    "hidden": true
   },
   "outputs": [],
   "source": [
    "plt.subplot( 1, 2, 1 )\n",
    "ax1 = sns.countplot( df3['gender'] );\n",
    "for i in ax1.containers:\n",
    "    ax1.bar_label(i,);\n",
    "    \n",
    "plt.subplot( 1, 2, 2 )\n",
    "ax2 = sns.countplot( df3['vehicle_age'] );\n",
    "for i in ax2.containers:\n",
    "    ax2.bar_label(i,);"
   ]
  },
  {
   "cell_type": "markdown",
   "id": "0d5c9915",
   "metadata": {
    "heading_collapsed": true
   },
   "source": [
    "## 3.2 Análise Bivariada"
   ]
  },
  {
   "cell_type": "markdown",
   "id": "c9e5d6cb",
   "metadata": {
    "heading_collapsed": true,
    "hidden": true
   },
   "source": [
    "### 1. 100% dos clientes sem carteira de habilitação não aderem ao seguro.\n",
    "    FALSA. Das 812 pessoas que não possuem carteira de motorista, 41 aceitaram o seguro: 5,05%"
   ]
  },
  {
   "cell_type": "code",
   "execution_count": null,
   "id": "5933a0ad",
   "metadata": {
    "ExecuteTime": {
     "end_time": "2022-09-28T14:28:40.532633Z",
     "start_time": "2022-09-28T14:28:40.067783Z"
    },
    "hidden": true
   },
   "outputs": [],
   "source": [
    "plt.subplot( 1, 2, 1 )\n",
    "df3_aux1 = df3.loc[df3['driving_license']==1, :]\n",
    "aux1 = df3_aux1[['driving_license', 'response', 'id']].groupby(['driving_license', 'response']).count().reset_index()\n",
    "a = sns.barplot( data=aux1, x='driving_license', y='id', hue='response')\n",
    "for i in a.containers:\n",
    "    a.bar_label(i,);\n",
    "    \n",
    "plt.subplot( 1, 2, 2 )\n",
    "df3_aux2 = df3.loc[df3['driving_license']==0, :]\n",
    "aux1 = df3_aux2[['driving_license', 'response', 'id']].groupby(['driving_license', 'response']).count().reset_index()\n",
    "b = sns.barplot( data=aux1, x='driving_license', y='id', hue='response')\n",
    "for i in b.containers:\n",
    "    b.bar_label(i,);"
   ]
  },
  {
   "cell_type": "markdown",
   "id": "db7daefe",
   "metadata": {
    "hidden": true
   },
   "source": [
    "### 2. Clientes com mais dias associados tendem a aderir ao seguro.\n",
    "    Falsa - Na média ambos que aceitaram ou recusaram tem a mesma quantidade de dias associados"
   ]
  },
  {
   "cell_type": "code",
   "execution_count": null,
   "id": "d88455da",
   "metadata": {
    "ExecuteTime": {
     "end_time": "2022-09-28T14:28:40.783583Z",
     "start_time": "2022-09-28T14:28:40.562654Z"
    },
    "hidden": true
   },
   "outputs": [],
   "source": [
    "aux1 = df3[['vintage', 'response']].groupby('response').mean().reset_index()\n",
    "a = sns.barplot( data=aux1, x='response', y='vintage');\n",
    "for i in a.containers:\n",
    "    a.bar_label(i,);"
   ]
  },
  {
   "cell_type": "markdown",
   "id": "0182224f",
   "metadata": {
    "hidden": true
   },
   "source": [
    "### **3.** 100% dos clientes que ja tiveram o carro batido aderem ao seguro.\n",
    "    Falsa - Das pessoas que ja bateram o carro 76,23% recusaram o seguro."
   ]
  },
  {
   "cell_type": "code",
   "execution_count": null,
   "id": "46b1f175",
   "metadata": {
    "ExecuteTime": {
     "end_time": "2022-09-28T14:28:41.422571Z",
     "start_time": "2022-09-28T14:28:41.122668Z"
    },
    "hidden": true
   },
   "outputs": [],
   "source": [
    "aux1 = df3[['vehicle_damage', 'response', 'id']].groupby(['response', 'vehicle_damage']).count().reset_index()\n",
    "a = sns.barplot( data=aux1, x='vehicle_damage', y='id', hue='response');\n",
    "for i in a.containers:\n",
    "    a.bar_label(i,);"
   ]
  },
  {
   "cell_type": "markdown",
   "id": "a61d6c8f",
   "metadata": {
    "hidden": true
   },
   "source": [
    "### **4.** Clientes mais velhos tendem a aderir ao seguro.\n",
    "    Verdadeiro - Na média, clientes que aceitam o seguro são mais velhos."
   ]
  },
  {
   "cell_type": "code",
   "execution_count": null,
   "id": "be16dc85",
   "metadata": {
    "ExecuteTime": {
     "end_time": "2022-09-28T14:28:42.465371Z",
     "start_time": "2022-09-28T14:28:41.618642Z"
    },
    "hidden": true
   },
   "outputs": [],
   "source": [
    "plt.subplot(1, 2, 1)\n",
    "aux1 = df3[['age', 'response']].groupby('response').mean().reset_index()\n",
    "a = sns.barplot( data=aux1, x= 'response', y='age');\n",
    "for i in a.containers:\n",
    "    a.bar_label(i,);\n",
    "    \n",
    "plt.subplot(1, 2, 2)\n",
    "sns.histplot( df3['age'] );"
   ]
  },
  {
   "cell_type": "markdown",
   "id": "9d685874",
   "metadata": {
    "hidden": true
   },
   "source": [
    "### **5.** Mulheres tendem a aderir ao seguro 30% mais que homens.\n",
    "    Falsa - Apenas 10,39% das mulheres aceitaram o seguro. Enquanto 13,84% dos homens aceitaram."
   ]
  },
  {
   "cell_type": "code",
   "execution_count": null,
   "id": "616b2e9e",
   "metadata": {
    "ExecuteTime": {
     "end_time": "2022-09-28T14:28:42.871241Z",
     "start_time": "2022-09-28T14:28:42.467371Z"
    },
    "hidden": true
   },
   "outputs": [],
   "source": [
    "\n",
    "aux1 = df3[['gender', 'response', 'id']].groupby(['response', 'gender']).count().reset_index()\n",
    "a = sns.barplot( data=aux1, x= 'gender', y='id', hue='response');\n",
    "for i in a.containers:\n",
    "    a.bar_label(i,);"
   ]
  },
  {
   "cell_type": "markdown",
   "id": "f4c05e82",
   "metadata": {
    "heading_collapsed": true,
    "hidden": true
   },
   "source": [
    "### **6.** Clientes em zona rural aderem menos ao seguro."
   ]
  },
  {
   "cell_type": "markdown",
   "id": "ab99cd90",
   "metadata": {
    "hidden": true
   },
   "source": [
    "### **7.** Clientes em cidades grandes aderem mais ao seguro."
   ]
  },
  {
   "cell_type": "markdown",
   "id": "4fb0d0ba",
   "metadata": {
    "hidden": true
   },
   "source": [
    "### **8.** Clientes com veículo mais velho tendem a não aderir ao seguro.\n",
    "    Falsa - A maior taxa de conversão são os que tem o carro > 2 anos, com 29,37%. Seguido dos carros entre 1-2 anos com 17,38%."
   ]
  },
  {
   "cell_type": "code",
   "execution_count": null,
   "id": "2af3654e",
   "metadata": {
    "ExecuteTime": {
     "end_time": "2022-09-28T14:28:43.923329Z",
     "start_time": "2022-09-28T14:28:43.563445Z"
    },
    "hidden": true
   },
   "outputs": [],
   "source": [
    "aux1 = df3[['vehicle_age', 'response', 'id']].groupby(['response', 'vehicle_age']).count().reset_index()\n",
    "a = sns.barplot( data=aux1, x='vehicle_age', y='id', hue='response');\n",
    "for i in a.containers:\n",
    "    a.bar_label(i,);"
   ]
  },
  {
   "cell_type": "markdown",
   "id": "717f71fe",
   "metadata": {
    "hidden": true
   },
   "source": [
    "### **9.** 100% dos clientes que ja tem seguro de carro não aderem ao seguro.\n",
    "    Falsa - 99,91% dos que ja possuem seguro não aderem ao novo seguro."
   ]
  },
  {
   "cell_type": "code",
   "execution_count": null,
   "id": "b52ead16",
   "metadata": {
    "ExecuteTime": {
     "end_time": "2022-09-28T14:28:44.967287Z",
     "start_time": "2022-09-28T14:28:44.675381Z"
    },
    "hidden": true
   },
   "outputs": [],
   "source": [
    "aux1 = df3[['previously_insured', 'response', 'id']].groupby(['response', 'previously_insured']).count().reset_index()\n",
    "a = sns.barplot( data=aux1, x='previously_insured', y='id', hue='response');\n",
    "for i in a.containers:\n",
    "    a.bar_label(i,);"
   ]
  },
  {
   "cell_type": "markdown",
   "id": "f5768a2e",
   "metadata": {
    "heading_collapsed": true
   },
   "source": [
    "## 3.1 Análise Multivariada"
   ]
  },
  {
   "cell_type": "markdown",
   "id": "f6bdecb1",
   "metadata": {
    "heading_collapsed": true,
    "hidden": true
   },
   "source": [
    "### 3.1.1 Numerical Attributes"
   ]
  },
  {
   "cell_type": "code",
   "execution_count": null,
   "id": "8976d34e",
   "metadata": {
    "ExecuteTime": {
     "end_time": "2022-09-28T18:00:59.470561Z",
     "start_time": "2022-09-28T18:00:58.362579Z"
    },
    "hidden": true
   },
   "outputs": [],
   "source": [
    "num_atributes = df3.select_dtypes( include=['int64', 'float64'] )\n",
    "correlation = num_atributes.corr( method='pearson' )\n",
    "sns.heatmap( correlation, annot=True );"
   ]
  },
  {
   "cell_type": "markdown",
   "id": "ba4ec885",
   "metadata": {
    "hidden": true
   },
   "source": [
    "### 3.1.1 Categorical Attributes"
   ]
  },
  {
   "cell_type": "code",
   "execution_count": null,
   "id": "fc6d52a3",
   "metadata": {
    "ExecuteTime": {
     "end_time": "2022-09-28T18:01:01.317554Z",
     "start_time": "2022-09-28T18:01:01.300559Z"
    },
    "hidden": true
   },
   "outputs": [],
   "source": [
    "# only categorical data\n",
    "a = df3.select_dtypes( include='object' )\n",
    "a.columns"
   ]
  },
  {
   "cell_type": "code",
   "execution_count": null,
   "id": "2f53b5f1",
   "metadata": {
    "ExecuteTime": {
     "end_time": "2022-09-28T18:01:04.142674Z",
     "start_time": "2022-09-28T18:01:03.419560Z"
    },
    "hidden": true
   },
   "outputs": [],
   "source": [
    "# Calculate cramer V\n",
    "a1 = cramer_v( a['gender'], a['gender'] )\n",
    "a2 = cramer_v( a['gender'], a['vehicle_age'] )\n",
    "a4 = cramer_v( a['vehicle_age'], a['gender'] )\n",
    "a5 = cramer_v( a['vehicle_age'], a['vehicle_age'] )\n",
    "\n",
    "# Final dataset\n",
    "d = pd.DataFrame( {'gender': [a1, a2],\n",
    "                    'vehicle_age': [a4, a5] } )\n",
    "d = d.set_index( d.columns )\n",
    "sns.heatmap( d, annot=True );"
   ]
  },
  {
   "cell_type": "markdown",
   "id": "3ca8438e",
   "metadata": {},
   "source": [
    "# 4.0 DATA PREPARATION"
   ]
  },
  {
   "cell_type": "code",
   "execution_count": 11,
   "id": "dd20ae0f",
   "metadata": {
    "ExecuteTime": {
     "end_time": "2022-10-06T20:55:56.001311Z",
     "start_time": "2022-10-06T20:55:55.978319Z"
    }
   },
   "outputs": [],
   "source": [
    "df4= df3.copy()"
   ]
  },
  {
   "cell_type": "code",
   "execution_count": 12,
   "id": "7426d9f2",
   "metadata": {
    "ExecuteTime": {
     "end_time": "2022-10-06T20:55:56.670794Z",
     "start_time": "2022-10-06T20:55:56.521842Z"
    }
   },
   "outputs": [],
   "source": [
    "X = df3.drop('response', axis=1)\n",
    "y = df3['response'].copy()\n",
    "\n",
    "x_train, x_validation, y_train, y_validation = ms.train_test_split( X, y, test_size=0.20 )\n",
    "\n",
    "df4 = pd.concat( [ x_train, y_train ], axis = 1 )"
   ]
  },
  {
   "cell_type": "markdown",
   "id": "2c4f033d",
   "metadata": {},
   "source": [
    "## Stardadization"
   ]
  },
  {
   "cell_type": "code",
   "execution_count": 25,
   "id": "83ca2bff",
   "metadata": {
    "ExecuteTime": {
     "end_time": "2022-10-06T21:02:07.086427Z",
     "start_time": "2022-10-06T21:02:07.033446Z"
    }
   },
   "outputs": [],
   "source": [
    "ss = pp.StandardScaler()\n",
    "\n",
    "# Annual Premium\n",
    "df4['annual_premium'] = ss.fit_transform( df4[['annual_premium']].values )\n",
    "pickle.dump( ss, open( 'C:/Users/Pedro/repos/health_insurance_cross_sell/pa004_health_insurance_cross_sell/health_insurance_cross-sell/src/features/annual_premium_scaler.pkl', 'wb' ) )"
   ]
  },
  {
   "cell_type": "markdown",
   "id": "fadf686e",
   "metadata": {},
   "source": [
    "## Rescaling"
   ]
  },
  {
   "cell_type": "code",
   "execution_count": 26,
   "id": "6affc9e6",
   "metadata": {
    "ExecuteTime": {
     "end_time": "2022-10-06T21:02:08.120859Z",
     "start_time": "2022-10-06T21:02:08.073875Z"
    }
   },
   "outputs": [],
   "source": [
    "mms_age = pp.MinMaxScaler()\n",
    "mms_vintage = pp.MinMaxScaler()\n",
    "\n",
    "# Age\n",
    "df4['age'] = mms_age.fit_transform( df4[['age']].values )\n",
    "pickle.dump( mms_age, open('C:/Users/Pedro/repos/health_insurance_cross_sell/pa004_health_insurance_cross_sell/health_insurance_cross-sell/src/features/age_scaler.pkl', 'wb' ) )\n",
    "\n",
    "# Vintage\n",
    "df4['vintage'] = mms_vintage.fit_transform( df4[['vintage']].values )\n",
    "pickle.dump( mms_vintage, open('C:/Users/Pedro/repos/health_insurance_cross_sell/pa004_health_insurance_cross_sell/health_insurance_cross-sell/src/features/vintage_scaler.pkl', 'wb') )"
   ]
  },
  {
   "cell_type": "markdown",
   "id": "bf9cfd71",
   "metadata": {},
   "source": [
    "## Encoder"
   ]
  },
  {
   "cell_type": "code",
   "execution_count": 27,
   "id": "1faddb15",
   "metadata": {
    "ExecuteTime": {
     "end_time": "2022-10-06T21:02:09.463654Z",
     "start_time": "2022-10-06T21:02:09.249769Z"
    }
   },
   "outputs": [],
   "source": [
    "# Gender - Target Encoding\n",
    "target_encoding_gender = df4.groupby('gender')['response'].mean()\n",
    "df4.loc[:, 'gender'] = df4['gender'].map( target_encoding_gender )\n",
    "pickle.dump(target_encoding_gender, open('C:/Users/Pedro/repos/health_insurance_cross_sell/pa004_health_insurance_cross_sell/health_insurance_cross-sell/src/features/target_encode_gender_scaler.pkl', 'wb'  )  )\n",
    "\n",
    "# Region Code - Target Encoding\n",
    "target_encoding_region_code = df4.groupby('region_code')['response'].mean() \n",
    "df4.loc[:, 'region_code'] = df4['region_code'].map( target_encoding_region_code )\n",
    "pickle.dump(target_encoding_region_code, open('C:/Users/Pedro/repos/health_insurance_cross_sell/pa004_health_insurance_cross_sell/health_insurance_cross-sell/src/features/target_encode_region_code_scaler.pkl', 'wb' ) )\n",
    " \n",
    "# Vehicle Age - One Hot Encoding\n",
    "df4 = pd.get_dummies( df4, prefix='vehicle_age', columns=['vehicle_age'] )\n",
    "\n",
    "# Policy Sales Channel - Target Encoding / Frequency Encoding\n",
    "fe_policy_sales_channel = df4.groupby('policy_sales_channel').size() / len( df4 )\n",
    "df4.loc[:, 'policy_sales_channel'] = df4['policy_sales_channel'].map( fe_policy_sales_channel )\n",
    "pickle.dump(fe_policy_sales_channel, open('C:/Users/Pedro/repos/health_insurance_cross_sell/pa004_health_insurance_cross_sell/health_insurance_cross-sell/src/features/fe_policy_sales_channel_scaler.pkl', 'wb'))"
   ]
  },
  {
   "cell_type": "markdown",
   "id": "8d5a3f8f",
   "metadata": {
    "ExecuteTime": {
     "end_time": "2022-09-27T13:12:55.900157Z",
     "start_time": "2022-09-27T13:12:55.881162Z"
    }
   },
   "source": [
    "## 4.1 Validation Preparation"
   ]
  },
  {
   "cell_type": "code",
   "execution_count": 28,
   "id": "564ea909",
   "metadata": {
    "ExecuteTime": {
     "end_time": "2022-10-06T21:02:11.723740Z",
     "start_time": "2022-10-06T21:02:11.609694Z"
    }
   },
   "outputs": [
    {
     "name": "stderr",
     "output_type": "stream",
     "text": [
      "C:\\Users\\Pedro\\anaconda3\\lib\\site-packages\\pandas\\core\\indexing.py:1773: SettingWithCopyWarning: \n",
      "A value is trying to be set on a copy of a slice from a DataFrame.\n",
      "Try using .loc[row_indexer,col_indexer] = value instead\n",
      "\n",
      "See the caveats in the documentation: https://pandas.pydata.org/pandas-docs/stable/user_guide/indexing.html#returning-a-view-versus-a-copy\n",
      "  self._setitem_single_column(ilocs[0], value, pi)\n",
      "C:\\Users\\Pedro\\anaconda3\\lib\\site-packages\\pandas\\core\\indexing.py:1835: SettingWithCopyWarning: \n",
      "A value is trying to be set on a copy of a slice from a DataFrame.\n",
      "Try using .loc[row_indexer,col_indexer] = value instead\n",
      "\n",
      "See the caveats in the documentation: https://pandas.pydata.org/pandas-docs/stable/user_guide/indexing.html#returning-a-view-versus-a-copy\n",
      "  self._setitem_single_column(loc, value[:, i].tolist(), pi)\n",
      "C:\\Users\\Pedro\\anaconda3\\lib\\site-packages\\pandas\\core\\indexing.py:1773: SettingWithCopyWarning: \n",
      "A value is trying to be set on a copy of a slice from a DataFrame.\n",
      "Try using .loc[row_indexer,col_indexer] = value instead\n",
      "\n",
      "See the caveats in the documentation: https://pandas.pydata.org/pandas-docs/stable/user_guide/indexing.html#returning-a-view-versus-a-copy\n",
      "  self._setitem_single_column(ilocs[0], value, pi)\n",
      "C:\\Users\\Pedro\\anaconda3\\lib\\site-packages\\pandas\\core\\indexing.py:1835: SettingWithCopyWarning: \n",
      "A value is trying to be set on a copy of a slice from a DataFrame.\n",
      "Try using .loc[row_indexer,col_indexer] = value instead\n",
      "\n",
      "See the caveats in the documentation: https://pandas.pydata.org/pandas-docs/stable/user_guide/indexing.html#returning-a-view-versus-a-copy\n",
      "  self._setitem_single_column(loc, value[:, i].tolist(), pi)\n",
      "C:\\Users\\Pedro\\anaconda3\\lib\\site-packages\\pandas\\core\\indexing.py:1835: SettingWithCopyWarning: \n",
      "A value is trying to be set on a copy of a slice from a DataFrame.\n",
      "Try using .loc[row_indexer,col_indexer] = value instead\n",
      "\n",
      "See the caveats in the documentation: https://pandas.pydata.org/pandas-docs/stable/user_guide/indexing.html#returning-a-view-versus-a-copy\n",
      "  self._setitem_single_column(loc, value[:, i].tolist(), pi)\n"
     ]
    }
   ],
   "source": [
    "# Gender\n",
    "x_validation.loc[:, 'gender'] = x_validation.loc[:, 'gender'].map( target_encoding_gender )\n",
    "\n",
    "# Age\n",
    "x_validation.loc[:, 'age'] = mms_age.transform( x_validation[['age']].values )\n",
    "\n",
    "# Region Code\n",
    "x_validation.loc[:, 'region_code'] = x_validation.loc[:, 'region_code'].map( target_encoding_region_code )\n",
    "\n",
    "# Vintage\n",
    "x_validation.loc[:, 'vintage'] = mms_vintage.transform( x_validation[['vintage']].values )\n",
    "\n",
    "# Annual Premium\n",
    "x_validation.loc[:, 'annual_premium'] = ss.transform( x_validation[['annual_premium']].values )\n",
    "\n",
    "# Vehicle Age\n",
    "x_validation = pd.get_dummies( x_validation, prefix='vehicle_age', columns=['vehicle_age'] )\n",
    "\n",
    "# Policy Sales Channel\n",
    "x_validation.loc[:, 'policy_sales_channel'] = x_validation['policy_sales_channel'].map( fe_policy_sales_channel )\n",
    "\n",
    "# fill NA - Conferir se tinha NA\n",
    "x_validation = x_validation.fillna( 0 )"
   ]
  },
  {
   "cell_type": "markdown",
   "id": "36fba760",
   "metadata": {},
   "source": [
    "# 5.0 FEATURE SELECTION"
   ]
  },
  {
   "cell_type": "markdown",
   "id": "821939ea",
   "metadata": {},
   "source": [
    "## 5.1 Features Importance"
   ]
  },
  {
   "cell_type": "code",
   "execution_count": 27,
   "id": "baadbb19",
   "metadata": {
    "ExecuteTime": {
     "end_time": "2022-10-06T20:46:39.489633Z",
     "start_time": "2022-10-06T20:46:22.469808Z"
    }
   },
   "outputs": [
    {
     "data": {
      "text/plain": [
       "ExtraTreesClassifier(n_estimators=250, n_jobs=-1, random_state=0)"
      ]
     },
     "execution_count": 27,
     "metadata": {},
     "output_type": "execute_result"
    }
   ],
   "source": [
    "# Model Definition\n",
    "forest = en.ExtraTreesClassifier( n_estimators=250, random_state=0, n_jobs=-1 )\n",
    "\n",
    "# Data Preparation\n",
    "x_train_n = df4.drop( ['id', 'response'], axis=1 )\n",
    "y_train_n = y_train.values\n",
    "forest.fit( x_train_n, y_train_n )"
   ]
  },
  {
   "cell_type": "code",
   "execution_count": 28,
   "id": "c8351bfe",
   "metadata": {
    "ExecuteTime": {
     "end_time": "2022-10-06T20:46:41.331562Z",
     "start_time": "2022-10-06T20:46:40.703463Z"
    }
   },
   "outputs": [
    {
     "name": "stdout",
     "output_type": "stream",
     "text": [
      "Feature Importance:\n",
      "                        feature  importance\n",
      "0                       vintage    0.272346\n",
      "0                annual_premium    0.245080\n",
      "0                           age    0.165075\n",
      "0                   region_code    0.106082\n",
      "0                vehicle_damage    0.068182\n",
      "0          policy_sales_channel    0.059776\n",
      "0            previously_insured    0.055602\n",
      "0      vehicle_age_below_1_year    0.013785\n",
      "0  vehicle_age_between_1_2_year    0.006396\n",
      "0                        gender    0.004898\n",
      "0      vehicle_age_over_2_years    0.002305\n",
      "0               driving_license    0.000472\n"
     ]
    }
   ],
   "source": [
    "importances = forest.feature_importances_\n",
    "std = np.std([tree.feature_importances_ for tree in forest.estimators_], axis=0)\n",
    "indices = np.argsort(importances)[::-1]\n",
    "\n",
    "# Print Feature Ranking\n",
    "print('Feature Importance:')\n",
    "df = pd.DataFrame()\n",
    "for i, j in zip( x_train_n, importances ):\n",
    "    aux = pd.DataFrame( {'feature':i, 'importance':j}, index=[0] )\n",
    "    df = pd.concat( [df, aux], axis=0 )\n",
    "    \n",
    "print(df.sort_values('importance', ascending=False))"
   ]
  },
  {
   "cell_type": "markdown",
   "id": "249e34a9",
   "metadata": {},
   "source": [
    "# 6.0 MACHINE LEARNING"
   ]
  },
  {
   "cell_type": "code",
   "execution_count": 29,
   "id": "8ec8e1fb",
   "metadata": {
    "ExecuteTime": {
     "end_time": "2022-10-06T21:02:18.282916Z",
     "start_time": "2022-10-06T21:02:18.240930Z"
    }
   },
   "outputs": [],
   "source": [
    "cols_selected = ['vintage', 'annual_premium', 'age', 'region_code', 'vehicle_damage', 'policy_sales_channel', 'previously_insured']\n",
    "\n",
    "x_train = df4[cols_selected]\n",
    "x_val = x_validation[cols_selected]\n",
    "y_val = y_validation.copy()"
   ]
  },
  {
   "cell_type": "markdown",
   "id": "b2b69ef3",
   "metadata": {},
   "source": [
    "## 6.1 KNN"
   ]
  },
  {
   "cell_type": "code",
   "execution_count": 30,
   "id": "06ef2f9c",
   "metadata": {
    "ExecuteTime": {
     "end_time": "2022-10-06T21:03:16.726412Z",
     "start_time": "2022-10-06T21:02:50.729014Z"
    }
   },
   "outputs": [
    {
     "data": {
      "image/png": "[encoded data removed]",
      "text/plain": [
       "<Figure size 432x288 with 1 Axes>"
      ]
     },
     "metadata": {
      "needs_background": "light"
     },
     "output_type": "display_data"
    }
   ],
   "source": [
    "# Model Definition\n",
    "knn_model = nh.KNeighborsClassifier( n_neighbors=7 )\n",
    "\n",
    "# Model Training\n",
    "knn_model.fit( x_train, y_train )\n",
    "\n",
    "# Model Prediction - Poder de Generalização\n",
    "yhat_knn = knn_model.predict_proba( x_val )\n",
    "\n",
    "# Acumulative Gain\n",
    "skplt.metrics.plot_cumulative_gain( y_val, yhat_knn );"
   ]
  },
  {
   "cell_type": "code",
   "execution_count": 35,
   "id": "7e5b5e8d",
   "metadata": {
    "ExecuteTime": {
     "end_time": "2022-10-06T21:05:15.561834Z",
     "start_time": "2022-10-06T21:05:15.553836Z"
    }
   },
   "outputs": [
    {
     "data": {
      "text/plain": [
       "array([[1.        , 0.        ],\n",
       "       [1.        , 0.        ],\n",
       "       [1.        , 0.        ],\n",
       "       ...,\n",
       "       [1.        , 0.        ],\n",
       "       [1.        , 0.        ],\n",
       "       [0.85714286, 0.14285714]])"
      ]
     },
     "execution_count": 35,
     "metadata": {},
     "output_type": "execute_result"
    }
   ],
   "source": [
    "yhat_knn"
   ]
  },
  {
   "cell_type": "code",
   "execution_count": null,
   "id": "1fce5844",
   "metadata": {
    "ExecuteTime": {
     "end_time": "2022-10-02T18:54:35.515958Z",
     "start_time": "2022-10-02T18:54:35.160057Z"
    }
   },
   "outputs": [],
   "source": [
    "#Scikitplot library is there to help\n",
    "skplt.metrics.plot_lift_curve( y_val, yhat_knn );"
   ]
  },
  {
   "cell_type": "markdown",
   "id": "6df7e5cb",
   "metadata": {},
   "source": [
    "## 6.2 Logistic Regression"
   ]
  },
  {
   "cell_type": "code",
   "execution_count": 36,
   "id": "5247fdd2",
   "metadata": {
    "ExecuteTime": {
     "end_time": "2022-10-06T21:05:22.215114Z",
     "start_time": "2022-10-06T21:05:20.713290Z"
    }
   },
   "outputs": [
    {
     "data": {
      "image/png": "[encoded data removed]",
      "text/plain": [
       "<Figure size 432x288 with 1 Axes>"
      ]
     },
     "metadata": {
      "needs_background": "light"
     },
     "output_type": "display_data"
    }
   ],
   "source": [
    "# Model Definition\n",
    "lr_model = lm.LogisticRegression( random_state=42 )\n",
    "\n",
    "# Model Training\n",
    "lr_model.fit( x_train, y_train )\n",
    "\n",
    "# Model Prediction\n",
    "yhat_lr = lr_model.predict_proba( x_val )\n",
    "\n",
    "# Acumulative Gain\n",
    "skplt.metrics.plot_cumulative_gain( y_val, yhat_lr );"
   ]
  },
  {
   "cell_type": "code",
   "execution_count": 37,
   "id": "3dbf7d54",
   "metadata": {
    "ExecuteTime": {
     "end_time": "2022-10-06T21:05:25.135219Z",
     "start_time": "2022-10-06T21:05:25.121223Z"
    }
   },
   "outputs": [
    {
     "data": {
      "text/plain": [
       "array([[9.99492109e-01, 5.07891284e-04],\n",
       "       [9.99103670e-01, 8.96330454e-04],\n",
       "       [9.99210782e-01, 7.89218233e-04],\n",
       "       ...,\n",
       "       [9.99053948e-01, 9.46052240e-04],\n",
       "       [9.98893967e-01, 1.10603331e-03],\n",
       "       [7.49083137e-01, 2.50916863e-01]])"
      ]
     },
     "execution_count": 37,
     "metadata": {},
     "output_type": "execute_result"
    }
   ],
   "source": [
    "yhat_lr"
   ]
  },
  {
   "cell_type": "code",
   "execution_count": 38,
   "id": "6e97cbc2",
   "metadata": {
    "ExecuteTime": {
     "end_time": "2022-10-06T21:05:37.699633Z",
     "start_time": "2022-10-06T21:05:37.465707Z"
    }
   },
   "outputs": [
    {
     "data": {
      "image/png": "[encoded data removed]",
      "text/plain": [
       "<Figure size 432x288 with 1 Axes>"
      ]
     },
     "metadata": {
      "needs_background": "light"
     },
     "output_type": "display_data"
    }
   ],
   "source": [
    "#Scikitplot library is there to help\n",
    "skplt.metrics.plot_lift_curve( y_val, yhat_lr );"
   ]
  },
  {
   "cell_type": "markdown",
   "id": "221243a4",
   "metadata": {},
   "source": [
    "## 6.3 Extra Trees"
   ]
  },
  {
   "cell_type": "code",
   "execution_count": null,
   "id": "5e6c2c7f",
   "metadata": {
    "ExecuteTime": {
     "end_time": "2022-09-30T19:10:28.784004Z",
     "start_time": "2022-09-30T19:08:59.422774Z"
    }
   },
   "outputs": [],
   "source": [
    "# Model Definition\n",
    "et_model = en.ExtraTreesClassifier( n_estimators=1000, n_jobs=-1, random_state=42 )\n",
    "\n",
    "# Model Training\n",
    "et_model.fit( x_train, y_train )\n",
    "\n",
    "# Model Prediction - Poder de Generalização\n",
    "yhat_et = et_model.predict_proba( x_val )\n",
    "\n",
    "# Acumulative Gain\n",
    "skplt.metrics.plot_cumulative_gain( y_val, yhat_et );"
   ]
  },
  {
   "cell_type": "code",
   "execution_count": null,
   "id": "e6b209dc",
   "metadata": {
    "ExecuteTime": {
     "end_time": "2022-09-30T19:10:29.141980Z",
     "start_time": "2022-09-30T19:10:28.791003Z"
    }
   },
   "outputs": [],
   "source": [
    "#Scikitplot library is there to help\n",
    "skplt.metrics.plot_lift_curve( y_val, yhat_et );"
   ]
  },
  {
   "cell_type": "markdown",
   "id": "90d3e8a7",
   "metadata": {},
   "source": [
    "## 6.4 Random Forest"
   ]
  },
  {
   "cell_type": "code",
   "execution_count": null,
   "id": "15dfed74",
   "metadata": {
    "ExecuteTime": {
     "end_time": "2022-09-30T19:13:07.895860Z",
     "start_time": "2022-09-30T19:10:48.103664Z"
    }
   },
   "outputs": [],
   "source": [
    "# model definition\n",
    "rf = en.RandomForestClassifier( n_estimators=1000, n_jobs=-1, random_state=42 ) \n",
    "\n",
    "# model training\n",
    "rf.fit( x_train, y_train )\n",
    "\n",
    "# model prediction\n",
    "yhat_rf = rf.predict_proba( x_val )\n",
    "\n",
    "# Accumulative Gain\n",
    "skplt.metrics.plot_cumulative_gain( y_val, yhat_rf );"
   ]
  },
  {
   "cell_type": "code",
   "execution_count": null,
   "id": "f2d7dd7b",
   "metadata": {
    "ExecuteTime": {
     "end_time": "2022-09-30T19:13:13.714030Z",
     "start_time": "2022-09-30T19:13:08.490407Z"
    }
   },
   "outputs": [],
   "source": [
    "#Scikitplot library is there to help\n",
    "skplt.metrics.plot_lift_curve( y_val, yhat_rf );"
   ]
  },
  {
   "cell_type": "markdown",
   "id": "1a97ae7d",
   "metadata": {
    "heading_collapsed": true
   },
   "source": [
    "# 7.0 MODEL PERFORMANCE"
   ]
  },
  {
   "cell_type": "code",
   "execution_count": null,
   "id": "a76e19b1",
   "metadata": {
    "ExecuteTime": {
     "end_time": "2022-10-02T19:09:33.954257Z",
     "start_time": "2022-10-02T19:09:33.943261Z"
    },
    "hidden": true
   },
   "outputs": [],
   "source": [
    "def precision_at_k( data, k=2000 ):\n",
    "    \n",
    "    # Reset Index\n",
    "    data = data.reset_index(drop=True)\n",
    "\n",
    "    # Create ranking order\n",
    "    data['ranking'] = data.index + 1\n",
    "\n",
    "    data['precision_at_k'] = data['response'].cumsum() / data['ranking']\n",
    "\n",
    "    data[['ranking', 'id', 'response', 'score', 'precision_at_k']].head()\n",
    "    \n",
    "    return data.loc[k, 'precision_at_k']"
   ]
  },
  {
   "cell_type": "code",
   "execution_count": null,
   "id": "16aa6c06",
   "metadata": {
    "ExecuteTime": {
     "end_time": "2022-10-02T19:09:34.537346Z",
     "start_time": "2022-10-02T19:09:34.517353Z"
    },
    "hidden": true
   },
   "outputs": [],
   "source": [
    "def recall_at_k( data, k=2000 ):\n",
    "    \n",
    "    # Reset Index\n",
    "    data = data.reset_index(drop=True)\n",
    "\n",
    "    # Create ranking order\n",
    "    data['ranking'] = data.index + 1\n",
    "\n",
    "    data['recall_at_k'] = data['response'].cumsum() / data['response'].sum()\n",
    "\n",
    "    data[['ranking', 'id', 'response', 'score', 'recall_at_k']].head()\n",
    "    \n",
    "    return data.loc[k, 'recall_at_k']"
   ]
  },
  {
   "cell_type": "code",
   "execution_count": null,
   "id": "af9b2904",
   "metadata": {
    "ExecuteTime": {
     "end_time": "2022-10-02T19:09:35.299620Z",
     "start_time": "2022-10-02T19:09:35.199652Z"
    },
    "hidden": true
   },
   "outputs": [],
   "source": [
    "df7 = x_validation.copy()\n",
    "df7['response'] = y_validation.copy()\n",
    "\n",
    "# Propensity Score\n",
    "df7['score'] = yhat_knn[:, 1].tolist()\n",
    "\n",
    "# Sort clients by propensity score\n",
    "df7 = df7.sort_values( 'score', ascending=False )\n",
    "\n",
    "# Compute precision at K\n",
    "precision_at_50 = precision_at_k( df7, k=50 )\n",
    "print('Precision At K: {}'.format( precision_at_50 ) )\n",
    "\n",
    "# Recall at K\n",
    "recall_at_50 = recall_at_k( df7, k=50 )\n",
    "print('Recall At K: {}'.format( recall_at_50 ) )"
   ]
  },
  {
   "cell_type": "markdown",
   "id": "7d8e66c0",
   "metadata": {},
   "source": [
    "# 8.0 DEPLOY TO PRODUCTION     "
   ]
  },
  {
   "cell_type": "code",
   "execution_count": 39,
   "id": "cc2c15a1",
   "metadata": {
    "ExecuteTime": {
     "end_time": "2022-10-06T21:06:04.703380Z",
     "start_time": "2022-10-06T21:06:04.682387Z"
    }
   },
   "outputs": [
    {
     "ename": "FileNotFoundError",
     "evalue": "[Errno 2] No such file or directory: 'C:/Users/Pedro/repos/health_insurance_cross_sell/h_insurance_cross_sell/pa004_health_insurance_cross_sell/health_insurance_cross-sell/models/model_lr.pkl'",
     "output_type": "error",
     "traceback": [
      "\u001b[1;31m---------------------------------------------------------------------------\u001b[0m",
      "\u001b[1;31mFileNotFoundError\u001b[0m                         Traceback (most recent call last)",
      "\u001b[1;32m~\\AppData\\Local\\Temp/ipykernel_11116/3660510404.py\u001b[0m in \u001b[0;36m<module>\u001b[1;34m\u001b[0m\n\u001b[1;32m----> 1\u001b[1;33m \u001b[0mpickle\u001b[0m\u001b[1;33m.\u001b[0m\u001b[0mdump\u001b[0m\u001b[1;33m(\u001b[0m \u001b[0mlr_model\u001b[0m\u001b[1;33m,\u001b[0m \u001b[0mopen\u001b[0m\u001b[1;33m(\u001b[0m\u001b[1;34m'C:/Users/Pedro/repos/health_insurance_cross_sell/h_insurance_cross_sell/pa004_health_insurance_cross_sell/health_insurance_cross-sell/models/model_lr.pkl'\u001b[0m\u001b[1;33m,\u001b[0m \u001b[1;34m'wb'\u001b[0m\u001b[1;33m)\u001b[0m \u001b[1;33m)\u001b[0m\u001b[1;33m\u001b[0m\u001b[1;33m\u001b[0m\u001b[0m\n\u001b[0m",
      "\u001b[1;31mFileNotFoundError\u001b[0m: [Errno 2] No such file or directory: 'C:/Users/Pedro/repos/health_insurance_cross_sell/h_insurance_cross_sell/pa004_health_insurance_cross_sell/health_insurance_cross-sell/models/model_lr.pkl'"
     ]
    }
   ],
   "source": [
    "pickle.dump( lr_model, open('C:/Users/Pedro/repos/health_insurance_cross_sell/h_insurance_cross_sell/pa004_health_insurance_cross_sell/health_insurance_cross-sell/models/model_lr.pkl', 'wb') )"
   ]
  },
  {
   "cell_type": "markdown",
   "id": "98bbff6a",
   "metadata": {},
   "source": [
    "## 8.1 Health Insurance Class"
   ]
  },
  {
   "cell_type": "code",
   "execution_count": null,
   "id": "7e78f422",
   "metadata": {
    "ExecuteTime": {
     "end_time": "2022-10-06T14:46:29.915796Z",
     "start_time": "2022-10-06T14:46:29.896802Z"
    }
   },
   "outputs": [],
   "source": [
    "import pickle\n",
    "import pandas as pd\n",
    "\n",
    "\n",
    "class HealthInsurance(object):\n",
    "\n",
    "    def __init__( self ):  \n",
    "        self.homepath = 'C:/Users/Pedro/repos/health_insurance_cross_sell/pa004_health_insurance_cross_sell/health_insurance_cross-sell/'\n",
    "        self.age_scaler                  = pickle.load( open(self.homepath + 'src/features/age_scaler.pkl', 'rb') )\n",
    "        self.annual_premium_scaler       = pickle.load( open(self.homepath + 'src/features/annual_premium_scaler.pkl', 'rb') )\n",
    "        self.policy_sales_channel_scaler = pickle.load( open(self.homepath + 'src/features/fe_policy_sales_channel_scaler.pkl', 'rb') )\n",
    "        self.gender_scaler               = pickle.load( open(self.homepath + 'src/features/target_encode_gender_scaler.pkl', 'rb') )\n",
    "        self.region_code_scaler          = pickle.load( open(self.homepath + 'src/features/target_encode_region_code_scaler.pkl', 'rb') )\n",
    "        self.vintage_scaler              = pickle.load( open(self.homepath + 'src/features/vintage_scaler.pkl', 'rb') )\n",
    "        \n",
    "        \n",
    "        \n",
    "    def data_cleaning(self, data):\n",
    "        \n",
    "        cols_new = ['id', 'gender', 'age', 'driving_license', 'region_code',\n",
    "                    'previously_insured', 'vehicle_age', 'vehicle_damage', \n",
    "                    'annual_premium', 'policy_sales_channel', 'vintage', 'response']\n",
    "\n",
    "        data.columns = cols_new\n",
    "        \n",
    "        return data\n",
    "    \n",
    "    \n",
    "    def feature_engineering(self, data):\n",
    "        \n",
    "        # vehicle_Age\n",
    "        data['vehicle_age'] = data['vehicle_age'].apply( lambda x: 'below_1_year' if x == '< 1 Year' else 'between_1_2_year' if x == '1-2 Year' else 'over_2_years' )\n",
    "\n",
    "        # vehicle_damage\n",
    "        data['vehicle_damage'] = data['vehicle_damage'].apply( lambda x: 1 if x == 'Yes' else 0 )\n",
    "        \n",
    "        return data\n",
    "    \n",
    "    \n",
    "    def data_preparation(self, data):\n",
    "        \n",
    "        # Annual Premium\n",
    "        data['annual_premium'] = self.annual_premium_scaler.transform( data[['annual_premium']].values )\n",
    "        \n",
    "        # Age\n",
    "        data['age'] = self.age_scaler.transform( data[['age']].values )\n",
    "        \n",
    "        # Vintage\n",
    "        data['vintage'] = self.vintage_scaler.transform( data[['vintage']].values )\n",
    "        \n",
    "        # Gender \n",
    "        data.loc[:, 'gender'] = data['gender'].map( self.gender_scaler )\n",
    "        \n",
    "        # Region Code \n",
    "        data.loc[:, 'region_code'] = data['region_code'].map( self.region_code_scaler )\n",
    "        \n",
    "        # Vehicle Age \n",
    "        data = pd.get_dummies( data, prefix='vehicle_age', columns=['vehicle_age'] )\n",
    "        \n",
    "        # Policy Sales Channel - Target Encoding / Frequency Encoding\n",
    "        data.loc[:, 'policy_sales_channel'] = data['policy_sales_channel'].map( self.policy_sales_channel_scaler )\n",
    "        \n",
    "        \n",
    "        # Best Features       \n",
    "        cols_selected = ['vintage', 'annual_premium', 'age', 'region_code', 'vehicle_damage', 'policy_sales_channel', 'previously_insured']\n",
    "        \n",
    "        return data[ cols_selected ] \n",
    "    \n",
    "    \n",
    "    def get_prediction( self, model, original_data, test_data ):\n",
    "        \n",
    "        # Model Prediction\n",
    "        pred = model.predict_proba( test_data )\n",
    "        \n",
    "        prediction = {'prediction': pred}\n",
    "        \n",
    "        # Join prediction into original data\n",
    "        original_data.append(prediction) \n",
    "        \n",
    "        return original_data.to_json( orient='records', date_format='iso' )"
   ]
  },
  {
   "cell_type": "markdown",
   "id": "c3e10708",
   "metadata": {},
   "source": [
    "## 8.2 API Handler"
   ]
  },
  {
   "cell_type": "code",
   "execution_count": null,
   "id": "40525c68",
   "metadata": {
    "ExecuteTime": {
     "end_time": "2022-10-06T14:40:43.730978Z",
     "start_time": "2022-10-06T14:40:40.632799Z"
    }
   },
   "outputs": [],
   "source": [
    "import pickle\n",
    "import pandas as pd\n",
    "from flask import Flask, request, Response\n",
    "from healthinsurance.HealthInsurance import HealthInsurance\n",
    "\n",
    "\n",
    "\n",
    "# Loading Model\n",
    "path = 'C:/Users/Pedro/repos/health_insurance_cross_sell/pa004_health_insurance_cross_sell/health_insurance_cross-sell/'\n",
    "model = pickle.load( open(path + 'models/model_knn.pkl', 'rb' ) )\n",
    "\n",
    "# Initialize API\n",
    "app = Flask(__name__)\n",
    "\n",
    "@app.route( '/healthinsurance/predict',  methods=['POST'] )\n",
    "\n",
    "def health_insurance_predict():\n",
    "    test_json = request.get_json()\n",
    "    \n",
    "    if test_json:\n",
    "        if isinstance(test_json, dict):\n",
    "            test_raw = pd.DataFrame( test_json, index=[0] )\n",
    "            \n",
    "        else:\n",
    "            test_raw = pd.DataFrame( test_json, columns=test_json[0].keys() )\n",
    "            \n",
    "        \n",
    "        pipeline = HealthInsurance()\n",
    "        \n",
    "        # Data Cleaning\n",
    "        df1 = pipeline.data_cleaning( test_raw )\n",
    "        \n",
    "        # Feature Engineering\n",
    "        df2 = pipeline.feature_engineering( df1 )\n",
    "        \n",
    "        # Data Preparation\n",
    "        df3 = pipeline.data_preparation( df2 )\n",
    "        \n",
    "        # Prediction\n",
    "        df_response = pipeline.get_prediction( model, test_raw, df3 )\n",
    "        \n",
    "        return df_response\n",
    "    \n",
    "    else:\n",
    "        return Response( '{}', status=200, mimetype='application/json' )\n",
    "    \n",
    "if __name__ == '__main__':\n",
    "    app.run( '192.168.15.59')"
   ]
  },
  {
   "cell_type": "code",
   "execution_count": 13,
   "id": "ee9f40df",
   "metadata": {
    "ExecuteTime": {
     "end_time": "2022-10-06T20:56:06.275623Z",
     "start_time": "2022-10-06T20:56:06.145665Z"
    }
   },
   "outputs": [],
   "source": [
    "import requests"
   ]
  },
  {
   "cell_type": "code",
   "execution_count": 14,
   "id": "c5701c1b",
   "metadata": {
    "ExecuteTime": {
     "end_time": "2022-10-06T20:56:07.950631Z",
     "start_time": "2022-10-06T20:56:07.938634Z"
    }
   },
   "outputs": [
    {
     "name": "stderr",
     "output_type": "stream",
     "text": [
      "C:\\Users\\Pedro\\AppData\\Local\\Temp/ipykernel_11116/1935542039.py:3: SettingWithCopyWarning: \n",
      "A value is trying to be set on a copy of a slice from a DataFrame.\n",
      "Try using .loc[row_indexer,col_indexer] = value instead\n",
      "\n",
      "See the caveats in the documentation: https://pandas.pydata.org/pandas-docs/stable/user_guide/indexing.html#returning-a-view-versus-a-copy\n",
      "  df_test['response'] = y_validation\n"
     ]
    }
   ],
   "source": [
    "# Loading DataSet\n",
    "df_test = x_validation\n",
    "df_test['response'] = y_validation"
   ]
  },
  {
   "cell_type": "code",
   "execution_count": 15,
   "id": "cbfafe3f",
   "metadata": {
    "ExecuteTime": {
     "end_time": "2022-10-06T20:56:17.104537Z",
     "start_time": "2022-10-06T20:56:17.091541Z"
    }
   },
   "outputs": [
    {
     "data": {
      "text/plain": [
       "Index(['id', 'gender', 'age', 'driving_license', 'region_code',\n",
       "       'previously_insured', 'vehicle_age', 'vehicle_damage', 'annual_premium',\n",
       "       'policy_sales_channel', 'vintage', 'response'],\n",
       "      dtype='object')"
      ]
     },
     "execution_count": 15,
     "metadata": {},
     "output_type": "execute_result"
    }
   ],
   "source": [
    "df_test.columns"
   ]
  },
  {
   "cell_type": "code",
   "execution_count": 17,
   "id": "ff7a23b6",
   "metadata": {
    "ExecuteTime": {
     "end_time": "2022-10-06T20:57:06.041498Z",
     "start_time": "2022-10-06T20:57:04.864875Z"
    }
   },
   "outputs": [],
   "source": [
    "data= json.dumps( df_test.to_dict( orient='records' ) )"
   ]
  },
  {
   "cell_type": "code",
   "execution_count": 22,
   "id": "22f17de1",
   "metadata": {
    "ExecuteTime": {
     "end_time": "2022-10-06T21:01:19.290713Z",
     "start_time": "2022-10-06T21:01:12.530081Z"
    }
   },
   "outputs": [
    {
     "name": "stdout",
     "output_type": "stream",
     "text": [
      "Status Code 200\n"
     ]
    }
   ],
   "source": [
    "# API Call\n",
    "url = 'http://192.168.15.59:5000/healthinsurance/predict'\n",
    "header = {'Content-type': 'application/json' }\n",
    "\n",
    "r = requests.post( url, data=data, headers=header )\n",
    "print( 'Status Code {}'.format( r.status_code ) )"
   ]
  },
  {
   "cell_type": "code",
   "execution_count": 24,
   "id": "b0b6b149",
   "metadata": {
    "ExecuteTime": {
     "end_time": "2022-10-06T21:01:34.287533Z",
     "start_time": "2022-10-06T21:01:33.049922Z"
    }
   },
   "outputs": [
    {
     "data": {
      "text/html": [
       "<div>\n",
       "<style scoped>\n",
       "    .dataframe tbody tr th:only-of-type {\n",
       "        vertical-align: middle;\n",
       "    }\n",
       "\n",
       "    .dataframe tbody tr th {\n",
       "        vertical-align: top;\n",
       "    }\n",
       "\n",
       "    .dataframe thead th {\n",
       "        text-align: right;\n",
       "    }\n",
       "</style>\n",
       "<table border=\"1\" class=\"dataframe\">\n",
       "  <thead>\n",
       "    <tr style=\"text-align: right;\">\n",
       "      <th></th>\n",
       "      <th>id</th>\n",
       "      <th>gender</th>\n",
       "      <th>age</th>\n",
       "      <th>driving_license</th>\n",
       "      <th>region_code</th>\n",
       "      <th>previously_insured</th>\n",
       "      <th>vehicle_age</th>\n",
       "      <th>vehicle_damage</th>\n",
       "      <th>annual_premium</th>\n",
       "      <th>policy_sales_channel</th>\n",
       "      <th>vintage</th>\n",
       "      <th>response</th>\n",
       "      <th>prediction</th>\n",
       "    </tr>\n",
       "  </thead>\n",
       "  <tbody>\n",
       "    <tr>\n",
       "      <th>0</th>\n",
       "      <td>18941</td>\n",
       "      <td>0.103670</td>\n",
       "      <td>0.123077</td>\n",
       "      <td>1</td>\n",
       "      <td>0.071796</td>\n",
       "      <td>1</td>\n",
       "      <td>over_2_years</td>\n",
       "      <td>0</td>\n",
       "      <td>-0.321648</td>\n",
       "      <td>152.0</td>\n",
       "      <td>0.982699</td>\n",
       "      <td>0</td>\n",
       "      <td>0.0</td>\n",
       "    </tr>\n",
       "    <tr>\n",
       "      <th>50817</th>\n",
       "      <td>343925</td>\n",
       "      <td>0.103670</td>\n",
       "      <td>0.553846</td>\n",
       "      <td>1</td>\n",
       "      <td>0.063403</td>\n",
       "      <td>1</td>\n",
       "      <td>over_2_years</td>\n",
       "      <td>0</td>\n",
       "      <td>-1.622948</td>\n",
       "      <td>124.0</td>\n",
       "      <td>0.096886</td>\n",
       "      <td>0</td>\n",
       "      <td>0.0</td>\n",
       "    </tr>\n",
       "    <tr>\n",
       "      <th>50816</th>\n",
       "      <td>286481</td>\n",
       "      <td>0.137999</td>\n",
       "      <td>0.046154</td>\n",
       "      <td>1</td>\n",
       "      <td>0.113676</td>\n",
       "      <td>1</td>\n",
       "      <td>over_2_years</td>\n",
       "      <td>0</td>\n",
       "      <td>-0.336869</td>\n",
       "      <td>152.0</td>\n",
       "      <td>0.148789</td>\n",
       "      <td>0</td>\n",
       "      <td>0.0</td>\n",
       "    </tr>\n",
       "    <tr>\n",
       "      <th>50815</th>\n",
       "      <td>216708</td>\n",
       "      <td>0.137999</td>\n",
       "      <td>0.184615</td>\n",
       "      <td>1</td>\n",
       "      <td>0.038909</td>\n",
       "      <td>0</td>\n",
       "      <td>over_2_years</td>\n",
       "      <td>0</td>\n",
       "      <td>-0.338670</td>\n",
       "      <td>163.0</td>\n",
       "      <td>0.878893</td>\n",
       "      <td>0</td>\n",
       "      <td>0.0</td>\n",
       "    </tr>\n",
       "    <tr>\n",
       "      <th>50814</th>\n",
       "      <td>354464</td>\n",
       "      <td>0.137999</td>\n",
       "      <td>0.600000</td>\n",
       "      <td>1</td>\n",
       "      <td>0.123759</td>\n",
       "      <td>0</td>\n",
       "      <td>over_2_years</td>\n",
       "      <td>0</td>\n",
       "      <td>-1.622948</td>\n",
       "      <td>26.0</td>\n",
       "      <td>0.380623</td>\n",
       "      <td>0</td>\n",
       "      <td>0.0</td>\n",
       "    </tr>\n",
       "    <tr>\n",
       "      <th>...</th>\n",
       "      <td>...</td>\n",
       "      <td>...</td>\n",
       "      <td>...</td>\n",
       "      <td>...</td>\n",
       "      <td>...</td>\n",
       "      <td>...</td>\n",
       "      <td>...</td>\n",
       "      <td>...</td>\n",
       "      <td>...</td>\n",
       "      <td>...</td>\n",
       "      <td>...</td>\n",
       "      <td>...</td>\n",
       "      <td>...</td>\n",
       "    </tr>\n",
       "    <tr>\n",
       "      <th>25405</th>\n",
       "      <td>340036</td>\n",
       "      <td>0.137999</td>\n",
       "      <td>0.123077</td>\n",
       "      <td>1</td>\n",
       "      <td>0.186373</td>\n",
       "      <td>0</td>\n",
       "      <td>over_2_years</td>\n",
       "      <td>0</td>\n",
       "      <td>2.586133</td>\n",
       "      <td>124.0</td>\n",
       "      <td>0.660900</td>\n",
       "      <td>1</td>\n",
       "      <td>0.0</td>\n",
       "    </tr>\n",
       "    <tr>\n",
       "      <th>25404</th>\n",
       "      <td>349752</td>\n",
       "      <td>0.137999</td>\n",
       "      <td>0.123077</td>\n",
       "      <td>1</td>\n",
       "      <td>0.098516</td>\n",
       "      <td>1</td>\n",
       "      <td>over_2_years</td>\n",
       "      <td>0</td>\n",
       "      <td>0.078404</td>\n",
       "      <td>152.0</td>\n",
       "      <td>0.280277</td>\n",
       "      <td>0</td>\n",
       "      <td>0.0</td>\n",
       "    </tr>\n",
       "    <tr>\n",
       "      <th>25403</th>\n",
       "      <td>374232</td>\n",
       "      <td>0.103670</td>\n",
       "      <td>0.261538</td>\n",
       "      <td>1</td>\n",
       "      <td>0.186373</td>\n",
       "      <td>0</td>\n",
       "      <td>over_2_years</td>\n",
       "      <td>0</td>\n",
       "      <td>-0.585521</td>\n",
       "      <td>124.0</td>\n",
       "      <td>0.121107</td>\n",
       "      <td>0</td>\n",
       "      <td>0.0</td>\n",
       "    </tr>\n",
       "    <tr>\n",
       "      <th>25401</th>\n",
       "      <td>204906</td>\n",
       "      <td>0.103670</td>\n",
       "      <td>0.046154</td>\n",
       "      <td>1</td>\n",
       "      <td>0.104448</td>\n",
       "      <td>1</td>\n",
       "      <td>over_2_years</td>\n",
       "      <td>0</td>\n",
       "      <td>0.482813</td>\n",
       "      <td>152.0</td>\n",
       "      <td>0.380623</td>\n",
       "      <td>0</td>\n",
       "      <td>0.0</td>\n",
       "    </tr>\n",
       "    <tr>\n",
       "      <th>76221</th>\n",
       "      <td>366920</td>\n",
       "      <td>0.137999</td>\n",
       "      <td>0.123077</td>\n",
       "      <td>1</td>\n",
       "      <td>0.099751</td>\n",
       "      <td>0</td>\n",
       "      <td>over_2_years</td>\n",
       "      <td>0</td>\n",
       "      <td>-1.622948</td>\n",
       "      <td>156.0</td>\n",
       "      <td>0.878893</td>\n",
       "      <td>1</td>\n",
       "      <td>0.0</td>\n",
       "    </tr>\n",
       "  </tbody>\n",
       "</table>\n",
       "<p>76222 rows × 13 columns</p>\n",
       "</div>"
      ],
      "text/plain": [
       "           id    gender       age  driving_license  region_code  \\\n",
       "0       18941  0.103670  0.123077                1     0.071796   \n",
       "50817  343925  0.103670  0.553846                1     0.063403   \n",
       "50816  286481  0.137999  0.046154                1     0.113676   \n",
       "50815  216708  0.137999  0.184615                1     0.038909   \n",
       "50814  354464  0.137999  0.600000                1     0.123759   \n",
       "...       ...       ...       ...              ...          ...   \n",
       "25405  340036  0.137999  0.123077                1     0.186373   \n",
       "25404  349752  0.137999  0.123077                1     0.098516   \n",
       "25403  374232  0.103670  0.261538                1     0.186373   \n",
       "25401  204906  0.103670  0.046154                1     0.104448   \n",
       "76221  366920  0.137999  0.123077                1     0.099751   \n",
       "\n",
       "       previously_insured   vehicle_age  vehicle_damage  annual_premium  \\\n",
       "0                       1  over_2_years               0       -0.321648   \n",
       "50817                   1  over_2_years               0       -1.622948   \n",
       "50816                   1  over_2_years               0       -0.336869   \n",
       "50815                   0  over_2_years               0       -0.338670   \n",
       "50814                   0  over_2_years               0       -1.622948   \n",
       "...                   ...           ...             ...             ...   \n",
       "25405                   0  over_2_years               0        2.586133   \n",
       "25404                   1  over_2_years               0        0.078404   \n",
       "25403                   0  over_2_years               0       -0.585521   \n",
       "25401                   1  over_2_years               0        0.482813   \n",
       "76221                   0  over_2_years               0       -1.622948   \n",
       "\n",
       "       policy_sales_channel   vintage  response  prediction  \n",
       "0                     152.0  0.982699         0         0.0  \n",
       "50817                 124.0  0.096886         0         0.0  \n",
       "50816                 152.0  0.148789         0         0.0  \n",
       "50815                 163.0  0.878893         0         0.0  \n",
       "50814                  26.0  0.380623         0         0.0  \n",
       "...                     ...       ...       ...         ...  \n",
       "25405                 124.0  0.660900         1         0.0  \n",
       "25404                 152.0  0.280277         0         0.0  \n",
       "25403                 124.0  0.121107         0         0.0  \n",
       "25401                 152.0  0.380623         0         0.0  \n",
       "76221                 156.0  0.878893         1         0.0  \n",
       "\n",
       "[76222 rows x 13 columns]"
      ]
     },
     "execution_count": 24,
     "metadata": {},
     "output_type": "execute_result"
    }
   ],
   "source": [
    "d1 = pd.DataFrame( r.json(), columns=r.json()[0].keys() )\n",
    "\n",
    "d1.sort_values( 'prediction', ascending=True )"
   ]
  },
  {
   "cell_type": "code",
   "execution_count": null,
   "id": "83945d6e",
   "metadata": {},
   "outputs": [],
   "source": []
  }
 ],
 "metadata": {
  "kernelspec": {
   "display_name": "Python 3 (ipykernel)",
   "language": "python",
   "name": "python3"
  },
  "language_info": {
   "codemirror_mode": {
    "name": "ipython",
    "version": 3
   },
   "file_extension": ".py",
   "mimetype": "text/x-python",
   "name": "python",
   "nbconvert_exporter": "python",
   "pygments_lexer": "ipython3",
   "version": "3.9.7"
  }
 },
 "nbformat": 4,
 "nbformat_minor": 5
}
