{
 "cells": [
  {
   "cell_type": "markdown",
   "id": "59249c27",
   "metadata": {},
   "source": [
    "# 0.0 HELPER FUNCTIONS & IMPORTS"
   ]
  },
  {
   "cell_type": "code",
   "execution_count": 119,
   "id": "aab40977",
   "metadata": {
    "ExecuteTime": {
     "end_time": "2022-10-10T22:50:11.197320Z",
     "start_time": "2022-10-10T22:50:11.177326Z"
    }
   },
   "outputs": [],
   "source": [
    "import pandas as pd\n",
    "import seaborn as sns\n",
    "import numpy as np\n",
    "import scikitplot as skplt\n",
    "import boruta as bt\n",
    "import pickle\n",
    "import xgboost as xgb\n",
    "import warnings\n",
    "import random\n",
    "\n",
    "from IPython.display import Image\n",
    "from IPython.core.display import HTML\n",
    "from matplotlib import pyplot as plt\n",
    "from scipy import stats\n",
    "from sklearn import preprocessing as pp\n",
    "from sklearn import model_selection as ms\n",
    "from sklearn import ensemble as en\n",
    "from sklearn import neighbors as nh\n",
    "from sklearn import linear_model as lm\n",
    "from xgboost import XGBClassifier\n",
    "from lightgbm import LGBMClassifier"
   ]
  },
  {
   "cell_type": "code",
   "execution_count": 111,
   "id": "efdae423",
   "metadata": {
    "ExecuteTime": {
     "end_time": "2022-10-10T17:48:22.023692Z",
     "start_time": "2022-10-10T17:48:21.945719Z"
    }
   },
   "outputs": [],
   "source": [
    "# Funções\n",
    "\n",
    "def jupyter_settings():\n",
    "    %matplotlib inline\n",
    "    %pylab inline\n",
    "    \n",
    "    plt.style.use( 'bmh' )\n",
    "    plt.rcParams['figure.figsize'] = [25, 12]\n",
    "    plt.rcParams['font.size'] = 24\n",
    "   \n",
    "\n",
    "    display( HTML( '<style>.container { width:80% !important; }</style>') )\n",
    "    pd.options.display.max_columns = None\n",
    "    pd.options.display.max_rows = None\n",
    "    pd.set_option( 'display.expand_frame_repr', False )\n",
    "    \n",
    "    sns.set()\n",
    "    \n",
    "def cramer_v( x, y ):\n",
    "    cm = pd.crosstab( x, y ).to_numpy()\n",
    "    n = cm.sum()\n",
    "    r, k = cm.shape\n",
    "\n",
    "    chi2 = stats.chi2_contingency( cm )[0]\n",
    "    chi2corr = max( 0, chi2 - (k-1)*(r-1)/(n-1) )\n",
    "\n",
    "    kcorr = k - (k-1)**2/(n-1)\n",
    "    rcorr = r - (r-1)**2/(n-1)\n",
    "    return np.sqrt( (chi2corr/n) / ( min( kcorr-1, rcorr-1 ) ) )\n",
    "\n",
    "\n",
    "\n",
    "\n",
    "def concat_order_data( x_val, y_val, yhat ):\n",
    "    \n",
    "    # copy data\n",
    "    data = x_val.copy()\n",
    "    data['response'] = y_val.copy()\n",
    "\n",
    "    # propensity score\n",
    "    data['score'] = yhat[:, 1].tolist()\n",
    "\n",
    "    # sorted clients by propensity score\n",
    "    data = data.sort_values( 'score', ascending=False )\n",
    "    \n",
    "    return data\n",
    "\n",
    "\n",
    "\n",
    "\n",
    "def precision_at_k( data, k=20000 ):\n",
    "    \n",
    "    # Reset Index\n",
    "    data = data.reset_index(drop=True)\n",
    "\n",
    "    # Create ranking order\n",
    "    data['ranking'] = data.index + 1\n",
    "\n",
    "    data['precision_at_k'] = data['response'].cumsum() / data['ranking']\n",
    "    \n",
    "    return data.loc[k, 'precision_at_k']\n",
    "\n",
    "\n",
    "\n",
    "def recall_at_k( data, k=20000 ):\n",
    "    \n",
    "    # Reset Index\n",
    "    data = data.reset_index(drop=True)\n",
    "\n",
    "    # Create ranking order\n",
    "    data['ranking'] = data.index + 1\n",
    "\n",
    "    data['recall_at_k'] = data['response'].cumsum() / data['response'].sum()\n",
    "    \n",
    "    return data.loc[k, 'recall_at_k']\n",
    "\n",
    "\n",
    "\n",
    "\n",
    "def at_k_metrics( model_name, x_val, y_val, yhat, k=20000 ):\n",
    "    \n",
    "    data = concat_order_data( x_val, y_val, yhat )\n",
    "    \n",
    "    pr = precision_at_k( data, k )\n",
    "    re = recall_at_k( data, k )\n",
    "    \n",
    "    return pd.DataFrame({\"Precision_at_k\": \"{}\".format(np.round(pr,3)),\n",
    "                         \"Recall_at_k\": \"{}\".format(np.round(re,3))}, index=[model_name])\n",
    "\n",
    "\n",
    "def cross_validation(model_name, model, x_train, y_train, k=20000 ):\n",
    "    \n",
    "    precision_at_k_list = []\n",
    "    recall_at_k_list = []\n",
    "\n",
    "    skf = ms.StratifiedKFold(n_splits=5, shuffle=True, random_state=5)\n",
    "    \n",
    "    for train_index, test_index in skf.split(x_train, y_train):\n",
    "        \n",
    "        x_train_cv = x_train.iloc[train_index]\n",
    "        y_train_cv = y_train.iloc[train_index]\n",
    "        \n",
    "        x_test_cv = x_train.iloc[test_index]\n",
    "        y_test_cv = y_train.iloc[test_index]\n",
    "        \n",
    "        # model training\n",
    "        model.fit(x_train_cv, y_train_cv)\n",
    "        \n",
    "        # prediction\n",
    "        pred = model.predict_proba(x_test_cv)\n",
    "        \n",
    "        # concat\n",
    "        data = x_test_cv.copy()\n",
    "        data['response'] = y_test_cv.copy()\n",
    "        \n",
    "        data['score'] = pred[:, 1].tolist()\n",
    "        \n",
    "        data = data.sort_values( 'score', ascending=False )\n",
    "        \n",
    "        # measuring at k metrics\n",
    "        precision_at_k_list.append( precision_at_k( data, k ) )\n",
    "        recall_at_k_list.append(recall_at_k( data, k ) )\n",
    "        \n",
    "    \n",
    "    precision_at_k_mean, precision_at_k_std = np.round( np.mean( precision_at_k_list ), 3 ), np.round( np.std( precision_at_k_list ), 3 )\n",
    "    recall_at_k_mean, recall_at_k_std = np.round( np.mean( recall_at_k_list ), 3 ), np.round( np.std( recall_at_k_list ), 3 )\n",
    "   \n",
    "    \n",
    "    return pd.DataFrame({\"Precision_at_k\": \"{} +/- {}\".format(precision_at_k_mean, precision_at_k_std),\n",
    "                         \"Recall_at_k\": \"{} +/- {}\".format(recall_at_k_mean, recall_at_k_std)}, index=[model_name])\n"
   ]
  },
  {
   "cell_type": "code",
   "execution_count": 3,
   "id": "fc360cf0",
   "metadata": {
    "ExecuteTime": {
     "end_time": "2022-10-10T14:15:31.892231Z",
     "start_time": "2022-10-10T14:15:31.871238Z"
    }
   },
   "outputs": [
    {
     "name": "stdout",
     "output_type": "stream",
     "text": [
      "Populating the interactive namespace from numpy and matplotlib\n"
     ]
    },
    {
     "data": {
      "text/html": [
       "<style>.container { width:80% !important; }</style>"
      ],
      "text/plain": [
       "<IPython.core.display.HTML object>"
      ]
     },
     "metadata": {},
     "output_type": "display_data"
    }
   ],
   "source": [
    "jupyter_settings()"
   ]
  },
  {
   "cell_type": "code",
   "execution_count": 4,
   "id": "73346b4a",
   "metadata": {
    "ExecuteTime": {
     "end_time": "2022-10-10T14:15:32.822307Z",
     "start_time": "2022-10-10T14:15:32.341285Z"
    }
   },
   "outputs": [],
   "source": [
    "df_raw = pd.read_csv('C:/Users/Pedro/repos/health_insurance_cross_sell/pa004_health_insurance_cross_sell/health_insurance_cross-sell/data/raw/train.csv')"
   ]
  },
  {
   "cell_type": "code",
   "execution_count": 5,
   "id": "21f4eeda",
   "metadata": {
    "ExecuteTime": {
     "end_time": "2022-10-07T15:00:10.942011Z",
     "start_time": "2022-10-07T15:00:10.904022Z"
    }
   },
   "outputs": [
    {
     "data": {
      "text/html": [
       "<div>\n",
       "<style scoped>\n",
       "    .dataframe tbody tr th:only-of-type {\n",
       "        vertical-align: middle;\n",
       "    }\n",
       "\n",
       "    .dataframe tbody tr th {\n",
       "        vertical-align: top;\n",
       "    }\n",
       "\n",
       "    .dataframe thead th {\n",
       "        text-align: right;\n",
       "    }\n",
       "</style>\n",
       "<table border=\"1\" class=\"dataframe\">\n",
       "  <thead>\n",
       "    <tr style=\"text-align: right;\">\n",
       "      <th></th>\n",
       "      <th>id</th>\n",
       "      <th>Gender</th>\n",
       "      <th>Age</th>\n",
       "      <th>Driving_License</th>\n",
       "      <th>Region_Code</th>\n",
       "      <th>Previously_Insured</th>\n",
       "      <th>Vehicle_Age</th>\n",
       "      <th>Vehicle_Damage</th>\n",
       "      <th>Annual_Premium</th>\n",
       "      <th>Policy_Sales_Channel</th>\n",
       "      <th>Vintage</th>\n",
       "      <th>Response</th>\n",
       "    </tr>\n",
       "  </thead>\n",
       "  <tbody>\n",
       "    <tr>\n",
       "      <th>0</th>\n",
       "      <td>1</td>\n",
       "      <td>Male</td>\n",
       "      <td>44</td>\n",
       "      <td>1</td>\n",
       "      <td>28.0</td>\n",
       "      <td>0</td>\n",
       "      <td>&gt; 2 Years</td>\n",
       "      <td>Yes</td>\n",
       "      <td>40454.0</td>\n",
       "      <td>26.0</td>\n",
       "      <td>217</td>\n",
       "      <td>1</td>\n",
       "    </tr>\n",
       "    <tr>\n",
       "      <th>1</th>\n",
       "      <td>2</td>\n",
       "      <td>Male</td>\n",
       "      <td>76</td>\n",
       "      <td>1</td>\n",
       "      <td>3.0</td>\n",
       "      <td>0</td>\n",
       "      <td>1-2 Year</td>\n",
       "      <td>No</td>\n",
       "      <td>33536.0</td>\n",
       "      <td>26.0</td>\n",
       "      <td>183</td>\n",
       "      <td>0</td>\n",
       "    </tr>\n",
       "    <tr>\n",
       "      <th>2</th>\n",
       "      <td>3</td>\n",
       "      <td>Male</td>\n",
       "      <td>47</td>\n",
       "      <td>1</td>\n",
       "      <td>28.0</td>\n",
       "      <td>0</td>\n",
       "      <td>&gt; 2 Years</td>\n",
       "      <td>Yes</td>\n",
       "      <td>38294.0</td>\n",
       "      <td>26.0</td>\n",
       "      <td>27</td>\n",
       "      <td>1</td>\n",
       "    </tr>\n",
       "    <tr>\n",
       "      <th>3</th>\n",
       "      <td>4</td>\n",
       "      <td>Male</td>\n",
       "      <td>21</td>\n",
       "      <td>1</td>\n",
       "      <td>11.0</td>\n",
       "      <td>1</td>\n",
       "      <td>&lt; 1 Year</td>\n",
       "      <td>No</td>\n",
       "      <td>28619.0</td>\n",
       "      <td>152.0</td>\n",
       "      <td>203</td>\n",
       "      <td>0</td>\n",
       "    </tr>\n",
       "    <tr>\n",
       "      <th>4</th>\n",
       "      <td>5</td>\n",
       "      <td>Female</td>\n",
       "      <td>29</td>\n",
       "      <td>1</td>\n",
       "      <td>41.0</td>\n",
       "      <td>1</td>\n",
       "      <td>&lt; 1 Year</td>\n",
       "      <td>No</td>\n",
       "      <td>27496.0</td>\n",
       "      <td>152.0</td>\n",
       "      <td>39</td>\n",
       "      <td>0</td>\n",
       "    </tr>\n",
       "  </tbody>\n",
       "</table>\n",
       "</div>"
      ],
      "text/plain": [
       "   id  Gender  Age  Driving_License  Region_Code  Previously_Insured Vehicle_Age Vehicle_Damage  Annual_Premium  Policy_Sales_Channel  Vintage  Response\n",
       "0   1    Male   44                1         28.0                   0   > 2 Years            Yes         40454.0                  26.0      217         1\n",
       "1   2    Male   76                1          3.0                   0    1-2 Year             No         33536.0                  26.0      183         0\n",
       "2   3    Male   47                1         28.0                   0   > 2 Years            Yes         38294.0                  26.0       27         1\n",
       "3   4    Male   21                1         11.0                   1    < 1 Year             No         28619.0                 152.0      203         0\n",
       "4   5  Female   29                1         41.0                   1    < 1 Year             No         27496.0                 152.0       39         0"
      ]
     },
     "execution_count": 5,
     "metadata": {},
     "output_type": "execute_result"
    }
   ],
   "source": [
    "df_raw.head()"
   ]
  },
  {
   "cell_type": "markdown",
   "id": "06fd9c32",
   "metadata": {
    "heading_collapsed": true
   },
   "source": [
    "# 1.0 DESCRIÇÃO DOS DADOS"
   ]
  },
  {
   "cell_type": "code",
   "execution_count": 5,
   "id": "a7623851",
   "metadata": {
    "ExecuteTime": {
     "end_time": "2022-10-10T14:15:34.682238Z",
     "start_time": "2022-10-10T14:15:34.655249Z"
    },
    "hidden": true
   },
   "outputs": [],
   "source": [
    "df1 = df_raw.copy()"
   ]
  },
  {
   "cell_type": "code",
   "execution_count": 6,
   "id": "2506db8e",
   "metadata": {
    "ExecuteTime": {
     "end_time": "2022-10-10T14:15:35.839338Z",
     "start_time": "2022-10-10T14:15:35.822344Z"
    },
    "hidden": true
   },
   "outputs": [],
   "source": [
    "cols_new = ['id', 'gender', 'age', 'driving_license', 'region_code',\n",
    "       'previously_insured', 'vehicle_age', 'vehicle_damage', 'annual_premium',\n",
    "       'policy_sales_channel', 'vintage', 'response']\n",
    "\n",
    "df1.columns = cols_new"
   ]
  },
  {
   "cell_type": "code",
   "execution_count": 8,
   "id": "2c1682fd",
   "metadata": {
    "ExecuteTime": {
     "end_time": "2022-10-07T15:00:13.757826Z",
     "start_time": "2022-10-07T15:00:13.671832Z"
    },
    "hidden": true
   },
   "outputs": [
    {
     "name": "stdout",
     "output_type": "stream",
     "text": [
      "<class 'pandas.core.frame.DataFrame'>\n",
      "RangeIndex: 381109 entries, 0 to 381108\n",
      "Data columns (total 12 columns):\n",
      " #   Column                Non-Null Count   Dtype  \n",
      "---  ------                --------------   -----  \n",
      " 0   id                    381109 non-null  int64  \n",
      " 1   gender                381109 non-null  object \n",
      " 2   age                   381109 non-null  int64  \n",
      " 3   driving_license       381109 non-null  int64  \n",
      " 4   region_code           381109 non-null  float64\n",
      " 5   previously_insured    381109 non-null  int64  \n",
      " 6   vehicle_age           381109 non-null  object \n",
      " 7   vehicle_damage        381109 non-null  object \n",
      " 8   annual_premium        381109 non-null  float64\n",
      " 9   policy_sales_channel  381109 non-null  float64\n",
      " 10  vintage               381109 non-null  int64  \n",
      " 11  response              381109 non-null  int64  \n",
      "dtypes: float64(3), int64(6), object(3)\n",
      "memory usage: 34.9+ MB\n"
     ]
    }
   ],
   "source": [
    "# Verificando características do DataFrame\n",
    "df1.info(verbose=True)"
   ]
  },
  {
   "cell_type": "code",
   "execution_count": 9,
   "id": "74e85cd9",
   "metadata": {
    "ExecuteTime": {
     "end_time": "2022-10-07T15:00:14.091946Z",
     "start_time": "2022-10-07T15:00:14.081950Z"
    },
    "hidden": true
   },
   "outputs": [
    {
     "name": "stdout",
     "output_type": "stream",
     "text": [
      "Número de colunas: 12\n",
      "Número de linhas: 381109\n"
     ]
    }
   ],
   "source": [
    "# Printando numero de linhas e colunas\n",
    "print('Número de colunas: {}'.format(df1.shape[1]))\n",
    "print('Número de linhas: {}'.format(df1.shape[0]))"
   ]
  },
  {
   "cell_type": "code",
   "execution_count": 10,
   "id": "0d9d6702",
   "metadata": {
    "ExecuteTime": {
     "end_time": "2022-10-07T15:00:15.215651Z",
     "start_time": "2022-10-07T15:00:14.798784Z"
    },
    "hidden": true
   },
   "outputs": [
    {
     "data": {
      "text/html": [
       "<div>\n",
       "<style scoped>\n",
       "    .dataframe tbody tr th:only-of-type {\n",
       "        vertical-align: middle;\n",
       "    }\n",
       "\n",
       "    .dataframe tbody tr th {\n",
       "        vertical-align: top;\n",
       "    }\n",
       "\n",
       "    .dataframe thead th {\n",
       "        text-align: right;\n",
       "    }\n",
       "</style>\n",
       "<table border=\"1\" class=\"dataframe\">\n",
       "  <thead>\n",
       "    <tr style=\"text-align: right;\">\n",
       "      <th></th>\n",
       "      <th>attributes</th>\n",
       "      <th>min</th>\n",
       "      <th>max</th>\n",
       "      <th>range</th>\n",
       "      <th>mean</th>\n",
       "      <th>median</th>\n",
       "      <th>std</th>\n",
       "      <th>skew</th>\n",
       "      <th>kurtosis</th>\n",
       "    </tr>\n",
       "  </thead>\n",
       "  <tbody>\n",
       "    <tr>\n",
       "      <th>0</th>\n",
       "      <td>age</td>\n",
       "      <td>20.0</td>\n",
       "      <td>85.0</td>\n",
       "      <td>65.0</td>\n",
       "      <td>38.822584</td>\n",
       "      <td>36.0</td>\n",
       "      <td>15.511591</td>\n",
       "      <td>0.672539</td>\n",
       "      <td>-0.565655</td>\n",
       "    </tr>\n",
       "    <tr>\n",
       "      <th>1</th>\n",
       "      <td>annual_premium</td>\n",
       "      <td>2630.0</td>\n",
       "      <td>540165.0</td>\n",
       "      <td>537535.0</td>\n",
       "      <td>30564.389581</td>\n",
       "      <td>31669.0</td>\n",
       "      <td>17213.132474</td>\n",
       "      <td>1.766087</td>\n",
       "      <td>34.004569</td>\n",
       "    </tr>\n",
       "    <tr>\n",
       "      <th>2</th>\n",
       "      <td>vintage</td>\n",
       "      <td>10.0</td>\n",
       "      <td>299.0</td>\n",
       "      <td>289.0</td>\n",
       "      <td>154.347397</td>\n",
       "      <td>154.0</td>\n",
       "      <td>83.671194</td>\n",
       "      <td>0.003030</td>\n",
       "      <td>-1.200688</td>\n",
       "    </tr>\n",
       "    <tr>\n",
       "      <th>3</th>\n",
       "      <td>driving_license</td>\n",
       "      <td>0.0</td>\n",
       "      <td>1.0</td>\n",
       "      <td>1.0</td>\n",
       "      <td>0.997869</td>\n",
       "      <td>1.0</td>\n",
       "      <td>0.046109</td>\n",
       "      <td>-21.595182</td>\n",
       "      <td>464.354302</td>\n",
       "    </tr>\n",
       "  </tbody>\n",
       "</table>\n",
       "</div>"
      ],
      "text/plain": [
       "        attributes     min       max     range          mean   median           std       skew    kurtosis\n",
       "0              age    20.0      85.0      65.0     38.822584     36.0     15.511591   0.672539   -0.565655\n",
       "1   annual_premium  2630.0  540165.0  537535.0  30564.389581  31669.0  17213.132474   1.766087   34.004569\n",
       "2          vintage    10.0     299.0     289.0    154.347397    154.0     83.671194   0.003030   -1.200688\n",
       "3  driving_license     0.0       1.0       1.0      0.997869      1.0      0.046109 -21.595182  464.354302"
      ]
     },
     "execution_count": 10,
     "metadata": {},
     "output_type": "execute_result"
    }
   ],
   "source": [
    "# Estatistica Descritiva\n",
    "df_statistics = df1[['age', 'annual_premium', 'vintage', 'driving_license']]\n",
    "\n",
    "# Central Tendency - mean, median\n",
    "ct1 = pd.DataFrame( df_statistics.apply( np.mean ) ).T\n",
    "ct2 = pd.DataFrame( df_statistics.apply( np.median ) ).T\n",
    "\n",
    "# Dispersion - std, min, max, range, skew, kurtosis\n",
    "d1 = pd.DataFrame( df_statistics.apply( np.std ) ).T\n",
    "d2 = pd.DataFrame( df_statistics.apply( min ) ).T\n",
    "d3 = pd.DataFrame( df_statistics.apply( max ) ).T\n",
    "d4 = pd.DataFrame( df_statistics.apply( lambda x: x.max() - x.min() ) ).T\n",
    "d5 = pd.DataFrame( df_statistics.apply( lambda x: x.skew() ) ).T\n",
    "d6 = pd.DataFrame( df_statistics.apply( lambda x: x.kurtosis() ) ).T\n",
    "\n",
    "# Concat\n",
    "m = pd.concat( [d2, d3, d4, ct1, ct2, d1, d5, d6] ).T.reset_index()\n",
    "m.columns = ['attributes', 'min', 'max', 'range', 'mean', 'median', 'std', 'skew', 'kurtosis']\n",
    "m"
   ]
  },
  {
   "cell_type": "code",
   "execution_count": 11,
   "id": "ad3c28a0",
   "metadata": {
    "ExecuteTime": {
     "end_time": "2022-10-07T15:00:15.325694Z",
     "start_time": "2022-10-07T15:00:15.302702Z"
    },
    "hidden": true
   },
   "outputs": [
    {
     "data": {
      "text/html": [
       "<div>\n",
       "<style scoped>\n",
       "    .dataframe tbody tr th:only-of-type {\n",
       "        vertical-align: middle;\n",
       "    }\n",
       "\n",
       "    .dataframe tbody tr th {\n",
       "        vertical-align: top;\n",
       "    }\n",
       "\n",
       "    .dataframe thead th {\n",
       "        text-align: right;\n",
       "    }\n",
       "</style>\n",
       "<table border=\"1\" class=\"dataframe\">\n",
       "  <thead>\n",
       "    <tr style=\"text-align: right;\">\n",
       "      <th></th>\n",
       "      <th>response</th>\n",
       "      <th>id</th>\n",
       "    </tr>\n",
       "  </thead>\n",
       "  <tbody>\n",
       "    <tr>\n",
       "      <th>0</th>\n",
       "      <td>0</td>\n",
       "      <td>334399</td>\n",
       "    </tr>\n",
       "    <tr>\n",
       "      <th>1</th>\n",
       "      <td>1</td>\n",
       "      <td>46710</td>\n",
       "    </tr>\n",
       "  </tbody>\n",
       "</table>\n",
       "</div>"
      ],
      "text/plain": [
       "   response      id\n",
       "0         0  334399\n",
       "1         1   46710"
      ]
     },
     "execution_count": 11,
     "metadata": {},
     "output_type": "execute_result"
    }
   ],
   "source": [
    "# Verificando o balanceamento da variável resposta\n",
    "df_response = df1[['response', 'id']].groupby('response').count().reset_index()\n",
    "df_response"
   ]
  },
  {
   "cell_type": "code",
   "execution_count": 12,
   "id": "66c97d5d",
   "metadata": {
    "ExecuteTime": {
     "end_time": "2022-10-07T15:00:15.991683Z",
     "start_time": "2022-10-07T15:00:15.767887Z"
    },
    "hidden": true
   },
   "outputs": [
    {
     "data": {
      "image/png": "[encoded data removed]",
      "text/plain": [
       "<Figure size 1800x864 with 1 Axes>"
      ]
     },
     "metadata": {},
     "output_type": "display_data"
    }
   ],
   "source": [
    "# Colocando em gráfico a variavel resposta\n",
    "sns.barplot( data=df_response, x='response', y='id' );"
   ]
  },
  {
   "cell_type": "markdown",
   "id": "aa0bbd22",
   "metadata": {
    "heading_collapsed": true
   },
   "source": [
    "# 2.0 FEATURE ENGINEERING"
   ]
  },
  {
   "cell_type": "code",
   "execution_count": 7,
   "id": "f9397af0",
   "metadata": {
    "ExecuteTime": {
     "end_time": "2022-10-10T14:15:41.232382Z",
     "start_time": "2022-10-10T14:15:41.197395Z"
    },
    "hidden": true
   },
   "outputs": [],
   "source": [
    "df2 = df1.copy()"
   ]
  },
  {
   "cell_type": "markdown",
   "id": "c7d0ca38",
   "metadata": {
    "heading_collapsed": true,
    "hidden": true
   },
   "source": [
    "## 2.1 Mapa Mental de Hipóteses"
   ]
  },
  {
   "cell_type": "code",
   "execution_count": null,
   "id": "b21872c1",
   "metadata": {
    "ExecuteTime": {
     "end_time": "2022-09-29T18:11:16.413474Z",
     "start_time": "2022-09-29T18:11:16.379486Z"
    },
    "hidden": true
   },
   "outputs": [],
   "source": [
    "Image('C:/Users/Pedro/repos/health_insurance_cross_sell/pa004_health_insurance_cross_sell/health_insurance_cross-sell/img/car_insurance.png')"
   ]
  },
  {
   "cell_type": "markdown",
   "id": "ebf8cf0c",
   "metadata": {
    "heading_collapsed": true,
    "hidden": true
   },
   "source": [
    "## 2.2 Criação das Hipóteses"
   ]
  },
  {
   "cell_type": "markdown",
   "id": "22362a42",
   "metadata": {
    "heading_collapsed": true,
    "hidden": true
   },
   "source": [
    "### 2.2.1 Hipóteses de Clientes"
   ]
  },
  {
   "cell_type": "markdown",
   "id": "d54ab0be",
   "metadata": {
    "hidden": true
   },
   "source": [
    "**1.** 100% dos clientes sem carteira de habilitação não aderem ao seguro.\n",
    "\n",
    "**2.** Clientes com mais dias associados tendem a aderir ao seguro.\n",
    "\n",
    "**3.** 100% dos clientes que ja tiveram o carro batido aderem ao seguro.\n",
    "\n",
    "**4.** Clientes mais velhos tendem a aderir ao seguro.\n",
    "\n",
    "**5.** Mulheres tendem a aderir ao seguro 30% mais que homens."
   ]
  },
  {
   "cell_type": "markdown",
   "id": "61b12c36",
   "metadata": {
    "heading_collapsed": true,
    "hidden": true
   },
   "source": [
    "### 2.2.1 Hipóteses de Localização"
   ]
  },
  {
   "cell_type": "markdown",
   "id": "f2fdce49",
   "metadata": {
    "hidden": true
   },
   "source": [
    "**1.** Clientes em zona rural aderem menos ao seguro.\n",
    "\n",
    "**2.** Clientes em cidades grandes aderem mais ao seguro."
   ]
  },
  {
   "cell_type": "markdown",
   "id": "92eaabb5",
   "metadata": {
    "heading_collapsed": true,
    "hidden": true
   },
   "source": [
    "### 2.2.1 Hipóteses de Veiculo"
   ]
  },
  {
   "cell_type": "markdown",
   "id": "159d3365",
   "metadata": {
    "hidden": true
   },
   "source": [
    "**1.** Com veículo mais velho tendem a não aderir ao seguro.\n",
    "\n",
    "**2.** 100% dos clientes que ja tem seguro de carro não aderem ao seguro."
   ]
  },
  {
   "cell_type": "markdown",
   "id": "b4b9a874",
   "metadata": {
    "heading_collapsed": true,
    "hidden": true
   },
   "source": [
    "## 2.3 Lista Final de Hipóteses"
   ]
  },
  {
   "cell_type": "markdown",
   "id": "5e2d8f88",
   "metadata": {
    "ExecuteTime": {
     "end_time": "2022-09-23T14:03:23.893795Z",
     "start_time": "2022-09-23T14:03:23.879799Z"
    },
    "hidden": true
   },
   "source": [
    "**1.** 100% dos clientes sem carteira de habilitação não aderem ao seguro.\n",
    "\n",
    "**2.** Clientes com mais dias associados tendem a aderir ao seguro.\n",
    "\n",
    "**3.** 100% dos clientes que ja tiveram o carro batido aderem ao seguro.\n",
    "\n",
    "**4.** Clientes mais velhos tendem a aderir ao seguro.\n",
    "\n",
    "**5.** Mulheres tendem a aderir ao seguro 30% mais que homens.\n",
    "\n",
    "**6.** Clientes em zona rural aderem menos ao seguro.\n",
    "\n",
    "**7.** Clientes em cidades grandes aderem mais ao seguro.\n",
    "\n",
    "**8.** Com veículo mais velho tendem a não aderir ao seguro.\n",
    "\n",
    "**9.** 100% dos clientes que ja tem seguro de carro não aderem ao seguro."
   ]
  },
  {
   "cell_type": "markdown",
   "id": "de6865c1",
   "metadata": {
    "hidden": true
   },
   "source": [
    "## 2.4 Feature Engineering"
   ]
  },
  {
   "cell_type": "code",
   "execution_count": 8,
   "id": "9b67e664",
   "metadata": {
    "ExecuteTime": {
     "end_time": "2022-10-10T14:15:43.040310Z",
     "start_time": "2022-10-10T14:15:42.773395Z"
    },
    "hidden": true
   },
   "outputs": [],
   "source": [
    "# vehicle_Age\n",
    "df2['vehicle_age'] = df2['vehicle_age'].apply( lambda x: 'below_1_year' if x == '< 1 Year' else 'between_1_2_year' if x == '1-2 Year' else 'over_2_years' )\n",
    "\n",
    "# vehicle_damage\n",
    "df2['vehicle_damage'] = df2['vehicle_damage'].apply( lambda x: 1 if x == 'Yes' else 0 )"
   ]
  },
  {
   "cell_type": "code",
   "execution_count": 9,
   "id": "33bdbfcb",
   "metadata": {
    "ExecuteTime": {
     "end_time": "2022-10-10T14:15:43.954926Z",
     "start_time": "2022-10-10T14:15:43.941931Z"
    },
    "hidden": true
   },
   "outputs": [
    {
     "data": {
      "text/plain": [
       "1    192413\n",
       "0    188696\n",
       "Name: vehicle_damage, dtype: int64"
      ]
     },
     "execution_count": 9,
     "metadata": {},
     "output_type": "execute_result"
    }
   ],
   "source": [
    "df2['vehicle_damage'].value_counts()"
   ]
  },
  {
   "cell_type": "markdown",
   "id": "67d94ce1",
   "metadata": {
    "heading_collapsed": true
   },
   "source": [
    "# 3.0 ANÁLISE EXPLORATÓRIA DOS DADOS"
   ]
  },
  {
   "cell_type": "code",
   "execution_count": 10,
   "id": "9aefe6db",
   "metadata": {
    "ExecuteTime": {
     "end_time": "2022-10-10T14:15:45.664299Z",
     "start_time": "2022-10-10T14:15:45.614316Z"
    },
    "hidden": true
   },
   "outputs": [],
   "source": [
    "df3 = df2.copy()"
   ]
  },
  {
   "cell_type": "markdown",
   "id": "3b5833b2",
   "metadata": {
    "heading_collapsed": true,
    "hidden": true
   },
   "source": [
    "## 3.1 Análise Univariada"
   ]
  },
  {
   "cell_type": "markdown",
   "id": "fca8f411",
   "metadata": {
    "heading_collapsed": true,
    "hidden": true
   },
   "source": [
    "### 3.1.1 Variavel Resposta"
   ]
  },
  {
   "cell_type": "code",
   "execution_count": null,
   "id": "38687618",
   "metadata": {
    "ExecuteTime": {
     "end_time": "2022-09-28T18:00:46.032509Z",
     "start_time": "2022-09-28T18:00:45.411484Z"
    },
    "hidden": true
   },
   "outputs": [],
   "source": [
    "sns.displot( df3['response'] );"
   ]
  },
  {
   "cell_type": "markdown",
   "id": "a372532c",
   "metadata": {
    "heading_collapsed": true,
    "hidden": true
   },
   "source": [
    "### 3.1.2 Varivavel Numérica"
   ]
  },
  {
   "cell_type": "code",
   "execution_count": null,
   "id": "64897335",
   "metadata": {
    "ExecuteTime": {
     "end_time": "2022-09-28T18:00:50.203885Z",
     "start_time": "2022-09-28T18:00:48.915298Z"
    },
    "hidden": true
   },
   "outputs": [],
   "source": [
    "df_statistics['vehicle_damage'] = df3['vehicle_damage']\n",
    "df_statistics.hist(bins=25);"
   ]
  },
  {
   "cell_type": "markdown",
   "id": "cb4ff745",
   "metadata": {
    "heading_collapsed": true,
    "hidden": true
   },
   "source": [
    "### 3.1.3 Varivavel Categórica"
   ]
  },
  {
   "cell_type": "code",
   "execution_count": null,
   "id": "c92bcb54",
   "metadata": {
    "ExecuteTime": {
     "end_time": "2022-09-28T18:00:52.419767Z",
     "start_time": "2022-09-28T18:00:52.395775Z"
    },
    "hidden": true
   },
   "outputs": [],
   "source": [
    "cat_attributes = df3.select_dtypes( exclude=['int64', 'float64', 'datetime64[ns]'] )\n",
    "cat_attributes.columns"
   ]
  },
  {
   "cell_type": "code",
   "execution_count": null,
   "id": "894fa732",
   "metadata": {
    "ExecuteTime": {
     "end_time": "2022-09-28T14:28:40.065783Z",
     "start_time": "2022-09-28T14:28:39.222053Z"
    },
    "hidden": true
   },
   "outputs": [],
   "source": [
    "plt.subplot( 1, 2, 1 )\n",
    "ax1 = sns.countplot( df3['gender'] );\n",
    "for i in ax1.containers:\n",
    "    ax1.bar_label(i,);\n",
    "    \n",
    "plt.subplot( 1, 2, 2 )\n",
    "ax2 = sns.countplot( df3['vehicle_age'] );\n",
    "for i in ax2.containers:\n",
    "    ax2.bar_label(i,);"
   ]
  },
  {
   "cell_type": "markdown",
   "id": "0d5c9915",
   "metadata": {
    "heading_collapsed": true,
    "hidden": true
   },
   "source": [
    "## 3.2 Análise Bivariada"
   ]
  },
  {
   "cell_type": "markdown",
   "id": "c9e5d6cb",
   "metadata": {
    "heading_collapsed": true,
    "hidden": true
   },
   "source": [
    "### 1. 100% dos clientes sem carteira de habilitação não aderem ao seguro.\n",
    "    FALSA. Das 812 pessoas que não possuem carteira de motorista, 41 aceitaram o seguro: 5,05%"
   ]
  },
  {
   "cell_type": "code",
   "execution_count": null,
   "id": "5933a0ad",
   "metadata": {
    "ExecuteTime": {
     "end_time": "2022-09-28T14:28:40.532633Z",
     "start_time": "2022-09-28T14:28:40.067783Z"
    },
    "hidden": true
   },
   "outputs": [],
   "source": [
    "plt.subplot( 1, 2, 1 )\n",
    "df3_aux1 = df3.loc[df3['driving_license']==1, :]\n",
    "aux1 = df3_aux1[['driving_license', 'response', 'id']].groupby(['driving_license', 'response']).count().reset_index()\n",
    "a = sns.barplot( data=aux1, x='driving_license', y='id', hue='response')\n",
    "for i in a.containers:\n",
    "    a.bar_label(i,);\n",
    "    \n",
    "plt.subplot( 1, 2, 2 )\n",
    "df3_aux2 = df3.loc[df3['driving_license']==0, :]\n",
    "aux1 = df3_aux2[['driving_license', 'response', 'id']].groupby(['driving_license', 'response']).count().reset_index()\n",
    "b = sns.barplot( data=aux1, x='driving_license', y='id', hue='response')\n",
    "for i in b.containers:\n",
    "    b.bar_label(i,);"
   ]
  },
  {
   "cell_type": "markdown",
   "id": "db7daefe",
   "metadata": {
    "hidden": true
   },
   "source": [
    "### 2. Clientes com mais dias associados tendem a aderir ao seguro.\n",
    "    Falsa - Na média ambos que aceitaram ou recusaram tem a mesma quantidade de dias associados"
   ]
  },
  {
   "cell_type": "code",
   "execution_count": null,
   "id": "d88455da",
   "metadata": {
    "ExecuteTime": {
     "end_time": "2022-09-28T14:28:40.783583Z",
     "start_time": "2022-09-28T14:28:40.562654Z"
    },
    "hidden": true
   },
   "outputs": [],
   "source": [
    "aux1 = df3[['vintage', 'response']].groupby('response').mean().reset_index()\n",
    "a = sns.barplot( data=aux1, x='response', y='vintage');\n",
    "for i in a.containers:\n",
    "    a.bar_label(i,);"
   ]
  },
  {
   "cell_type": "markdown",
   "id": "0182224f",
   "metadata": {
    "hidden": true
   },
   "source": [
    "### **3.** 100% dos clientes que ja tiveram o carro batido aderem ao seguro.\n",
    "    Falsa - Das pessoas que ja bateram o carro 76,23% recusaram o seguro."
   ]
  },
  {
   "cell_type": "code",
   "execution_count": null,
   "id": "46b1f175",
   "metadata": {
    "ExecuteTime": {
     "end_time": "2022-09-28T14:28:41.422571Z",
     "start_time": "2022-09-28T14:28:41.122668Z"
    },
    "hidden": true
   },
   "outputs": [],
   "source": [
    "aux1 = df3[['vehicle_damage', 'response', 'id']].groupby(['response', 'vehicle_damage']).count().reset_index()\n",
    "a = sns.barplot( data=aux1, x='vehicle_damage', y='id', hue='response');\n",
    "for i in a.containers:\n",
    "    a.bar_label(i,);"
   ]
  },
  {
   "cell_type": "markdown",
   "id": "a61d6c8f",
   "metadata": {
    "hidden": true
   },
   "source": [
    "### **4.** Clientes mais velhos tendem a aderir ao seguro.\n",
    "    Verdadeiro - Na média, clientes que aceitam o seguro são mais velhos."
   ]
  },
  {
   "cell_type": "code",
   "execution_count": null,
   "id": "be16dc85",
   "metadata": {
    "ExecuteTime": {
     "end_time": "2022-09-28T14:28:42.465371Z",
     "start_time": "2022-09-28T14:28:41.618642Z"
    },
    "hidden": true
   },
   "outputs": [],
   "source": [
    "plt.subplot(1, 2, 1)\n",
    "aux1 = df3[['age', 'response']].groupby('response').mean().reset_index()\n",
    "a = sns.barplot( data=aux1, x= 'response', y='age');\n",
    "for i in a.containers:\n",
    "    a.bar_label(i,);\n",
    "    \n",
    "plt.subplot(1, 2, 2)\n",
    "sns.histplot( df3['age'] );"
   ]
  },
  {
   "cell_type": "markdown",
   "id": "9d685874",
   "metadata": {
    "hidden": true
   },
   "source": [
    "### **5.** Mulheres tendem a aderir ao seguro 30% mais que homens.\n",
    "    Falsa - Apenas 10,39% das mulheres aceitaram o seguro. Enquanto 13,84% dos homens aceitaram."
   ]
  },
  {
   "cell_type": "code",
   "execution_count": null,
   "id": "616b2e9e",
   "metadata": {
    "ExecuteTime": {
     "end_time": "2022-09-28T14:28:42.871241Z",
     "start_time": "2022-09-28T14:28:42.467371Z"
    },
    "hidden": true
   },
   "outputs": [],
   "source": [
    "\n",
    "aux1 = df3[['gender', 'response', 'id']].groupby(['response', 'gender']).count().reset_index()\n",
    "a = sns.barplot( data=aux1, x= 'gender', y='id', hue='response');\n",
    "for i in a.containers:\n",
    "    a.bar_label(i,);"
   ]
  },
  {
   "cell_type": "markdown",
   "id": "f4c05e82",
   "metadata": {
    "heading_collapsed": true,
    "hidden": true
   },
   "source": [
    "### **6.** Clientes em zona rural aderem menos ao seguro."
   ]
  },
  {
   "cell_type": "markdown",
   "id": "ab99cd90",
   "metadata": {
    "hidden": true
   },
   "source": [
    "### **7.** Clientes em cidades grandes aderem mais ao seguro."
   ]
  },
  {
   "cell_type": "markdown",
   "id": "4fb0d0ba",
   "metadata": {
    "hidden": true
   },
   "source": [
    "### **8.** Clientes com veículo mais velho tendem a não aderir ao seguro.\n",
    "    Falsa - A maior taxa de conversão são os que tem o carro > 2 anos, com 29,37%. Seguido dos carros entre 1-2 anos com 17,38%."
   ]
  },
  {
   "cell_type": "code",
   "execution_count": null,
   "id": "2af3654e",
   "metadata": {
    "ExecuteTime": {
     "end_time": "2022-09-28T14:28:43.923329Z",
     "start_time": "2022-09-28T14:28:43.563445Z"
    },
    "hidden": true
   },
   "outputs": [],
   "source": [
    "aux1 = df3[['vehicle_age', 'response', 'id']].groupby(['response', 'vehicle_age']).count().reset_index()\n",
    "a = sns.barplot( data=aux1, x='vehicle_age', y='id', hue='response');\n",
    "for i in a.containers:\n",
    "    a.bar_label(i,);"
   ]
  },
  {
   "cell_type": "markdown",
   "id": "717f71fe",
   "metadata": {
    "hidden": true
   },
   "source": [
    "### **9.** 100% dos clientes que ja tem seguro de carro não aderem ao seguro.\n",
    "    Falsa - 99,91% dos que ja possuem seguro não aderem ao novo seguro."
   ]
  },
  {
   "cell_type": "code",
   "execution_count": null,
   "id": "b52ead16",
   "metadata": {
    "ExecuteTime": {
     "end_time": "2022-09-28T14:28:44.967287Z",
     "start_time": "2022-09-28T14:28:44.675381Z"
    },
    "hidden": true
   },
   "outputs": [],
   "source": [
    "aux1 = df3[['previously_insured', 'response', 'id']].groupby(['response', 'previously_insured']).count().reset_index()\n",
    "a = sns.barplot( data=aux1, x='previously_insured', y='id', hue='response');\n",
    "for i in a.containers:\n",
    "    a.bar_label(i,);"
   ]
  },
  {
   "cell_type": "markdown",
   "id": "f5768a2e",
   "metadata": {
    "heading_collapsed": true,
    "hidden": true
   },
   "source": [
    "## 3.1 Análise Multivariada"
   ]
  },
  {
   "cell_type": "markdown",
   "id": "f6bdecb1",
   "metadata": {
    "heading_collapsed": true,
    "hidden": true
   },
   "source": [
    "### 3.1.1 Numerical Attributes"
   ]
  },
  {
   "cell_type": "code",
   "execution_count": null,
   "id": "8976d34e",
   "metadata": {
    "ExecuteTime": {
     "end_time": "2022-09-28T18:00:59.470561Z",
     "start_time": "2022-09-28T18:00:58.362579Z"
    },
    "hidden": true
   },
   "outputs": [],
   "source": [
    "num_atributes = df3.select_dtypes( include=['int64', 'float64'] )\n",
    "correlation = num_atributes.corr( method='pearson' )\n",
    "sns.heatmap( correlation, annot=True );"
   ]
  },
  {
   "cell_type": "markdown",
   "id": "ba4ec885",
   "metadata": {
    "hidden": true
   },
   "source": [
    "### 3.1.1 Categorical Attributes"
   ]
  },
  {
   "cell_type": "code",
   "execution_count": null,
   "id": "fc6d52a3",
   "metadata": {
    "ExecuteTime": {
     "end_time": "2022-09-28T18:01:01.317554Z",
     "start_time": "2022-09-28T18:01:01.300559Z"
    },
    "hidden": true
   },
   "outputs": [],
   "source": [
    "# only categorical data\n",
    "a = df3.select_dtypes( include='object' )\n",
    "a.columns"
   ]
  },
  {
   "cell_type": "code",
   "execution_count": null,
   "id": "2f53b5f1",
   "metadata": {
    "ExecuteTime": {
     "end_time": "2022-09-28T18:01:04.142674Z",
     "start_time": "2022-09-28T18:01:03.419560Z"
    },
    "hidden": true
   },
   "outputs": [],
   "source": [
    "# Calculate cramer V\n",
    "a1 = cramer_v( a['gender'], a['gender'] )\n",
    "a2 = cramer_v( a['gender'], a['vehicle_age'] )\n",
    "a4 = cramer_v( a['vehicle_age'], a['gender'] )\n",
    "a5 = cramer_v( a['vehicle_age'], a['vehicle_age'] )\n",
    "\n",
    "# Final dataset\n",
    "d = pd.DataFrame( {'gender': [a1, a2],\n",
    "                    'vehicle_age': [a4, a5] } )\n",
    "d = d.set_index( d.columns )\n",
    "sns.heatmap( d, annot=True );"
   ]
  },
  {
   "cell_type": "markdown",
   "id": "3ca8438e",
   "metadata": {
    "heading_collapsed": true
   },
   "source": [
    "# 4.0 DATA PREPARATION"
   ]
  },
  {
   "cell_type": "code",
   "execution_count": 11,
   "id": "dd20ae0f",
   "metadata": {
    "ExecuteTime": {
     "end_time": "2022-10-10T14:15:47.626330Z",
     "start_time": "2022-10-10T14:15:47.597340Z"
    },
    "hidden": true
   },
   "outputs": [],
   "source": [
    "df4= df3.copy()"
   ]
  },
  {
   "cell_type": "code",
   "execution_count": 12,
   "id": "7426d9f2",
   "metadata": {
    "ExecuteTime": {
     "end_time": "2022-10-10T14:15:48.273353Z",
     "start_time": "2022-10-10T14:15:48.133397Z"
    },
    "hidden": true
   },
   "outputs": [],
   "source": [
    "X = df3.drop('response', axis=1)\n",
    "y = df3['response'].copy()\n",
    "\n",
    "x_train, x_validation, y_train, y_validation = ms.train_test_split( X, y, test_size=0.20 )\n",
    "\n",
    "df4 = pd.concat( [ x_train, y_train ], axis = 1 )"
   ]
  },
  {
   "cell_type": "markdown",
   "id": "2c4f033d",
   "metadata": {
    "hidden": true
   },
   "source": [
    "## Stardadization"
   ]
  },
  {
   "cell_type": "code",
   "execution_count": 13,
   "id": "83ca2bff",
   "metadata": {
    "ExecuteTime": {
     "end_time": "2022-10-10T14:15:52.540375Z",
     "start_time": "2022-10-10T14:15:52.486393Z"
    },
    "hidden": true
   },
   "outputs": [],
   "source": [
    "ss = pp.StandardScaler()\n",
    "\n",
    "# Annual Premium\n",
    "df4['annual_premium'] = ss.fit_transform( df4[['annual_premium']].values )\n",
    "pickle.dump( ss, open( 'C:/Users/Pedro/repos/health_insurance_cross_sell/pa004_health_insurance_cross_sell/health_insurance_cross-sell/src/features/annual_premium_scaler.pkl', 'wb' ) )"
   ]
  },
  {
   "cell_type": "markdown",
   "id": "fadf686e",
   "metadata": {
    "hidden": true
   },
   "source": [
    "## Rescaling"
   ]
  },
  {
   "cell_type": "code",
   "execution_count": 14,
   "id": "6affc9e6",
   "metadata": {
    "ExecuteTime": {
     "end_time": "2022-10-10T14:15:53.862425Z",
     "start_time": "2022-10-10T14:15:53.806443Z"
    },
    "hidden": true
   },
   "outputs": [],
   "source": [
    "mms_age = pp.MinMaxScaler()\n",
    "mms_vintage = pp.MinMaxScaler()\n",
    "\n",
    "# Age\n",
    "df4['age'] = mms_age.fit_transform( df4[['age']].values )\n",
    "pickle.dump( mms_age, open('C:/Users/Pedro/repos/health_insurance_cross_sell/pa004_health_insurance_cross_sell/health_insurance_cross-sell/src/features/age_scaler.pkl', 'wb' ) )\n",
    "\n",
    "# Vintage\n",
    "df4['vintage'] = mms_vintage.fit_transform( df4[['vintage']].values )\n",
    "pickle.dump( mms_vintage, open('C:/Users/Pedro/repos/health_insurance_cross_sell/pa004_health_insurance_cross_sell/health_insurance_cross-sell/src/features/vintage_scaler.pkl', 'wb') )"
   ]
  },
  {
   "cell_type": "markdown",
   "id": "bf9cfd71",
   "metadata": {
    "hidden": true
   },
   "source": [
    "## Encoder"
   ]
  },
  {
   "cell_type": "code",
   "execution_count": 15,
   "id": "1faddb15",
   "metadata": {
    "ExecuteTime": {
     "end_time": "2022-10-10T14:15:55.901392Z",
     "start_time": "2022-10-10T14:15:55.686433Z"
    },
    "hidden": true
   },
   "outputs": [],
   "source": [
    "# Gender - Target Encoding\n",
    "target_encoding_gender = df4.groupby('gender')['response'].mean()\n",
    "df4.loc[:, 'gender'] = df4['gender'].map( target_encoding_gender )\n",
    "pickle.dump(target_encoding_gender, open('C:/Users/Pedro/repos/health_insurance_cross_sell/pa004_health_insurance_cross_sell/health_insurance_cross-sell/src/features/target_encode_gender_scaler.pkl', 'wb'  )  )\n",
    "\n",
    "# Region Code - Target Encoding\n",
    "target_encoding_region_code = df4.groupby('region_code')['response'].mean() \n",
    "df4.loc[:, 'region_code'] = df4['region_code'].map( target_encoding_region_code )\n",
    "pickle.dump(target_encoding_region_code, open('C:/Users/Pedro/repos/health_insurance_cross_sell/pa004_health_insurance_cross_sell/health_insurance_cross-sell/src/features/target_encode_region_code_scaler.pkl', 'wb' ) )\n",
    " \n",
    "# Vehicle Age - One Hot Encoding\n",
    "df4 = pd.get_dummies( df4, prefix='vehicle_age', columns=['vehicle_age'] )\n",
    "\n",
    "# Policy Sales Channel - Target Encoding / Frequency Encoding\n",
    "fe_policy_sales_channel = df4.groupby('policy_sales_channel').size() / len( df4 )\n",
    "df4.loc[:, 'policy_sales_channel'] = df4['policy_sales_channel'].map( fe_policy_sales_channel )\n",
    "pickle.dump(fe_policy_sales_channel, open('C:/Users/Pedro/repos/health_insurance_cross_sell/pa004_health_insurance_cross_sell/health_insurance_cross-sell/src/features/fe_policy_sales_channel_scaler.pkl', 'wb'))"
   ]
  },
  {
   "cell_type": "markdown",
   "id": "8d5a3f8f",
   "metadata": {
    "ExecuteTime": {
     "end_time": "2022-09-27T13:12:55.900157Z",
     "start_time": "2022-09-27T13:12:55.881162Z"
    },
    "hidden": true
   },
   "source": [
    "## 4.1 Validation Preparation"
   ]
  },
  {
   "cell_type": "code",
   "execution_count": 16,
   "id": "564ea909",
   "metadata": {
    "ExecuteTime": {
     "end_time": "2022-10-10T14:15:57.735365Z",
     "start_time": "2022-10-10T14:15:57.622404Z"
    },
    "hidden": true
   },
   "outputs": [
    {
     "name": "stderr",
     "output_type": "stream",
     "text": [
      "C:\\Users\\Pedro\\anaconda3\\lib\\site-packages\\pandas\\core\\indexing.py:1773: SettingWithCopyWarning: \n",
      "A value is trying to be set on a copy of a slice from a DataFrame.\n",
      "Try using .loc[row_indexer,col_indexer] = value instead\n",
      "\n",
      "See the caveats in the documentation: https://pandas.pydata.org/pandas-docs/stable/user_guide/indexing.html#returning-a-view-versus-a-copy\n",
      "  self._setitem_single_column(ilocs[0], value, pi)\n",
      "C:\\Users\\Pedro\\anaconda3\\lib\\site-packages\\pandas\\core\\indexing.py:1835: SettingWithCopyWarning: \n",
      "A value is trying to be set on a copy of a slice from a DataFrame.\n",
      "Try using .loc[row_indexer,col_indexer] = value instead\n",
      "\n",
      "See the caveats in the documentation: https://pandas.pydata.org/pandas-docs/stable/user_guide/indexing.html#returning-a-view-versus-a-copy\n",
      "  self._setitem_single_column(loc, value[:, i].tolist(), pi)\n",
      "C:\\Users\\Pedro\\anaconda3\\lib\\site-packages\\pandas\\core\\indexing.py:1773: SettingWithCopyWarning: \n",
      "A value is trying to be set on a copy of a slice from a DataFrame.\n",
      "Try using .loc[row_indexer,col_indexer] = value instead\n",
      "\n",
      "See the caveats in the documentation: https://pandas.pydata.org/pandas-docs/stable/user_guide/indexing.html#returning-a-view-versus-a-copy\n",
      "  self._setitem_single_column(ilocs[0], value, pi)\n",
      "C:\\Users\\Pedro\\anaconda3\\lib\\site-packages\\pandas\\core\\indexing.py:1835: SettingWithCopyWarning: \n",
      "A value is trying to be set on a copy of a slice from a DataFrame.\n",
      "Try using .loc[row_indexer,col_indexer] = value instead\n",
      "\n",
      "See the caveats in the documentation: https://pandas.pydata.org/pandas-docs/stable/user_guide/indexing.html#returning-a-view-versus-a-copy\n",
      "  self._setitem_single_column(loc, value[:, i].tolist(), pi)\n",
      "C:\\Users\\Pedro\\anaconda3\\lib\\site-packages\\pandas\\core\\indexing.py:1835: SettingWithCopyWarning: \n",
      "A value is trying to be set on a copy of a slice from a DataFrame.\n",
      "Try using .loc[row_indexer,col_indexer] = value instead\n",
      "\n",
      "See the caveats in the documentation: https://pandas.pydata.org/pandas-docs/stable/user_guide/indexing.html#returning-a-view-versus-a-copy\n",
      "  self._setitem_single_column(loc, value[:, i].tolist(), pi)\n"
     ]
    }
   ],
   "source": [
    "# Gender\n",
    "x_validation.loc[:, 'gender'] = x_validation.loc[:, 'gender'].map( target_encoding_gender )\n",
    "\n",
    "# Age\n",
    "x_validation.loc[:, 'age'] = mms_age.transform( x_validation[['age']].values )\n",
    "\n",
    "# Region Code\n",
    "x_validation.loc[:, 'region_code'] = x_validation.loc[:, 'region_code'].map( target_encoding_region_code )\n",
    "\n",
    "# Vintage\n",
    "x_validation.loc[:, 'vintage'] = mms_vintage.transform( x_validation[['vintage']].values )\n",
    "\n",
    "# Annual Premium\n",
    "x_validation.loc[:, 'annual_premium'] = ss.transform( x_validation[['annual_premium']].values )\n",
    "\n",
    "# Vehicle Age\n",
    "x_validation = pd.get_dummies( x_validation, prefix='vehicle_age', columns=['vehicle_age'] )\n",
    "\n",
    "# Policy Sales Channel\n",
    "x_validation.loc[:, 'policy_sales_channel'] = x_validation['policy_sales_channel'].map( fe_policy_sales_channel )\n",
    "\n",
    "# fill NA - Conferir se tinha NA\n",
    "x_validation = x_validation.fillna( 0 )"
   ]
  },
  {
   "cell_type": "markdown",
   "id": "36fba760",
   "metadata": {
    "heading_collapsed": true
   },
   "source": [
    "# 5.0 FEATURE SELECTION"
   ]
  },
  {
   "cell_type": "markdown",
   "id": "821939ea",
   "metadata": {
    "hidden": true
   },
   "source": [
    "## 5.1 Features Importance"
   ]
  },
  {
   "cell_type": "code",
   "execution_count": 22,
   "id": "baadbb19",
   "metadata": {
    "ExecuteTime": {
     "end_time": "2022-10-07T15:00:49.437323Z",
     "start_time": "2022-10-07T15:00:34.391096Z"
    },
    "hidden": true
   },
   "outputs": [
    {
     "data": {
      "text/plain": [
       "ExtraTreesClassifier(n_estimators=250, n_jobs=-1, random_state=0)"
      ]
     },
     "execution_count": 22,
     "metadata": {},
     "output_type": "execute_result"
    }
   ],
   "source": [
    "# Model Definition\n",
    "forest = en.ExtraTreesClassifier( n_estimators=250, random_state=0, n_jobs=-1 )\n",
    "\n",
    "# Data Preparation\n",
    "x_train_n = df4.drop( ['id', 'response'], axis=1 )\n",
    "y_train_n = y_train.values\n",
    "forest.fit( x_train_n, y_train_n )"
   ]
  },
  {
   "cell_type": "code",
   "execution_count": 23,
   "id": "c8351bfe",
   "metadata": {
    "ExecuteTime": {
     "end_time": "2022-10-07T15:01:14.733827Z",
     "start_time": "2022-10-07T15:01:14.128022Z"
    },
    "hidden": true
   },
   "outputs": [
    {
     "name": "stdout",
     "output_type": "stream",
     "text": [
      "Feature Importance:\n",
      "                        feature  importance\n",
      "0                       vintage    0.271631\n",
      "0                annual_premium    0.244256\n",
      "0                           age    0.166958\n",
      "0                   region_code    0.105209\n",
      "0                vehicle_damage    0.069463\n",
      "0          policy_sales_channel    0.059738\n",
      "0            previously_insured    0.054870\n",
      "0      vehicle_age_below_1_year    0.014239\n",
      "0  vehicle_age_between_1_2_year    0.005923\n",
      "0                        gender    0.004920\n",
      "0      vehicle_age_over_2_years    0.002297\n",
      "0               driving_license    0.000495\n"
     ]
    }
   ],
   "source": [
    "importances = forest.feature_importances_\n",
    "std = np.std([tree.feature_importances_ for tree in forest.estimators_], axis=0)\n",
    "indices = np.argsort(importances)[::-1]\n",
    "\n",
    "# Print Feature Ranking\n",
    "print('Feature Importance:')\n",
    "df = pd.DataFrame()\n",
    "for i, j in zip( x_train_n, importances ):\n",
    "    aux = pd.DataFrame( {'feature':i, 'importance':j}, index=[0] )\n",
    "    df = pd.concat( [df, aux], axis=0 )\n",
    "    \n",
    "print(df.sort_values('importance', ascending=False))"
   ]
  },
  {
   "cell_type": "markdown",
   "id": "249e34a9",
   "metadata": {
    "heading_collapsed": true
   },
   "source": [
    "# 6.0 MACHINE LEARNING"
   ]
  },
  {
   "cell_type": "code",
   "execution_count": 17,
   "id": "8ec8e1fb",
   "metadata": {
    "ExecuteTime": {
     "end_time": "2022-10-10T14:16:04.188662Z",
     "start_time": "2022-10-10T14:16:04.134680Z"
    },
    "hidden": true
   },
   "outputs": [],
   "source": [
    "cols_selected = ['vintage', 'annual_premium', 'age', 'region_code', 'vehicle_damage', 'policy_sales_channel', 'previously_insured']\n",
    "\n",
    "x_train = df4[cols_selected]\n",
    "x_val = x_validation[cols_selected]\n",
    "y_val = y_validation.copy()"
   ]
  },
  {
   "cell_type": "markdown",
   "id": "b2b69ef3",
   "metadata": {
    "hidden": true
   },
   "source": [
    "## 6.1 KNN"
   ]
  },
  {
   "cell_type": "code",
   "execution_count": 54,
   "id": "06ef2f9c",
   "metadata": {
    "ExecuteTime": {
     "end_time": "2022-10-10T15:57:02.261049Z",
     "start_time": "2022-10-10T15:56:36.161807Z"
    },
    "hidden": true
   },
   "outputs": [
    {
     "data": {
      "text/plain": [
       "<AxesSubplot:title={'center':'Lift Curve'}, xlabel='Percentage of sample', ylabel='Lift'>"
      ]
     },
     "execution_count": 54,
     "metadata": {},
     "output_type": "execute_result"
    },
    {
     "data": {
      "image/png": "[encoded data removed]",
      "text/plain": [
       "<Figure size 1296x720 with 2 Axes>"
      ]
     },
     "metadata": {},
     "output_type": "display_data"
    }
   ],
   "source": [
    "# Model Definition\n",
    "knn_model = nh.KNeighborsClassifier( n_neighbors=7 )\n",
    "\n",
    "# Model Training\n",
    "knn_model.fit( x_train, y_train )\n",
    "\n",
    "# Model Prediction - Poder de Generalização\n",
    "yhat_knn = knn_model.predict_proba( x_val )\n",
    "\n",
    "# Acumulative Gain\n",
    "fig, axs = plt.subplots(ncols=2, figsize=(18,10))\n",
    "skplt.metrics.plot_cumulative_gain( y_val, yhat_knn, ax=axs[0], title='Cumulative Gains Curve')\n",
    "skplt.metrics.plot_lift_curve( y_val, yhat_knn, ax=axs[1], title='Lift Curve' )"
   ]
  },
  {
   "cell_type": "code",
   "execution_count": 72,
   "id": "fd355aa3",
   "metadata": {
    "ExecuteTime": {
     "end_time": "2022-10-10T17:01:50.041148Z",
     "start_time": "2022-10-10T17:01:49.948179Z"
    },
    "hidden": true
   },
   "outputs": [
    {
     "data": {
      "text/html": [
       "<div>\n",
       "<style scoped>\n",
       "    .dataframe tbody tr th:only-of-type {\n",
       "        vertical-align: middle;\n",
       "    }\n",
       "\n",
       "    .dataframe tbody tr th {\n",
       "        vertical-align: top;\n",
       "    }\n",
       "\n",
       "    .dataframe thead th {\n",
       "        text-align: right;\n",
       "    }\n",
       "</style>\n",
       "<table border=\"1\" class=\"dataframe\">\n",
       "  <thead>\n",
       "    <tr style=\"text-align: right;\">\n",
       "      <th></th>\n",
       "      <th>Precision_at_k</th>\n",
       "      <th>Recall_at_k</th>\n",
       "    </tr>\n",
       "  </thead>\n",
       "  <tbody>\n",
       "    <tr>\n",
       "      <th>KNN</th>\n",
       "      <td>0.291</td>\n",
       "      <td>0.623</td>\n",
       "    </tr>\n",
       "  </tbody>\n",
       "</table>\n",
       "</div>"
      ],
      "text/plain": [
       "    Precision_at_k Recall_at_k\n",
       "KNN          0.291       0.623"
      ]
     },
     "execution_count": 72,
     "metadata": {},
     "output_type": "execute_result"
    }
   ],
   "source": [
    "knn_metrics = at_k_metrics( 'KNN', x_validation, y_validation, yhat_knn, k=20000 )\n",
    "knn_metrics"
   ]
  },
  {
   "cell_type": "markdown",
   "id": "6df7e5cb",
   "metadata": {
    "hidden": true
   },
   "source": [
    "## 6.2 Logistic Regression"
   ]
  },
  {
   "cell_type": "code",
   "execution_count": 55,
   "id": "5247fdd2",
   "metadata": {
    "ExecuteTime": {
     "end_time": "2022-10-10T15:57:38.651634Z",
     "start_time": "2022-10-10T15:57:36.482328Z"
    },
    "hidden": true
   },
   "outputs": [
    {
     "data": {
      "text/plain": [
       "<AxesSubplot:title={'center':'Lift Curve'}, xlabel='Percentage of sample', ylabel='Lift'>"
      ]
     },
     "execution_count": 55,
     "metadata": {},
     "output_type": "execute_result"
    },
    {
     "data": {
      "image/png": "[encoded data removed]",
      "text/plain": [
       "<Figure size 1296x720 with 2 Axes>"
      ]
     },
     "metadata": {},
     "output_type": "display_data"
    }
   ],
   "source": [
    "# Model Definition\n",
    "lr_model = lm.LogisticRegression( random_state=42 )\n",
    "\n",
    "# Model Training\n",
    "lr_model.fit( x_train, y_train )\n",
    "\n",
    "# Model Prediction\n",
    "yhat_lr = lr_model.predict_proba( x_val )\n",
    "\n",
    "fig, axs = plt.subplots(ncols=2, figsize=(18,10))\n",
    "skplt.metrics.plot_cumulative_gain( y_val, yhat_lr, ax=axs[0], title='Cumulative Gains Curve')\n",
    "skplt.metrics.plot_lift_curve( y_val, yhat_lr, ax=axs[1], title='Lift Curve' )"
   ]
  },
  {
   "cell_type": "code",
   "execution_count": 73,
   "id": "bc6ec952",
   "metadata": {
    "ExecuteTime": {
     "end_time": "2022-10-10T17:02:01.809488Z",
     "start_time": "2022-10-10T17:02:01.691527Z"
    },
    "hidden": true
   },
   "outputs": [
    {
     "data": {
      "text/html": [
       "<div>\n",
       "<style scoped>\n",
       "    .dataframe tbody tr th:only-of-type {\n",
       "        vertical-align: middle;\n",
       "    }\n",
       "\n",
       "    .dataframe tbody tr th {\n",
       "        vertical-align: top;\n",
       "    }\n",
       "\n",
       "    .dataframe thead th {\n",
       "        text-align: right;\n",
       "    }\n",
       "</style>\n",
       "<table border=\"1\" class=\"dataframe\">\n",
       "  <thead>\n",
       "    <tr style=\"text-align: right;\">\n",
       "      <th></th>\n",
       "      <th>Precision_at_k</th>\n",
       "      <th>Recall_at_k</th>\n",
       "    </tr>\n",
       "  </thead>\n",
       "  <tbody>\n",
       "    <tr>\n",
       "      <th>Logistic Regression</th>\n",
       "      <td>0.287</td>\n",
       "      <td>0.615</td>\n",
       "    </tr>\n",
       "  </tbody>\n",
       "</table>\n",
       "</div>"
      ],
      "text/plain": [
       "                    Precision_at_k Recall_at_k\n",
       "Logistic Regression          0.287       0.615"
      ]
     },
     "execution_count": 73,
     "metadata": {},
     "output_type": "execute_result"
    }
   ],
   "source": [
    "lr_metrics = at_k_metrics( 'Logistic Regression', x_validation, y_validation, yhat_lr, k=20000 )\n",
    "lr_metrics"
   ]
  },
  {
   "cell_type": "markdown",
   "id": "221243a4",
   "metadata": {
    "hidden": true
   },
   "source": [
    "## 6.3 Extra Trees"
   ]
  },
  {
   "cell_type": "code",
   "execution_count": 56,
   "id": "5e6c2c7f",
   "metadata": {
    "ExecuteTime": {
     "end_time": "2022-10-10T15:59:53.761674Z",
     "start_time": "2022-10-10T15:57:53.290370Z"
    },
    "hidden": true
   },
   "outputs": [
    {
     "data": {
      "text/plain": [
       "<AxesSubplot:title={'center':'Lift Curve'}, xlabel='Percentage of sample', ylabel='Lift'>"
      ]
     },
     "execution_count": 56,
     "metadata": {},
     "output_type": "execute_result"
    },
    {
     "data": {
      "image/png": "[encoded data removed]",
      "text/plain": [
       "<Figure size 1296x720 with 2 Axes>"
      ]
     },
     "metadata": {},
     "output_type": "display_data"
    }
   ],
   "source": [
    "# Model Definition\n",
    "et_model = en.ExtraTreesClassifier( n_estimators=1000, n_jobs=-1, random_state=42 )\n",
    "\n",
    "# Model Training\n",
    "et_model.fit( x_train, y_train )\n",
    "\n",
    "# Model Prediction - Poder de Generalização\n",
    "yhat_et = et_model.predict_proba( x_val )\n",
    "\n",
    "fig, axs = plt.subplots(ncols=2, figsize=(18,10))\n",
    "skplt.metrics.plot_cumulative_gain( y_val, yhat_et, ax=axs[0], title='Cumulative Gains Curve')\n",
    "skplt.metrics.plot_lift_curve( y_val, yhat_et, ax=axs[1], title='Lift Curve' )"
   ]
  },
  {
   "cell_type": "code",
   "execution_count": 74,
   "id": "ce00a87e",
   "metadata": {
    "ExecuteTime": {
     "end_time": "2022-10-10T17:02:15.558855Z",
     "start_time": "2022-10-10T17:02:15.451891Z"
    },
    "hidden": true
   },
   "outputs": [
    {
     "data": {
      "text/html": [
       "<div>\n",
       "<style scoped>\n",
       "    .dataframe tbody tr th:only-of-type {\n",
       "        vertical-align: middle;\n",
       "    }\n",
       "\n",
       "    .dataframe tbody tr th {\n",
       "        vertical-align: top;\n",
       "    }\n",
       "\n",
       "    .dataframe thead th {\n",
       "        text-align: right;\n",
       "    }\n",
       "</style>\n",
       "<table border=\"1\" class=\"dataframe\">\n",
       "  <thead>\n",
       "    <tr style=\"text-align: right;\">\n",
       "      <th></th>\n",
       "      <th>Precision_at_k</th>\n",
       "      <th>Recall_at_k</th>\n",
       "    </tr>\n",
       "  </thead>\n",
       "  <tbody>\n",
       "    <tr>\n",
       "      <th>Extra Trees</th>\n",
       "      <td>0.303</td>\n",
       "      <td>0.649</td>\n",
       "    </tr>\n",
       "  </tbody>\n",
       "</table>\n",
       "</div>"
      ],
      "text/plain": [
       "            Precision_at_k Recall_at_k\n",
       "Extra Trees          0.303       0.649"
      ]
     },
     "execution_count": 74,
     "metadata": {},
     "output_type": "execute_result"
    }
   ],
   "source": [
    "et_metrics = at_k_metrics( 'Extra Trees', x_validation, y_validation, yhat_et, k=20000 )\n",
    "et_metrics"
   ]
  },
  {
   "cell_type": "markdown",
   "id": "90d3e8a7",
   "metadata": {
    "hidden": true
   },
   "source": [
    "## 6.4 Random Forest"
   ]
  },
  {
   "cell_type": "code",
   "execution_count": 57,
   "id": "15dfed74",
   "metadata": {
    "ExecuteTime": {
     "end_time": "2022-10-10T16:03:08.853339Z",
     "start_time": "2022-10-10T16:01:42.513647Z"
    },
    "hidden": true
   },
   "outputs": [
    {
     "data": {
      "text/plain": [
       "<AxesSubplot:title={'center':'Lift Curve'}, xlabel='Percentage of sample', ylabel='Lift'>"
      ]
     },
     "execution_count": 57,
     "metadata": {},
     "output_type": "execute_result"
    },
    {
     "data": {
      "image/png": "[encoded data removed]",
      "text/plain": [
       "<Figure size 1296x720 with 2 Axes>"
      ]
     },
     "metadata": {},
     "output_type": "display_data"
    }
   ],
   "source": [
    "# model definition\n",
    "rf = en.RandomForestClassifier( n_estimators=1000, n_jobs=-1, random_state=42 ) \n",
    "\n",
    "# model training\n",
    "rf.fit( x_train, y_train )\n",
    "\n",
    "# model prediction\n",
    "yhat_rf = rf.predict_proba( x_val )\n",
    "\n",
    "fig, axs = plt.subplots(ncols=2, figsize=(18,10))\n",
    "skplt.metrics.plot_cumulative_gain( y_val, yhat_rf, ax=axs[0], title='Cumulative Gains Curve')\n",
    "skplt.metrics.plot_lift_curve( y_val, yhat_rf, ax=axs[1], title='Lift Curve' )"
   ]
  },
  {
   "cell_type": "code",
   "execution_count": 75,
   "id": "5ff34308",
   "metadata": {
    "ExecuteTime": {
     "end_time": "2022-10-10T17:02:27.707162Z",
     "start_time": "2022-10-10T17:02:27.605194Z"
    },
    "hidden": true
   },
   "outputs": [
    {
     "data": {
      "text/html": [
       "<div>\n",
       "<style scoped>\n",
       "    .dataframe tbody tr th:only-of-type {\n",
       "        vertical-align: middle;\n",
       "    }\n",
       "\n",
       "    .dataframe tbody tr th {\n",
       "        vertical-align: top;\n",
       "    }\n",
       "\n",
       "    .dataframe thead th {\n",
       "        text-align: right;\n",
       "    }\n",
       "</style>\n",
       "<table border=\"1\" class=\"dataframe\">\n",
       "  <thead>\n",
       "    <tr style=\"text-align: right;\">\n",
       "      <th></th>\n",
       "      <th>Precision_at_k</th>\n",
       "      <th>Recall_at_k</th>\n",
       "    </tr>\n",
       "  </thead>\n",
       "  <tbody>\n",
       "    <tr>\n",
       "      <th>Random Forest</th>\n",
       "      <td>0.308</td>\n",
       "      <td>0.658</td>\n",
       "    </tr>\n",
       "  </tbody>\n",
       "</table>\n",
       "</div>"
      ],
      "text/plain": [
       "              Precision_at_k Recall_at_k\n",
       "Random Forest          0.308       0.658"
      ]
     },
     "execution_count": 75,
     "metadata": {},
     "output_type": "execute_result"
    }
   ],
   "source": [
    "rf_metrics = at_k_metrics( 'Random Forest', x_validation, y_validation, yhat_rf, k=20000 )\n",
    "rf_metrics"
   ]
  },
  {
   "cell_type": "markdown",
   "id": "4376fe97",
   "metadata": {
    "hidden": true
   },
   "source": [
    "## 6.5 XGBoost "
   ]
  },
  {
   "cell_type": "code",
   "execution_count": 63,
   "id": "08a35e5a",
   "metadata": {
    "ExecuteTime": {
     "end_time": "2022-10-10T16:52:23.869442Z",
     "start_time": "2022-10-10T16:52:11.593902Z"
    },
    "hidden": true
   },
   "outputs": [
    {
     "name": "stdout",
     "output_type": "stream",
     "text": [
      "[13:52:11] WARNING: C:/Users/administrator/workspace/xgboost-win64_release_1.6.0/src/learner.cc:627: \n",
      "Parameters: { \"eval_metrics\" } might not be used.\n",
      "\n",
      "  This could be a false alarm, with some parameters getting used by language bindings but\n",
      "  then being mistakenly passed down to XGBoost core, or some parameter actually being used\n",
      "  but getting flagged wrongly here. Please open an issue if you find any such cases.\n",
      "\n",
      "\n"
     ]
    },
    {
     "data": {
      "image/png": "[encoded data removed]",
      "text/plain": [
       "<Figure size 1296x720 with 2 Axes>"
      ]
     },
     "metadata": {},
     "output_type": "display_data"
    }
   ],
   "source": [
    "xgb_model = xgb.XGBClassifier( objective='binary:logistic', eval_metrics='error' )\n",
    "\n",
    "xgb_model.fit( x_train, y_train )\n",
    "\n",
    "yhat_xgb = xgb_model.predict_proba( x_val )\n",
    "\n",
    "fig, axs = plt.subplots(ncols=2, figsize=(18,10))\n",
    "skplt.metrics.plot_cumulative_gain( y_val, yhat_xgb, ax=axs[0], title='Cumulative Gains Curve');\n",
    "skplt.metrics.plot_lift_curve( y_val, yhat_xgb, ax=axs[1], title='Lift Curve' );"
   ]
  },
  {
   "cell_type": "code",
   "execution_count": 81,
   "id": "8b8c7718",
   "metadata": {
    "ExecuteTime": {
     "end_time": "2022-10-10T17:06:26.840733Z",
     "start_time": "2022-10-10T17:06:26.731770Z"
    },
    "hidden": true
   },
   "outputs": [
    {
     "data": {
      "text/html": [
       "<div>\n",
       "<style scoped>\n",
       "    .dataframe tbody tr th:only-of-type {\n",
       "        vertical-align: middle;\n",
       "    }\n",
       "\n",
       "    .dataframe tbody tr th {\n",
       "        vertical-align: top;\n",
       "    }\n",
       "\n",
       "    .dataframe thead th {\n",
       "        text-align: right;\n",
       "    }\n",
       "</style>\n",
       "<table border=\"1\" class=\"dataframe\">\n",
       "  <thead>\n",
       "    <tr style=\"text-align: right;\">\n",
       "      <th></th>\n",
       "      <th>Precision_at_k</th>\n",
       "      <th>Recall_at_k</th>\n",
       "    </tr>\n",
       "  </thead>\n",
       "  <tbody>\n",
       "    <tr>\n",
       "      <th>XGBoost</th>\n",
       "      <td>0.33</td>\n",
       "      <td>0.707</td>\n",
       "    </tr>\n",
       "  </tbody>\n",
       "</table>\n",
       "</div>"
      ],
      "text/plain": [
       "        Precision_at_k Recall_at_k\n",
       "XGBoost           0.33       0.707"
      ]
     },
     "execution_count": 81,
     "metadata": {},
     "output_type": "execute_result"
    }
   ],
   "source": [
    "xgb_metrics = at_k_metrics( 'XGBoost', x_validation, y_validation, yhat_xgb, k=20000 )\n",
    "xgb_metrics"
   ]
  },
  {
   "cell_type": "markdown",
   "id": "2ba4c595",
   "metadata": {
    "hidden": true
   },
   "source": [
    "## 6.6 Light Gradient Boost Machine"
   ]
  },
  {
   "cell_type": "code",
   "execution_count": 68,
   "id": "c5de7bdd",
   "metadata": {
    "ExecuteTime": {
     "end_time": "2022-10-10T16:58:00.168098Z",
     "start_time": "2022-10-10T16:57:58.627067Z"
    },
    "hidden": true
   },
   "outputs": [
    {
     "data": {
      "image/png": "[encoded data removed]",
      "text/plain": [
       "<Figure size 1296x720 with 2 Axes>"
      ]
     },
     "metadata": {},
     "output_type": "display_data"
    }
   ],
   "source": [
    "lgbm_model = LGBMClassifier()\n",
    "\n",
    "lgbm_model.fit(x_train, y_train)\n",
    "\n",
    "yhat_lgbm = lgbm_model.predict_proba( x_val )\n",
    "\n",
    "fig, axs = plt.subplots(ncols=2, figsize=(18,10))\n",
    "skplt.metrics.plot_cumulative_gain( y_val, yhat_lgbm, ax=axs[0], title='Cumulative Gains Curve');\n",
    "skplt.metrics.plot_lift_curve( y_val, yhat_lgbm, ax=axs[1], title='Lift Curve' );"
   ]
  },
  {
   "cell_type": "code",
   "execution_count": 87,
   "id": "fcf8be81",
   "metadata": {
    "ExecuteTime": {
     "end_time": "2022-10-10T17:07:46.648251Z",
     "start_time": "2022-10-10T17:07:46.532288Z"
    },
    "hidden": true
   },
   "outputs": [
    {
     "data": {
      "text/html": [
       "<div>\n",
       "<style scoped>\n",
       "    .dataframe tbody tr th:only-of-type {\n",
       "        vertical-align: middle;\n",
       "    }\n",
       "\n",
       "    .dataframe tbody tr th {\n",
       "        vertical-align: top;\n",
       "    }\n",
       "\n",
       "    .dataframe thead th {\n",
       "        text-align: right;\n",
       "    }\n",
       "</style>\n",
       "<table border=\"1\" class=\"dataframe\">\n",
       "  <thead>\n",
       "    <tr style=\"text-align: right;\">\n",
       "      <th></th>\n",
       "      <th>Precision_at_k</th>\n",
       "      <th>Recall_at_k</th>\n",
       "    </tr>\n",
       "  </thead>\n",
       "  <tbody>\n",
       "    <tr>\n",
       "      <th>Light Gradient</th>\n",
       "      <td>0.334</td>\n",
       "      <td>0.714</td>\n",
       "    </tr>\n",
       "  </tbody>\n",
       "</table>\n",
       "</div>"
      ],
      "text/plain": [
       "               Precision_at_k Recall_at_k\n",
       "Light Gradient          0.334       0.714"
      ]
     },
     "execution_count": 87,
     "metadata": {},
     "output_type": "execute_result"
    }
   ],
   "source": [
    "lgbm_metrics = at_k_metrics( 'Light Gradient', x_validation, y_validation, yhat_lgbm, k=20000 )\n",
    "lgbm_metrics"
   ]
  },
  {
   "cell_type": "markdown",
   "id": "dee4eadd",
   "metadata": {
    "hidden": true
   },
   "source": [
    "## Metrics Resume"
   ]
  },
  {
   "cell_type": "code",
   "execution_count": 89,
   "id": "ec28988d",
   "metadata": {
    "ExecuteTime": {
     "end_time": "2022-10-10T17:08:20.567361Z",
     "start_time": "2022-10-10T17:08:20.555364Z"
    },
    "hidden": true
   },
   "outputs": [
    {
     "data": {
      "text/html": [
       "<div>\n",
       "<style scoped>\n",
       "    .dataframe tbody tr th:only-of-type {\n",
       "        vertical-align: middle;\n",
       "    }\n",
       "\n",
       "    .dataframe tbody tr th {\n",
       "        vertical-align: top;\n",
       "    }\n",
       "\n",
       "    .dataframe thead th {\n",
       "        text-align: right;\n",
       "    }\n",
       "</style>\n",
       "<table border=\"1\" class=\"dataframe\">\n",
       "  <thead>\n",
       "    <tr style=\"text-align: right;\">\n",
       "      <th></th>\n",
       "      <th>Precision_at_k</th>\n",
       "      <th>Recall_at_k</th>\n",
       "    </tr>\n",
       "  </thead>\n",
       "  <tbody>\n",
       "    <tr>\n",
       "      <th>Light Gradient</th>\n",
       "      <td>0.334</td>\n",
       "      <td>0.714</td>\n",
       "    </tr>\n",
       "    <tr>\n",
       "      <th>XGBoost</th>\n",
       "      <td>0.33</td>\n",
       "      <td>0.707</td>\n",
       "    </tr>\n",
       "    <tr>\n",
       "      <th>Random Forest</th>\n",
       "      <td>0.308</td>\n",
       "      <td>0.658</td>\n",
       "    </tr>\n",
       "    <tr>\n",
       "      <th>Extra Trees</th>\n",
       "      <td>0.303</td>\n",
       "      <td>0.649</td>\n",
       "    </tr>\n",
       "    <tr>\n",
       "      <th>KNN</th>\n",
       "      <td>0.291</td>\n",
       "      <td>0.623</td>\n",
       "    </tr>\n",
       "    <tr>\n",
       "      <th>Logistic Regression</th>\n",
       "      <td>0.287</td>\n",
       "      <td>0.615</td>\n",
       "    </tr>\n",
       "  </tbody>\n",
       "</table>\n",
       "</div>"
      ],
      "text/plain": [
       "                    Precision_at_k Recall_at_k\n",
       "Light Gradient               0.334       0.714\n",
       "XGBoost                       0.33       0.707\n",
       "Random Forest                0.308       0.658\n",
       "Extra Trees                  0.303       0.649\n",
       "KNN                          0.291       0.623\n",
       "Logistic Regression          0.287       0.615"
      ]
     },
     "execution_count": 89,
     "metadata": {},
     "output_type": "execute_result"
    }
   ],
   "source": [
    "metrics = pd.concat([ knn_metrics, lr_metrics, et_metrics, rf_metrics, xgb_metrics, lgbm_metrics] )\n",
    "metrics.sort_values('Precision_at_k', ascending=False)"
   ]
  },
  {
   "cell_type": "markdown",
   "id": "434a1a6c",
   "metadata": {},
   "source": [
    "# 7.0 CROSS VALIDATION"
   ]
  },
  {
   "cell_type": "code",
   "execution_count": 115,
   "id": "b1cbbdb2",
   "metadata": {
    "ExecuteTime": {
     "end_time": "2022-10-10T22:31:07.067095Z",
     "start_time": "2022-10-10T22:31:07.018111Z"
    }
   },
   "outputs": [
    {
     "data": {
      "text/html": [
       "<div>\n",
       "<style scoped>\n",
       "    .dataframe tbody tr th:only-of-type {\n",
       "        vertical-align: middle;\n",
       "    }\n",
       "\n",
       "    .dataframe tbody tr th {\n",
       "        vertical-align: top;\n",
       "    }\n",
       "\n",
       "    .dataframe thead th {\n",
       "        text-align: right;\n",
       "    }\n",
       "</style>\n",
       "<table border=\"1\" class=\"dataframe\">\n",
       "  <thead>\n",
       "    <tr style=\"text-align: right;\">\n",
       "      <th></th>\n",
       "      <th>Precision_at_k</th>\n",
       "      <th>Recall_at_k</th>\n",
       "    </tr>\n",
       "  </thead>\n",
       "  <tbody>\n",
       "    <tr>\n",
       "      <th>Light Gradient</th>\n",
       "      <td>0.309 +/- 0.001</td>\n",
       "      <td>0.828 +/- 0.004</td>\n",
       "    </tr>\n",
       "    <tr>\n",
       "      <th>XGBoost</th>\n",
       "      <td>0.308 +/- 0.002</td>\n",
       "      <td>0.824 +/- 0.005</td>\n",
       "    </tr>\n",
       "    <tr>\n",
       "      <th>Random Forest</th>\n",
       "      <td>0.293 +/- 0.001</td>\n",
       "      <td>0.784 +/- 0.004</td>\n",
       "    </tr>\n",
       "    <tr>\n",
       "      <th>Extra Trees</th>\n",
       "      <td>0.288 +/- 0.002</td>\n",
       "      <td>0.772 +/- 0.005</td>\n",
       "    </tr>\n",
       "    <tr>\n",
       "      <th>Logistic Regression</th>\n",
       "      <td>0.276 +/- 0.003</td>\n",
       "      <td>0.74 +/- 0.009</td>\n",
       "    </tr>\n",
       "    <tr>\n",
       "      <th>KNN</th>\n",
       "      <td>0.276 +/- 0.001</td>\n",
       "      <td>0.738 +/- 0.003</td>\n",
       "    </tr>\n",
       "  </tbody>\n",
       "</table>\n",
       "</div>"
      ],
      "text/plain": [
       "                      Precision_at_k      Recall_at_k\n",
       "Light Gradient       0.309 +/- 0.001  0.828 +/- 0.004\n",
       "XGBoost              0.308 +/- 0.002  0.824 +/- 0.005\n",
       "Random Forest        0.293 +/- 0.001  0.784 +/- 0.004\n",
       "Extra Trees          0.288 +/- 0.002  0.772 +/- 0.005\n",
       "Logistic Regression  0.276 +/- 0.003   0.74 +/- 0.009\n",
       "KNN                  0.276 +/- 0.001  0.738 +/- 0.003"
      ]
     },
     "execution_count": 115,
     "metadata": {},
     "output_type": "execute_result"
    }
   ],
   "source": [
    "results.sort_values( 'Precision_at_k', ascending=False )"
   ]
  },
  {
   "cell_type": "code",
   "execution_count": 116,
   "id": "1ff9c953",
   "metadata": {
    "ExecuteTime": {
     "end_time": "2022-10-10T22:47:49.331050Z",
     "start_time": "2022-10-10T22:47:49.064875Z"
    }
   },
   "outputs": [
    {
     "ename": "NameError",
     "evalue": "name 'warnings' is not defined",
     "output_type": "error",
     "traceback": [
      "\u001b[1;31m---------------------------------------------------------------------------\u001b[0m",
      "\u001b[1;31mNameError\u001b[0m                                 Traceback (most recent call last)",
      "\u001b[1;32m~\\AppData\\Local\\Temp/ipykernel_6564/3239450298.py\u001b[0m in \u001b[0;36m<module>\u001b[1;34m\u001b[0m\n\u001b[1;32m----> 1\u001b[1;33m \u001b[0mwarnings\u001b[0m\u001b[1;33m.\u001b[0m\u001b[0mfilterwarnings\u001b[0m\u001b[1;33m(\u001b[0m \u001b[1;34m'ignore'\u001b[0m \u001b[1;33m)\u001b[0m\u001b[1;33m\u001b[0m\u001b[1;33m\u001b[0m\u001b[0m\n\u001b[0m",
      "\u001b[1;31mNameError\u001b[0m: name 'warnings' is not defined"
     ]
    }
   ],
   "source": [
    "warnings.filterwarnings( 'ignore' )"
   ]
  },
  {
   "cell_type": "code",
   "execution_count": 112,
   "id": "492cbc19",
   "metadata": {
    "ExecuteTime": {
     "end_time": "2022-10-10T18:00:11.757675Z",
     "start_time": "2022-10-10T17:48:28.812959Z"
    }
   },
   "outputs": [
    {
     "name": "stdout",
     "output_type": "stream",
     "text": [
      "[14:59:16] WARNING: C:/Users/administrator/workspace/xgboost-win64_release_1.6.0/src/learner.cc:627: \n",
      "Parameters: { \"eval_metrics\" } might not be used.\n",
      "\n",
      "  This could be a false alarm, with some parameters getting used by language bindings but\n",
      "  then being mistakenly passed down to XGBoost core, or some parameter actually being used\n",
      "  but getting flagged wrongly here. Please open an issue if you find any such cases.\n",
      "\n",
      "\n",
      "[14:59:26] WARNING: C:/Users/administrator/workspace/xgboost-win64_release_1.6.0/src/learner.cc:627: \n",
      "Parameters: { \"eval_metrics\" } might not be used.\n",
      "\n",
      "  This could be a false alarm, with some parameters getting used by language bindings but\n",
      "  then being mistakenly passed down to XGBoost core, or some parameter actually being used\n",
      "  but getting flagged wrongly here. Please open an issue if you find any such cases.\n",
      "\n",
      "\n",
      "[14:59:36] WARNING: C:/Users/administrator/workspace/xgboost-win64_release_1.6.0/src/learner.cc:627: \n",
      "Parameters: { \"eval_metrics\" } might not be used.\n",
      "\n",
      "  This could be a false alarm, with some parameters getting used by language bindings but\n",
      "  then being mistakenly passed down to XGBoost core, or some parameter actually being used\n",
      "  but getting flagged wrongly here. Please open an issue if you find any such cases.\n",
      "\n",
      "\n",
      "[14:59:46] WARNING: C:/Users/administrator/workspace/xgboost-win64_release_1.6.0/src/learner.cc:627: \n",
      "Parameters: { \"eval_metrics\" } might not be used.\n",
      "\n",
      "  This could be a false alarm, with some parameters getting used by language bindings but\n",
      "  then being mistakenly passed down to XGBoost core, or some parameter actually being used\n",
      "  but getting flagged wrongly here. Please open an issue if you find any such cases.\n",
      "\n",
      "\n",
      "[14:59:56] WARNING: C:/Users/administrator/workspace/xgboost-win64_release_1.6.0/src/learner.cc:627: \n",
      "Parameters: { \"eval_metrics\" } might not be used.\n",
      "\n",
      "  This could be a false alarm, with some parameters getting used by language bindings but\n",
      "  then being mistakenly passed down to XGBoost core, or some parameter actually being used\n",
      "  but getting flagged wrongly here. Please open an issue if you find any such cases.\n",
      "\n",
      "\n"
     ]
    }
   ],
   "source": [
    "knn_model_cv = cross_validation( 'KNN', knn_model, x_train, y_train )\n",
    "lr_model_cv = cross_validation( 'Logistic Regression', lr_model, x_train, y_train )\n",
    "rf_model_cv = cross_validation( 'Random Forest', rf, x_train, y_train )\n",
    "et_model_cv = cross_validation( 'Extra Trees', et_model, x_train, y_train )\n",
    "xgb_model_cv = cross_validation( 'XGBoost', xgb_model, x_train, y_train )\n",
    "lgbm_model_cv = cross_validation( 'Light Gradient', lgbm_model, x_train, y_train )"
   ]
  },
  {
   "cell_type": "code",
   "execution_count": 113,
   "id": "2c11da48",
   "metadata": {
    "ExecuteTime": {
     "end_time": "2022-10-10T18:00:39.777476Z",
     "start_time": "2022-10-10T18:00:39.743657Z"
    }
   },
   "outputs": [],
   "source": [
    "results = pd.concat( [knn_model_cv, lr_model_cv, rf_model_cv, et_model_cv, xgb_model_cv, lgbm_model_cv] )"
   ]
  },
  {
   "cell_type": "code",
   "execution_count": 114,
   "id": "b800c338",
   "metadata": {
    "ExecuteTime": {
     "end_time": "2022-10-10T18:00:40.216224Z",
     "start_time": "2022-10-10T18:00:40.185566Z"
    }
   },
   "outputs": [
    {
     "data": {
      "text/html": [
       "<div>\n",
       "<style scoped>\n",
       "    .dataframe tbody tr th:only-of-type {\n",
       "        vertical-align: middle;\n",
       "    }\n",
       "\n",
       "    .dataframe tbody tr th {\n",
       "        vertical-align: top;\n",
       "    }\n",
       "\n",
       "    .dataframe thead th {\n",
       "        text-align: right;\n",
       "    }\n",
       "</style>\n",
       "<table border=\"1\" class=\"dataframe\">\n",
       "  <thead>\n",
       "    <tr style=\"text-align: right;\">\n",
       "      <th></th>\n",
       "      <th>Precision_at_k</th>\n",
       "      <th>Recall_at_k</th>\n",
       "    </tr>\n",
       "  </thead>\n",
       "  <tbody>\n",
       "    <tr>\n",
       "      <th>Light Gradient</th>\n",
       "      <td>0.309 +/- 0.001</td>\n",
       "      <td>0.828 +/- 0.004</td>\n",
       "    </tr>\n",
       "    <tr>\n",
       "      <th>XGBoost</th>\n",
       "      <td>0.308 +/- 0.002</td>\n",
       "      <td>0.824 +/- 0.005</td>\n",
       "    </tr>\n",
       "    <tr>\n",
       "      <th>Random Forest</th>\n",
       "      <td>0.293 +/- 0.001</td>\n",
       "      <td>0.784 +/- 0.004</td>\n",
       "    </tr>\n",
       "    <tr>\n",
       "      <th>Extra Trees</th>\n",
       "      <td>0.288 +/- 0.002</td>\n",
       "      <td>0.772 +/- 0.005</td>\n",
       "    </tr>\n",
       "    <tr>\n",
       "      <th>Logistic Regression</th>\n",
       "      <td>0.276 +/- 0.003</td>\n",
       "      <td>0.74 +/- 0.009</td>\n",
       "    </tr>\n",
       "    <tr>\n",
       "      <th>KNN</th>\n",
       "      <td>0.276 +/- 0.001</td>\n",
       "      <td>0.738 +/- 0.003</td>\n",
       "    </tr>\n",
       "  </tbody>\n",
       "</table>\n",
       "</div>"
      ],
      "text/plain": [
       "                      Precision_at_k      Recall_at_k\n",
       "Light Gradient       0.309 +/- 0.001  0.828 +/- 0.004\n",
       "XGBoost              0.308 +/- 0.002  0.824 +/- 0.005\n",
       "Random Forest        0.293 +/- 0.001  0.784 +/- 0.004\n",
       "Extra Trees          0.288 +/- 0.002  0.772 +/- 0.005\n",
       "Logistic Regression  0.276 +/- 0.003   0.74 +/- 0.009\n",
       "KNN                  0.276 +/- 0.001  0.738 +/- 0.003"
      ]
     },
     "execution_count": 114,
     "metadata": {},
     "output_type": "execute_result"
    }
   ],
   "source": [
    "results.sort_values( 'Precision_at_k', ascending=False )"
   ]
  },
  {
   "cell_type": "markdown",
   "id": "38ee0426",
   "metadata": {},
   "source": [
    "# 8.0 HYPER-PARAMETER FINE TUNING"
   ]
  },
  {
   "cell_type": "code",
   "execution_count": 130,
   "id": "e7cb891c",
   "metadata": {
    "ExecuteTime": {
     "end_time": "2022-10-10T22:55:31.524553Z",
     "start_time": "2022-10-10T22:55:31.519557Z"
    }
   },
   "outputs": [],
   "source": [
    "warnings.filterwarnings( 'ignore' )"
   ]
  },
  {
   "cell_type": "code",
   "execution_count": 132,
   "id": "37e121f2",
   "metadata": {
    "ExecuteTime": {
     "end_time": "2022-10-10T22:55:38.511291Z",
     "start_time": "2022-10-10T22:55:38.498297Z"
    }
   },
   "outputs": [],
   "source": [
    "param = {'n_estimators':[1500, 1700, 2500, 3000, 3500], \n",
    "         'eta':[0.01, 0.03],\n",
    "         'max_depth':[3, 5, 9],\n",
    "         'subsample':[0.1, 0.5, 0.7],\n",
    "         'colsample_bytree':[0.3, 0.7, 0.9],\n",
    "         'min_child_weight':[3, 8, 15],\n",
    "        }\n",
    "\n",
    "MAX_EVAL = 10\n",
    "\n"
   ]
  },
  {
   "cell_type": "code",
   "execution_count": 133,
   "id": "ffdee91d",
   "metadata": {
    "ExecuteTime": {
     "end_time": "2022-10-10T23:03:40.679763Z",
     "start_time": "2022-10-10T22:55:39.208537Z"
    }
   },
   "outputs": [
    {
     "name": "stdout",
     "output_type": "stream",
     "text": [
      "{'n_estimators': 1500, 'eta': 0.01, 'max_depth': 9, 'subsample': 0.7, 'colsample_bytree': 0.9, 'min_child_weight': 3}\n",
      "[19:55:39] WARNING: C:/Users/administrator/workspace/xgboost-win64_release_1.6.0/src/learner.cc:627: \n",
      "Parameters: { \"eval_metrics\" } might not be used.\n",
      "\n",
      "  This could be a false alarm, with some parameters getting used by language bindings but\n",
      "  then being mistakenly passed down to XGBoost core, or some parameter actually being used\n",
      "  but getting flagged wrongly here. Please open an issue if you find any such cases.\n",
      "\n",
      "\n",
      "[19:55:49] WARNING: C:/Users/administrator/workspace/xgboost-win64_release_1.6.0/src/learner.cc:627: \n",
      "Parameters: { \"eval_metrics\" } might not be used.\n",
      "\n",
      "  This could be a false alarm, with some parameters getting used by language bindings but\n",
      "  then being mistakenly passed down to XGBoost core, or some parameter actually being used\n",
      "  but getting flagged wrongly here. Please open an issue if you find any such cases.\n",
      "\n",
      "\n",
      "[19:55:59] WARNING: C:/Users/administrator/workspace/xgboost-win64_release_1.6.0/src/learner.cc:627: \n",
      "Parameters: { \"eval_metrics\" } might not be used.\n",
      "\n",
      "  This could be a false alarm, with some parameters getting used by language bindings but\n",
      "  then being mistakenly passed down to XGBoost core, or some parameter actually being used\n",
      "  but getting flagged wrongly here. Please open an issue if you find any such cases.\n",
      "\n",
      "\n",
      "[19:56:09] WARNING: C:/Users/administrator/workspace/xgboost-win64_release_1.6.0/src/learner.cc:627: \n",
      "Parameters: { \"eval_metrics\" } might not be used.\n",
      "\n",
      "  This could be a false alarm, with some parameters getting used by language bindings but\n",
      "  then being mistakenly passed down to XGBoost core, or some parameter actually being used\n",
      "  but getting flagged wrongly here. Please open an issue if you find any such cases.\n",
      "\n",
      "\n",
      "[19:56:19] WARNING: C:/Users/administrator/workspace/xgboost-win64_release_1.6.0/src/learner.cc:627: \n",
      "Parameters: { \"eval_metrics\" } might not be used.\n",
      "\n",
      "  This could be a false alarm, with some parameters getting used by language bindings but\n",
      "  then being mistakenly passed down to XGBoost core, or some parameter actually being used\n",
      "  but getting flagged wrongly here. Please open an issue if you find any such cases.\n",
      "\n",
      "\n",
      "{'n_estimators': 2500, 'eta': 0.03, 'max_depth': 5, 'subsample': 0.5, 'colsample_bytree': 0.7, 'min_child_weight': 15}\n",
      "[19:56:29] WARNING: C:/Users/administrator/workspace/xgboost-win64_release_1.6.0/src/learner.cc:627: \n",
      "Parameters: { \"eval_metrics\" } might not be used.\n",
      "\n",
      "  This could be a false alarm, with some parameters getting used by language bindings but\n",
      "  then being mistakenly passed down to XGBoost core, or some parameter actually being used\n",
      "  but getting flagged wrongly here. Please open an issue if you find any such cases.\n",
      "\n",
      "\n",
      "[19:56:39] WARNING: C:/Users/administrator/workspace/xgboost-win64_release_1.6.0/src/learner.cc:627: \n",
      "Parameters: { \"eval_metrics\" } might not be used.\n",
      "\n",
      "  This could be a false alarm, with some parameters getting used by language bindings but\n",
      "  then being mistakenly passed down to XGBoost core, or some parameter actually being used\n",
      "  but getting flagged wrongly here. Please open an issue if you find any such cases.\n",
      "\n",
      "\n",
      "[19:56:49] WARNING: C:/Users/administrator/workspace/xgboost-win64_release_1.6.0/src/learner.cc:627: \n",
      "Parameters: { \"eval_metrics\" } might not be used.\n",
      "\n",
      "  This could be a false alarm, with some parameters getting used by language bindings but\n",
      "  then being mistakenly passed down to XGBoost core, or some parameter actually being used\n",
      "  but getting flagged wrongly here. Please open an issue if you find any such cases.\n",
      "\n",
      "\n",
      "[19:56:59] WARNING: C:/Users/administrator/workspace/xgboost-win64_release_1.6.0/src/learner.cc:627: \n",
      "Parameters: { \"eval_metrics\" } might not be used.\n",
      "\n",
      "  This could be a false alarm, with some parameters getting used by language bindings but\n",
      "  then being mistakenly passed down to XGBoost core, or some parameter actually being used\n",
      "  but getting flagged wrongly here. Please open an issue if you find any such cases.\n",
      "\n",
      "\n",
      "[19:57:09] WARNING: C:/Users/administrator/workspace/xgboost-win64_release_1.6.0/src/learner.cc:627: \n",
      "Parameters: { \"eval_metrics\" } might not be used.\n",
      "\n",
      "  This could be a false alarm, with some parameters getting used by language bindings but\n",
      "  then being mistakenly passed down to XGBoost core, or some parameter actually being used\n",
      "  but getting flagged wrongly here. Please open an issue if you find any such cases.\n",
      "\n",
      "\n",
      "{'n_estimators': 2500, 'eta': 0.01, 'max_depth': 3, 'subsample': 0.7, 'colsample_bytree': 0.9, 'min_child_weight': 3}\n",
      "[19:57:19] WARNING: C:/Users/administrator/workspace/xgboost-win64_release_1.6.0/src/learner.cc:627: \n",
      "Parameters: { \"eval_metrics\" } might not be used.\n",
      "\n",
      "  This could be a false alarm, with some parameters getting used by language bindings but\n",
      "  then being mistakenly passed down to XGBoost core, or some parameter actually being used\n",
      "  but getting flagged wrongly here. Please open an issue if you find any such cases.\n",
      "\n",
      "\n",
      "[19:57:29] WARNING: C:/Users/administrator/workspace/xgboost-win64_release_1.6.0/src/learner.cc:627: \n",
      "Parameters: { \"eval_metrics\" } might not be used.\n",
      "\n",
      "  This could be a false alarm, with some parameters getting used by language bindings but\n",
      "  then being mistakenly passed down to XGBoost core, or some parameter actually being used\n",
      "  but getting flagged wrongly here. Please open an issue if you find any such cases.\n",
      "\n",
      "\n",
      "[19:57:39] WARNING: C:/Users/administrator/workspace/xgboost-win64_release_1.6.0/src/learner.cc:627: \n",
      "Parameters: { \"eval_metrics\" } might not be used.\n",
      "\n",
      "  This could be a false alarm, with some parameters getting used by language bindings but\n",
      "  then being mistakenly passed down to XGBoost core, or some parameter actually being used\n",
      "  but getting flagged wrongly here. Please open an issue if you find any such cases.\n",
      "\n",
      "\n",
      "[19:57:48] WARNING: C:/Users/administrator/workspace/xgboost-win64_release_1.6.0/src/learner.cc:627: \n",
      "Parameters: { \"eval_metrics\" } might not be used.\n",
      "\n",
      "  This could be a false alarm, with some parameters getting used by language bindings but\n",
      "  then being mistakenly passed down to XGBoost core, or some parameter actually being used\n",
      "  but getting flagged wrongly here. Please open an issue if you find any such cases.\n",
      "\n",
      "\n",
      "[19:57:59] WARNING: C:/Users/administrator/workspace/xgboost-win64_release_1.6.0/src/learner.cc:627: \n",
      "Parameters: { \"eval_metrics\" } might not be used.\n",
      "\n",
      "  This could be a false alarm, with some parameters getting used by language bindings but\n",
      "  then being mistakenly passed down to XGBoost core, or some parameter actually being used\n",
      "  but getting flagged wrongly here. Please open an issue if you find any such cases.\n",
      "\n",
      "\n",
      "{'n_estimators': 3000, 'eta': 0.03, 'max_depth': 3, 'subsample': 0.1, 'colsample_bytree': 0.3, 'min_child_weight': 15}\n",
      "[19:58:09] WARNING: C:/Users/administrator/workspace/xgboost-win64_release_1.6.0/src/learner.cc:627: \n",
      "Parameters: { \"eval_metrics\" } might not be used.\n",
      "\n",
      "  This could be a false alarm, with some parameters getting used by language bindings but\n",
      "  then being mistakenly passed down to XGBoost core, or some parameter actually being used\n",
      "  but getting flagged wrongly here. Please open an issue if you find any such cases.\n",
      "\n",
      "\n",
      "[19:58:19] WARNING: C:/Users/administrator/workspace/xgboost-win64_release_1.6.0/src/learner.cc:627: \n",
      "Parameters: { \"eval_metrics\" } might not be used.\n",
      "\n",
      "  This could be a false alarm, with some parameters getting used by language bindings but\n",
      "  then being mistakenly passed down to XGBoost core, or some parameter actually being used\n",
      "  but getting flagged wrongly here. Please open an issue if you find any such cases.\n",
      "\n",
      "\n",
      "[19:58:29] WARNING: C:/Users/administrator/workspace/xgboost-win64_release_1.6.0/src/learner.cc:627: \n",
      "Parameters: { \"eval_metrics\" } might not be used.\n",
      "\n",
      "  This could be a false alarm, with some parameters getting used by language bindings but\n",
      "  then being mistakenly passed down to XGBoost core, or some parameter actually being used\n",
      "  but getting flagged wrongly here. Please open an issue if you find any such cases.\n",
      "\n",
      "\n",
      "[19:58:39] WARNING: C:/Users/administrator/workspace/xgboost-win64_release_1.6.0/src/learner.cc:627: \n",
      "Parameters: { \"eval_metrics\" } might not be used.\n",
      "\n",
      "  This could be a false alarm, with some parameters getting used by language bindings but\n",
      "  then being mistakenly passed down to XGBoost core, or some parameter actually being used\n",
      "  but getting flagged wrongly here. Please open an issue if you find any such cases.\n",
      "\n",
      "\n"
     ]
    },
    {
     "name": "stdout",
     "output_type": "stream",
     "text": [
      "[19:58:49] WARNING: C:/Users/administrator/workspace/xgboost-win64_release_1.6.0/src/learner.cc:627: \n",
      "Parameters: { \"eval_metrics\" } might not be used.\n",
      "\n",
      "  This could be a false alarm, with some parameters getting used by language bindings but\n",
      "  then being mistakenly passed down to XGBoost core, or some parameter actually being used\n",
      "  but getting flagged wrongly here. Please open an issue if you find any such cases.\n",
      "\n",
      "\n",
      "{'n_estimators': 3000, 'eta': 0.03, 'max_depth': 3, 'subsample': 0.7, 'colsample_bytree': 0.7, 'min_child_weight': 8}\n",
      "[19:58:59] WARNING: C:/Users/administrator/workspace/xgboost-win64_release_1.6.0/src/learner.cc:627: \n",
      "Parameters: { \"eval_metrics\" } might not be used.\n",
      "\n",
      "  This could be a false alarm, with some parameters getting used by language bindings but\n",
      "  then being mistakenly passed down to XGBoost core, or some parameter actually being used\n",
      "  but getting flagged wrongly here. Please open an issue if you find any such cases.\n",
      "\n",
      "\n",
      "[19:59:09] WARNING: C:/Users/administrator/workspace/xgboost-win64_release_1.6.0/src/learner.cc:627: \n",
      "Parameters: { \"eval_metrics\" } might not be used.\n",
      "\n",
      "  This could be a false alarm, with some parameters getting used by language bindings but\n",
      "  then being mistakenly passed down to XGBoost core, or some parameter actually being used\n",
      "  but getting flagged wrongly here. Please open an issue if you find any such cases.\n",
      "\n",
      "\n",
      "[19:59:19] WARNING: C:/Users/administrator/workspace/xgboost-win64_release_1.6.0/src/learner.cc:627: \n",
      "Parameters: { \"eval_metrics\" } might not be used.\n",
      "\n",
      "  This could be a false alarm, with some parameters getting used by language bindings but\n",
      "  then being mistakenly passed down to XGBoost core, or some parameter actually being used\n",
      "  but getting flagged wrongly here. Please open an issue if you find any such cases.\n",
      "\n",
      "\n",
      "[19:59:29] WARNING: C:/Users/administrator/workspace/xgboost-win64_release_1.6.0/src/learner.cc:627: \n",
      "Parameters: { \"eval_metrics\" } might not be used.\n",
      "\n",
      "  This could be a false alarm, with some parameters getting used by language bindings but\n",
      "  then being mistakenly passed down to XGBoost core, or some parameter actually being used\n",
      "  but getting flagged wrongly here. Please open an issue if you find any such cases.\n",
      "\n",
      "\n",
      "[19:59:39] WARNING: C:/Users/administrator/workspace/xgboost-win64_release_1.6.0/src/learner.cc:627: \n",
      "Parameters: { \"eval_metrics\" } might not be used.\n",
      "\n",
      "  This could be a false alarm, with some parameters getting used by language bindings but\n",
      "  then being mistakenly passed down to XGBoost core, or some parameter actually being used\n",
      "  but getting flagged wrongly here. Please open an issue if you find any such cases.\n",
      "\n",
      "\n",
      "{'n_estimators': 1700, 'eta': 0.03, 'max_depth': 3, 'subsample': 0.7, 'colsample_bytree': 0.7, 'min_child_weight': 15}\n",
      "[19:59:49] WARNING: C:/Users/administrator/workspace/xgboost-win64_release_1.6.0/src/learner.cc:627: \n",
      "Parameters: { \"eval_metrics\" } might not be used.\n",
      "\n",
      "  This could be a false alarm, with some parameters getting used by language bindings but\n",
      "  then being mistakenly passed down to XGBoost core, or some parameter actually being used\n",
      "  but getting flagged wrongly here. Please open an issue if you find any such cases.\n",
      "\n",
      "\n",
      "[19:59:58] WARNING: C:/Users/administrator/workspace/xgboost-win64_release_1.6.0/src/learner.cc:627: \n",
      "Parameters: { \"eval_metrics\" } might not be used.\n",
      "\n",
      "  This could be a false alarm, with some parameters getting used by language bindings but\n",
      "  then being mistakenly passed down to XGBoost core, or some parameter actually being used\n",
      "  but getting flagged wrongly here. Please open an issue if you find any such cases.\n",
      "\n",
      "\n",
      "[20:00:08] WARNING: C:/Users/administrator/workspace/xgboost-win64_release_1.6.0/src/learner.cc:627: \n",
      "Parameters: { \"eval_metrics\" } might not be used.\n",
      "\n",
      "  This could be a false alarm, with some parameters getting used by language bindings but\n",
      "  then being mistakenly passed down to XGBoost core, or some parameter actually being used\n",
      "  but getting flagged wrongly here. Please open an issue if you find any such cases.\n",
      "\n",
      "\n",
      "[20:00:19] WARNING: C:/Users/administrator/workspace/xgboost-win64_release_1.6.0/src/learner.cc:627: \n",
      "Parameters: { \"eval_metrics\" } might not be used.\n",
      "\n",
      "  This could be a false alarm, with some parameters getting used by language bindings but\n",
      "  then being mistakenly passed down to XGBoost core, or some parameter actually being used\n",
      "  but getting flagged wrongly here. Please open an issue if you find any such cases.\n",
      "\n",
      "\n",
      "[20:00:29] WARNING: C:/Users/administrator/workspace/xgboost-win64_release_1.6.0/src/learner.cc:627: \n",
      "Parameters: { \"eval_metrics\" } might not be used.\n",
      "\n",
      "  This could be a false alarm, with some parameters getting used by language bindings but\n",
      "  then being mistakenly passed down to XGBoost core, or some parameter actually being used\n",
      "  but getting flagged wrongly here. Please open an issue if you find any such cases.\n",
      "\n",
      "\n",
      "{'n_estimators': 2500, 'eta': 0.01, 'max_depth': 5, 'subsample': 0.7, 'colsample_bytree': 0.7, 'min_child_weight': 15}\n",
      "[20:00:39] WARNING: C:/Users/administrator/workspace/xgboost-win64_release_1.6.0/src/learner.cc:627: \n",
      "Parameters: { \"eval_metrics\" } might not be used.\n",
      "\n",
      "  This could be a false alarm, with some parameters getting used by language bindings but\n",
      "  then being mistakenly passed down to XGBoost core, or some parameter actually being used\n",
      "  but getting flagged wrongly here. Please open an issue if you find any such cases.\n",
      "\n",
      "\n",
      "[20:00:49] WARNING: C:/Users/administrator/workspace/xgboost-win64_release_1.6.0/src/learner.cc:627: \n",
      "Parameters: { \"eval_metrics\" } might not be used.\n",
      "\n",
      "  This could be a false alarm, with some parameters getting used by language bindings but\n",
      "  then being mistakenly passed down to XGBoost core, or some parameter actually being used\n",
      "  but getting flagged wrongly here. Please open an issue if you find any such cases.\n",
      "\n",
      "\n",
      "[20:00:58] WARNING: C:/Users/administrator/workspace/xgboost-win64_release_1.6.0/src/learner.cc:627: \n",
      "Parameters: { \"eval_metrics\" } might not be used.\n",
      "\n",
      "  This could be a false alarm, with some parameters getting used by language bindings but\n",
      "  then being mistakenly passed down to XGBoost core, or some parameter actually being used\n",
      "  but getting flagged wrongly here. Please open an issue if you find any such cases.\n",
      "\n",
      "\n",
      "[20:01:08] WARNING: C:/Users/administrator/workspace/xgboost-win64_release_1.6.0/src/learner.cc:627: \n",
      "Parameters: { \"eval_metrics\" } might not be used.\n",
      "\n",
      "  This could be a false alarm, with some parameters getting used by language bindings but\n",
      "  then being mistakenly passed down to XGBoost core, or some parameter actually being used\n",
      "  but getting flagged wrongly here. Please open an issue if you find any such cases.\n",
      "\n",
      "\n",
      "[20:01:18] WARNING: C:/Users/administrator/workspace/xgboost-win64_release_1.6.0/src/learner.cc:627: \n",
      "Parameters: { \"eval_metrics\" } might not be used.\n",
      "\n",
      "  This could be a false alarm, with some parameters getting used by language bindings but\n",
      "  then being mistakenly passed down to XGBoost core, or some parameter actually being used\n",
      "  but getting flagged wrongly here. Please open an issue if you find any such cases.\n",
      "\n",
      "\n",
      "{'n_estimators': 1500, 'eta': 0.03, 'max_depth': 9, 'subsample': 0.1, 'colsample_bytree': 0.9, 'min_child_weight': 3}\n",
      "[20:01:28] WARNING: C:/Users/administrator/workspace/xgboost-win64_release_1.6.0/src/learner.cc:627: \n",
      "Parameters: { \"eval_metrics\" } might not be used.\n",
      "\n",
      "  This could be a false alarm, with some parameters getting used by language bindings but\n",
      "  then being mistakenly passed down to XGBoost core, or some parameter actually being used\n",
      "  but getting flagged wrongly here. Please open an issue if you find any such cases.\n",
      "\n",
      "\n",
      "[20:01:38] WARNING: C:/Users/administrator/workspace/xgboost-win64_release_1.6.0/src/learner.cc:627: \n",
      "Parameters: { \"eval_metrics\" } might not be used.\n",
      "\n",
      "  This could be a false alarm, with some parameters getting used by language bindings but\n",
      "  then being mistakenly passed down to XGBoost core, or some parameter actually being used\n",
      "  but getting flagged wrongly here. Please open an issue if you find any such cases.\n",
      "\n",
      "\n",
      "[20:01:48] WARNING: C:/Users/administrator/workspace/xgboost-win64_release_1.6.0/src/learner.cc:627: \n",
      "Parameters: { \"eval_metrics\" } might not be used.\n",
      "\n",
      "  This could be a false alarm, with some parameters getting used by language bindings but\n",
      "  then being mistakenly passed down to XGBoost core, or some parameter actually being used\n",
      "  but getting flagged wrongly here. Please open an issue if you find any such cases.\n",
      "\n",
      "\n"
     ]
    },
    {
     "name": "stdout",
     "output_type": "stream",
     "text": [
      "[20:01:57] WARNING: C:/Users/administrator/workspace/xgboost-win64_release_1.6.0/src/learner.cc:627: \n",
      "Parameters: { \"eval_metrics\" } might not be used.\n",
      "\n",
      "  This could be a false alarm, with some parameters getting used by language bindings but\n",
      "  then being mistakenly passed down to XGBoost core, or some parameter actually being used\n",
      "  but getting flagged wrongly here. Please open an issue if you find any such cases.\n",
      "\n",
      "\n",
      "[20:02:07] WARNING: C:/Users/administrator/workspace/xgboost-win64_release_1.6.0/src/learner.cc:627: \n",
      "Parameters: { \"eval_metrics\" } might not be used.\n",
      "\n",
      "  This could be a false alarm, with some parameters getting used by language bindings but\n",
      "  then being mistakenly passed down to XGBoost core, or some parameter actually being used\n",
      "  but getting flagged wrongly here. Please open an issue if you find any such cases.\n",
      "\n",
      "\n",
      "{'n_estimators': 3500, 'eta': 0.01, 'max_depth': 5, 'subsample': 0.5, 'colsample_bytree': 0.7, 'min_child_weight': 8}\n",
      "[20:02:17] WARNING: C:/Users/administrator/workspace/xgboost-win64_release_1.6.0/src/learner.cc:627: \n",
      "Parameters: { \"eval_metrics\" } might not be used.\n",
      "\n",
      "  This could be a false alarm, with some parameters getting used by language bindings but\n",
      "  then being mistakenly passed down to XGBoost core, or some parameter actually being used\n",
      "  but getting flagged wrongly here. Please open an issue if you find any such cases.\n",
      "\n",
      "\n",
      "[20:02:27] WARNING: C:/Users/administrator/workspace/xgboost-win64_release_1.6.0/src/learner.cc:627: \n",
      "Parameters: { \"eval_metrics\" } might not be used.\n",
      "\n",
      "  This could be a false alarm, with some parameters getting used by language bindings but\n",
      "  then being mistakenly passed down to XGBoost core, or some parameter actually being used\n",
      "  but getting flagged wrongly here. Please open an issue if you find any such cases.\n",
      "\n",
      "\n",
      "[20:02:37] WARNING: C:/Users/administrator/workspace/xgboost-win64_release_1.6.0/src/learner.cc:627: \n",
      "Parameters: { \"eval_metrics\" } might not be used.\n",
      "\n",
      "  This could be a false alarm, with some parameters getting used by language bindings but\n",
      "  then being mistakenly passed down to XGBoost core, or some parameter actually being used\n",
      "  but getting flagged wrongly here. Please open an issue if you find any such cases.\n",
      "\n",
      "\n",
      "[20:02:47] WARNING: C:/Users/administrator/workspace/xgboost-win64_release_1.6.0/src/learner.cc:627: \n",
      "Parameters: { \"eval_metrics\" } might not be used.\n",
      "\n",
      "  This could be a false alarm, with some parameters getting used by language bindings but\n",
      "  then being mistakenly passed down to XGBoost core, or some parameter actually being used\n",
      "  but getting flagged wrongly here. Please open an issue if you find any such cases.\n",
      "\n",
      "\n",
      "[20:02:57] WARNING: C:/Users/administrator/workspace/xgboost-win64_release_1.6.0/src/learner.cc:627: \n",
      "Parameters: { \"eval_metrics\" } might not be used.\n",
      "\n",
      "  This could be a false alarm, with some parameters getting used by language bindings but\n",
      "  then being mistakenly passed down to XGBoost core, or some parameter actually being used\n",
      "  but getting flagged wrongly here. Please open an issue if you find any such cases.\n",
      "\n",
      "\n",
      "{'n_estimators': 1700, 'eta': 0.01, 'max_depth': 3, 'subsample': 0.5, 'colsample_bytree': 0.7, 'min_child_weight': 8}\n",
      "[20:03:07] WARNING: C:/Users/administrator/workspace/xgboost-win64_release_1.6.0/src/learner.cc:627: \n",
      "Parameters: { \"eval_metrics\" } might not be used.\n",
      "\n",
      "  This could be a false alarm, with some parameters getting used by language bindings but\n",
      "  then being mistakenly passed down to XGBoost core, or some parameter actually being used\n",
      "  but getting flagged wrongly here. Please open an issue if you find any such cases.\n",
      "\n",
      "\n",
      "[20:03:17] WARNING: C:/Users/administrator/workspace/xgboost-win64_release_1.6.0/src/learner.cc:627: \n",
      "Parameters: { \"eval_metrics\" } might not be used.\n",
      "\n",
      "  This could be a false alarm, with some parameters getting used by language bindings but\n",
      "  then being mistakenly passed down to XGBoost core, or some parameter actually being used\n",
      "  but getting flagged wrongly here. Please open an issue if you find any such cases.\n",
      "\n",
      "\n",
      "[20:03:27] WARNING: C:/Users/administrator/workspace/xgboost-win64_release_1.6.0/src/learner.cc:627: \n",
      "Parameters: { \"eval_metrics\" } might not be used.\n",
      "\n",
      "  This could be a false alarm, with some parameters getting used by language bindings but\n",
      "  then being mistakenly passed down to XGBoost core, or some parameter actually being used\n",
      "  but getting flagged wrongly here. Please open an issue if you find any such cases.\n",
      "\n",
      "\n",
      "[20:03:37] WARNING: C:/Users/administrator/workspace/xgboost-win64_release_1.6.0/src/learner.cc:627: \n",
      "Parameters: { \"eval_metrics\" } might not be used.\n",
      "\n",
      "  This could be a false alarm, with some parameters getting used by language bindings but\n",
      "  then being mistakenly passed down to XGBoost core, or some parameter actually being used\n",
      "  but getting flagged wrongly here. Please open an issue if you find any such cases.\n",
      "\n",
      "\n"
     ]
    },
    {
     "ename": "KeyboardInterrupt",
     "evalue": "",
     "output_type": "error",
     "traceback": [
      "\u001b[1;31m---------------------------------------------------------------------------\u001b[0m",
      "\u001b[1;31mKeyboardInterrupt\u001b[0m                         Traceback (most recent call last)",
      "\u001b[1;32m~\\AppData\\Local\\Temp/ipykernel_6564/2093219870.py\u001b[0m in \u001b[0;36m<module>\u001b[1;34m\u001b[0m\n\u001b[0;32m     18\u001b[0m \u001b[1;33m\u001b[0m\u001b[0m\n\u001b[0;32m     19\u001b[0m     \u001b[1;31m# performance\u001b[0m\u001b[1;33m\u001b[0m\u001b[1;33m\u001b[0m\u001b[0m\n\u001b[1;32m---> 20\u001b[1;33m     \u001b[0mresult\u001b[0m \u001b[1;33m=\u001b[0m \u001b[0mcross_validation\u001b[0m\u001b[1;33m(\u001b[0m \u001b[1;34m'XGBoost Regressor'\u001b[0m\u001b[1;33m,\u001b[0m \u001b[0mxgb_model\u001b[0m\u001b[1;33m,\u001b[0m \u001b[0mx_train\u001b[0m\u001b[1;33m,\u001b[0m \u001b[0my_train\u001b[0m \u001b[1;33m)\u001b[0m\u001b[1;33m\u001b[0m\u001b[1;33m\u001b[0m\u001b[0m\n\u001b[0m\u001b[0;32m     21\u001b[0m     \u001b[0mfinal_result\u001b[0m \u001b[1;33m=\u001b[0m \u001b[0mpd\u001b[0m\u001b[1;33m.\u001b[0m\u001b[0mconcat\u001b[0m\u001b[1;33m(\u001b[0m \u001b[1;33m[\u001b[0m\u001b[0mfinal_result\u001b[0m\u001b[1;33m,\u001b[0m \u001b[0mresult\u001b[0m\u001b[1;33m]\u001b[0m \u001b[1;33m)\u001b[0m\u001b[1;33m\u001b[0m\u001b[1;33m\u001b[0m\u001b[0m\n\u001b[0;32m     22\u001b[0m \u001b[1;33m\u001b[0m\u001b[0m\n",
      "\u001b[1;32m~\\AppData\\Local\\Temp/ipykernel_6564/3523114386.py\u001b[0m in \u001b[0;36mcross_validation\u001b[1;34m(model_name, model, x_train, y_train, k)\u001b[0m\n\u001b[0;32m    105\u001b[0m \u001b[1;33m\u001b[0m\u001b[0m\n\u001b[0;32m    106\u001b[0m         \u001b[1;31m# model training\u001b[0m\u001b[1;33m\u001b[0m\u001b[1;33m\u001b[0m\u001b[0m\n\u001b[1;32m--> 107\u001b[1;33m         \u001b[0mmodel\u001b[0m\u001b[1;33m.\u001b[0m\u001b[0mfit\u001b[0m\u001b[1;33m(\u001b[0m\u001b[0mx_train_cv\u001b[0m\u001b[1;33m,\u001b[0m \u001b[0my_train_cv\u001b[0m\u001b[1;33m)\u001b[0m\u001b[1;33m\u001b[0m\u001b[1;33m\u001b[0m\u001b[0m\n\u001b[0m\u001b[0;32m    108\u001b[0m \u001b[1;33m\u001b[0m\u001b[0m\n\u001b[0;32m    109\u001b[0m         \u001b[1;31m# prediction\u001b[0m\u001b[1;33m\u001b[0m\u001b[1;33m\u001b[0m\u001b[0m\n",
      "\u001b[1;32m~\\anaconda3\\lib\\site-packages\\xgboost\\core.py\u001b[0m in \u001b[0;36minner_f\u001b[1;34m(*args, **kwargs)\u001b[0m\n\u001b[0;32m    573\u001b[0m         \u001b[1;32mfor\u001b[0m \u001b[0mk\u001b[0m\u001b[1;33m,\u001b[0m \u001b[0marg\u001b[0m \u001b[1;32min\u001b[0m \u001b[0mzip\u001b[0m\u001b[1;33m(\u001b[0m\u001b[0msig\u001b[0m\u001b[1;33m.\u001b[0m\u001b[0mparameters\u001b[0m\u001b[1;33m,\u001b[0m \u001b[0margs\u001b[0m\u001b[1;33m)\u001b[0m\u001b[1;33m:\u001b[0m\u001b[1;33m\u001b[0m\u001b[1;33m\u001b[0m\u001b[0m\n\u001b[0;32m    574\u001b[0m             \u001b[0mkwargs\u001b[0m\u001b[1;33m[\u001b[0m\u001b[0mk\u001b[0m\u001b[1;33m]\u001b[0m \u001b[1;33m=\u001b[0m \u001b[0marg\u001b[0m\u001b[1;33m\u001b[0m\u001b[1;33m\u001b[0m\u001b[0m\n\u001b[1;32m--> 575\u001b[1;33m         \u001b[1;32mreturn\u001b[0m \u001b[0mf\u001b[0m\u001b[1;33m(\u001b[0m\u001b[1;33m**\u001b[0m\u001b[0mkwargs\u001b[0m\u001b[1;33m)\u001b[0m\u001b[1;33m\u001b[0m\u001b[1;33m\u001b[0m\u001b[0m\n\u001b[0m\u001b[0;32m    576\u001b[0m \u001b[1;33m\u001b[0m\u001b[0m\n\u001b[0;32m    577\u001b[0m     \u001b[1;32mreturn\u001b[0m \u001b[0minner_f\u001b[0m\u001b[1;33m\u001b[0m\u001b[1;33m\u001b[0m\u001b[0m\n",
      "\u001b[1;32m~\\anaconda3\\lib\\site-packages\\xgboost\\sklearn.py\u001b[0m in \u001b[0;36mfit\u001b[1;34m(self, X, y, sample_weight, base_margin, eval_set, eval_metric, early_stopping_rounds, verbose, xgb_model, sample_weight_eval_set, base_margin_eval_set, feature_weights, callbacks)\u001b[0m\n\u001b[0;32m   1398\u001b[0m         )\n\u001b[0;32m   1399\u001b[0m \u001b[1;33m\u001b[0m\u001b[0m\n\u001b[1;32m-> 1400\u001b[1;33m         self._Booster = train(\n\u001b[0m\u001b[0;32m   1401\u001b[0m             \u001b[0mparams\u001b[0m\u001b[1;33m,\u001b[0m\u001b[1;33m\u001b[0m\u001b[1;33m\u001b[0m\u001b[0m\n\u001b[0;32m   1402\u001b[0m             \u001b[0mtrain_dmatrix\u001b[0m\u001b[1;33m,\u001b[0m\u001b[1;33m\u001b[0m\u001b[1;33m\u001b[0m\u001b[0m\n",
      "\u001b[1;32m~\\anaconda3\\lib\\site-packages\\xgboost\\core.py\u001b[0m in \u001b[0;36minner_f\u001b[1;34m(*args, **kwargs)\u001b[0m\n\u001b[0;32m    573\u001b[0m         \u001b[1;32mfor\u001b[0m \u001b[0mk\u001b[0m\u001b[1;33m,\u001b[0m \u001b[0marg\u001b[0m \u001b[1;32min\u001b[0m \u001b[0mzip\u001b[0m\u001b[1;33m(\u001b[0m\u001b[0msig\u001b[0m\u001b[1;33m.\u001b[0m\u001b[0mparameters\u001b[0m\u001b[1;33m,\u001b[0m \u001b[0margs\u001b[0m\u001b[1;33m)\u001b[0m\u001b[1;33m:\u001b[0m\u001b[1;33m\u001b[0m\u001b[1;33m\u001b[0m\u001b[0m\n\u001b[0;32m    574\u001b[0m             \u001b[0mkwargs\u001b[0m\u001b[1;33m[\u001b[0m\u001b[0mk\u001b[0m\u001b[1;33m]\u001b[0m \u001b[1;33m=\u001b[0m \u001b[0marg\u001b[0m\u001b[1;33m\u001b[0m\u001b[1;33m\u001b[0m\u001b[0m\n\u001b[1;32m--> 575\u001b[1;33m         \u001b[1;32mreturn\u001b[0m \u001b[0mf\u001b[0m\u001b[1;33m(\u001b[0m\u001b[1;33m**\u001b[0m\u001b[0mkwargs\u001b[0m\u001b[1;33m)\u001b[0m\u001b[1;33m\u001b[0m\u001b[1;33m\u001b[0m\u001b[0m\n\u001b[0m\u001b[0;32m    576\u001b[0m \u001b[1;33m\u001b[0m\u001b[0m\n\u001b[0;32m    577\u001b[0m     \u001b[1;32mreturn\u001b[0m \u001b[0minner_f\u001b[0m\u001b[1;33m\u001b[0m\u001b[1;33m\u001b[0m\u001b[0m\n",
      "\u001b[1;32m~\\anaconda3\\lib\\site-packages\\xgboost\\training.py\u001b[0m in \u001b[0;36mtrain\u001b[1;34m(params, dtrain, num_boost_round, evals, obj, feval, maximize, early_stopping_rounds, evals_result, verbose_eval, xgb_model, callbacks, custom_metric)\u001b[0m\n\u001b[0;32m    179\u001b[0m         \u001b[1;32mif\u001b[0m \u001b[0mcb_container\u001b[0m\u001b[1;33m.\u001b[0m\u001b[0mbefore_iteration\u001b[0m\u001b[1;33m(\u001b[0m\u001b[0mbst\u001b[0m\u001b[1;33m,\u001b[0m \u001b[0mi\u001b[0m\u001b[1;33m,\u001b[0m \u001b[0mdtrain\u001b[0m\u001b[1;33m,\u001b[0m \u001b[0mevals\u001b[0m\u001b[1;33m)\u001b[0m\u001b[1;33m:\u001b[0m\u001b[1;33m\u001b[0m\u001b[1;33m\u001b[0m\u001b[0m\n\u001b[0;32m    180\u001b[0m             \u001b[1;32mbreak\u001b[0m\u001b[1;33m\u001b[0m\u001b[1;33m\u001b[0m\u001b[0m\n\u001b[1;32m--> 181\u001b[1;33m         \u001b[0mbst\u001b[0m\u001b[1;33m.\u001b[0m\u001b[0mupdate\u001b[0m\u001b[1;33m(\u001b[0m\u001b[0mdtrain\u001b[0m\u001b[1;33m,\u001b[0m \u001b[0mi\u001b[0m\u001b[1;33m,\u001b[0m \u001b[0mobj\u001b[0m\u001b[1;33m)\u001b[0m\u001b[1;33m\u001b[0m\u001b[1;33m\u001b[0m\u001b[0m\n\u001b[0m\u001b[0;32m    182\u001b[0m         \u001b[1;32mif\u001b[0m \u001b[0mcb_container\u001b[0m\u001b[1;33m.\u001b[0m\u001b[0mafter_iteration\u001b[0m\u001b[1;33m(\u001b[0m\u001b[0mbst\u001b[0m\u001b[1;33m,\u001b[0m \u001b[0mi\u001b[0m\u001b[1;33m,\u001b[0m \u001b[0mdtrain\u001b[0m\u001b[1;33m,\u001b[0m \u001b[0mevals\u001b[0m\u001b[1;33m)\u001b[0m\u001b[1;33m:\u001b[0m\u001b[1;33m\u001b[0m\u001b[1;33m\u001b[0m\u001b[0m\n\u001b[0;32m    183\u001b[0m             \u001b[1;32mbreak\u001b[0m\u001b[1;33m\u001b[0m\u001b[1;33m\u001b[0m\u001b[0m\n",
      "\u001b[1;32m~\\anaconda3\\lib\\site-packages\\xgboost\\core.py\u001b[0m in \u001b[0;36mupdate\u001b[1;34m(self, dtrain, iteration, fobj)\u001b[0m\n\u001b[0;32m   1776\u001b[0m \u001b[1;33m\u001b[0m\u001b[0m\n\u001b[0;32m   1777\u001b[0m         \u001b[1;32mif\u001b[0m \u001b[0mfobj\u001b[0m \u001b[1;32mis\u001b[0m \u001b[1;32mNone\u001b[0m\u001b[1;33m:\u001b[0m\u001b[1;33m\u001b[0m\u001b[1;33m\u001b[0m\u001b[0m\n\u001b[1;32m-> 1778\u001b[1;33m             _check_call(_LIB.XGBoosterUpdateOneIter(self.handle,\n\u001b[0m\u001b[0;32m   1779\u001b[0m                                                     \u001b[0mctypes\u001b[0m\u001b[1;33m.\u001b[0m\u001b[0mc_int\u001b[0m\u001b[1;33m(\u001b[0m\u001b[0miteration\u001b[0m\u001b[1;33m)\u001b[0m\u001b[1;33m,\u001b[0m\u001b[1;33m\u001b[0m\u001b[1;33m\u001b[0m\u001b[0m\n\u001b[0;32m   1780\u001b[0m                                                     dtrain.handle))\n",
      "\u001b[1;31mKeyboardInterrupt\u001b[0m: "
     ]
    }
   ],
   "source": [
    "final_result = pd.DataFrame()\n",
    "\n",
    "for i in range ( MAX_EVAL ):\n",
    "    # choose values parameters randomly\n",
    "    hp = { k : random.sample( v, 1 )[0] for k, v in param.items() }\n",
    "    print( hp )\n",
    "\n",
    "\n",
    "    # model\n",
    "    model_xgb = xgb.XGBRegressor( objective='reg:squarederror',\n",
    "                              n_estimators=hp['n_estimators'],\n",
    "                              eta=hp['eta'],\n",
    "                              max_depth=hp['max_depth'],\n",
    "                              subsample=hp['subsample'],\n",
    "                              colsample_bytree=hp['colsample_bytree'],\n",
    "                              min_child_weight=hp['min_child_weight'] )\n",
    "\n",
    "\n",
    "    # performance\n",
    "    result = cross_validation( 'XGBoost Regressor', xgb_model, x_train, y_train )\n",
    "    final_result = pd.concat( [final_result, result] )\n",
    "    \n",
    "final_result  "
   ]
  },
  {
   "cell_type": "code",
   "execution_count": null,
   "id": "d340683c",
   "metadata": {},
   "outputs": [],
   "source": []
  },
  {
   "cell_type": "markdown",
   "id": "1a97ae7d",
   "metadata": {},
   "source": [
    "# 9.0 MODEL PERFORMANCE"
   ]
  },
  {
   "cell_type": "code",
   "execution_count": 34,
   "id": "af9b2904",
   "metadata": {
    "ExecuteTime": {
     "end_time": "2022-10-10T14:39:14.367125Z",
     "start_time": "2022-10-10T14:39:14.270156Z"
    }
   },
   "outputs": [
    {
     "name": "stdout",
     "output_type": "stream",
     "text": [
      "Precision At K: 0.37254901960784315\n",
      "Recall At K: 0.002032302920098406\n"
     ]
    }
   ],
   "source": [
    "df7 = x_validation.copy()\n",
    "df7['response'] = y_validation.copy()\n",
    "\n",
    "# Propensity Score\n",
    "df7['score'] = yhat_knn[:, 1].tolist()\n",
    "\n",
    "# Sort clients by propensity score\n",
    "df7 = df7.sort_values( 'score', ascending=False )\n",
    "\n",
    "# Compute precision at K\n",
    "precision_at_50 = precision_at_k( df7, k=50 )\n",
    "print('Precision At K: {}'.format( precision_at_50 ) )\n",
    "\n",
    "# Recall at K\n",
    "recall_at_50 = recall_at_k( df7, k=50 )\n",
    "print('Recall At K: {}'.format( recall_at_50 ) )"
   ]
  },
  {
   "cell_type": "markdown",
   "id": "7d8e66c0",
   "metadata": {
    "heading_collapsed": true
   },
   "source": [
    "# 10.0 DEPLOY TO PRODUCTION     "
   ]
  },
  {
   "cell_type": "code",
   "execution_count": null,
   "id": "cc2c15a1",
   "metadata": {
    "ExecuteTime": {
     "start_time": "2022-10-06T21:23:17.471Z"
    },
    "hidden": true
   },
   "outputs": [],
   "source": [
    "pickle.dump( et_model, open('models/model_et.pkl', 'wb') )"
   ]
  },
  {
   "cell_type": "markdown",
   "id": "98bbff6a",
   "metadata": {
    "hidden": true
   },
   "source": [
    "## 8.1 Health Insurance Class"
   ]
  },
  {
   "cell_type": "code",
   "execution_count": null,
   "id": "7e78f422",
   "metadata": {
    "ExecuteTime": {
     "end_time": "2022-10-06T14:46:29.915796Z",
     "start_time": "2022-10-06T14:46:29.896802Z"
    },
    "hidden": true
   },
   "outputs": [],
   "source": [
    "import pickle\n",
    "import pandas as pd\n",
    "\n",
    "\n",
    "class HealthInsurance(object):\n",
    "\n",
    "    def __init__( self ):  \n",
    "        self.homepath = 'C:/Users/Pedro/repos/health_insurance_cross_sell/pa004_health_insurance_cross_sell/health_insurance_cross-sell/'\n",
    "        self.age_scaler                  = pickle.load( open(self.homepath + 'src/features/age_scaler.pkl', 'rb') )\n",
    "        self.annual_premium_scaler       = pickle.load( open(self.homepath + 'src/features/annual_premium_scaler.pkl', 'rb') )\n",
    "        self.policy_sales_channel_scaler = pickle.load( open(self.homepath + 'src/features/fe_policy_sales_channel_scaler.pkl', 'rb') )\n",
    "        self.gender_scaler               = pickle.load( open(self.homepath + 'src/features/target_encode_gender_scaler.pkl', 'rb') )\n",
    "        self.region_code_scaler          = pickle.load( open(self.homepath + 'src/features/target_encode_region_code_scaler.pkl', 'rb') )\n",
    "        self.vintage_scaler              = pickle.load( open(self.homepath + 'src/features/vintage_scaler.pkl', 'rb') )\n",
    "        \n",
    "        \n",
    "        \n",
    "    def data_cleaning(self, data):\n",
    "        \n",
    "        cols_new = ['id', 'gender', 'age', 'driving_license', 'region_code',\n",
    "                    'previously_insured', 'vehicle_age', 'vehicle_damage', \n",
    "                    'annual_premium', 'policy_sales_channel', 'vintage', 'response']\n",
    "\n",
    "        data.columns = cols_new\n",
    "        \n",
    "        return data\n",
    "    \n",
    "    \n",
    "    def feature_engineering(self, data):\n",
    "        \n",
    "        # vehicle_Age\n",
    "        data['vehicle_age'] = data['vehicle_age'].apply( lambda x: 'below_1_year' if x == '< 1 Year' else 'between_1_2_year' if x == '1-2 Year' else 'over_2_years' )\n",
    "\n",
    "        # vehicle_damage\n",
    "        data['vehicle_damage'] = data['vehicle_damage'].apply( lambda x: 1 if x == 'Yes' else 0 )\n",
    "        \n",
    "        return data\n",
    "    \n",
    "    \n",
    "    def data_preparation(self, data):\n",
    "        \n",
    "        # Annual Premium\n",
    "        data['annual_premium'] = self.annual_premium_scaler.transform( data[['annual_premium']].values )\n",
    "        \n",
    "        # Age\n",
    "        data['age'] = self.age_scaler.transform( data[['age']].values )\n",
    "        \n",
    "        # Vintage\n",
    "        data['vintage'] = self.vintage_scaler.transform( data[['vintage']].values )\n",
    "        \n",
    "        # Gender \n",
    "        data.loc[:, 'gender'] = data['gender'].map( self.gender_scaler )\n",
    "        \n",
    "        # Region Code \n",
    "        data.loc[:, 'region_code'] = data['region_code'].map( self.region_code_scaler )\n",
    "        \n",
    "        # Vehicle Age \n",
    "        data = pd.get_dummies( data, prefix='vehicle_age', columns=['vehicle_age'] )\n",
    "        \n",
    "        # Policy Sales Channel - Target Encoding / Frequency Encoding\n",
    "        data.loc[:, 'policy_sales_channel'] = data['policy_sales_channel'].map( self.policy_sales_channel_scaler )\n",
    "        \n",
    "        \n",
    "        # Best Features       \n",
    "        cols_selected = ['vintage', 'annual_premium', 'age', 'region_code', 'vehicle_damage', 'policy_sales_channel', 'previously_insured']\n",
    "        \n",
    "        return data[ cols_selected ] \n",
    "    \n",
    "    \n",
    "    def get_prediction(self, model, original_data, test_data):\n",
    "        \n",
    "        # Model Prediction\n",
    "        pred = model.predict_proba(test_data)\n",
    "\n",
    "        # Join prediction into original data\n",
    "        original_data['prediction'] = pred[:, 1].tolist()\n",
    "\n",
    "        return original_data.to_json(orient='records', date_format='iso')"
   ]
  },
  {
   "cell_type": "markdown",
   "id": "c3e10708",
   "metadata": {
    "hidden": true
   },
   "source": [
    "## 8.2 API Handler"
   ]
  },
  {
   "cell_type": "code",
   "execution_count": null,
   "id": "40525c68",
   "metadata": {
    "ExecuteTime": {
     "end_time": "2022-10-06T14:40:43.730978Z",
     "start_time": "2022-10-06T14:40:40.632799Z"
    },
    "hidden": true
   },
   "outputs": [],
   "source": [
    "import pickle\n",
    "import pandas as pd\n",
    "from flask import Flask, request, Response\n",
    "from healthinsurance.HealthInsurance import HealthInsurance\n",
    "\n",
    "\n",
    "\n",
    "# Loading Model\n",
    "path = 'C:/Users/Pedro/repos/health_insurance_cross_sell/pa004_health_insurance_cross_sell/health_insurance_cross-sell/'\n",
    "model = pickle.load( open(path + 'models/model_lr.pkl', 'rb' ) )\n",
    "\n",
    "# Initialize API\n",
    "app = Flask(__name__)\n",
    "\n",
    "@app.route( '/healthinsurance/predict',  methods=['POST'] )\n",
    "\n",
    "def health_insurance_predict():\n",
    "    test_json = request.get_json()\n",
    "    \n",
    "    if test_json:\n",
    "        if isinstance(test_json, dict):\n",
    "            test_raw = pd.DataFrame( test_json, index=[0] )\n",
    "            \n",
    "        else:\n",
    "            test_raw = pd.DataFrame( test_json, columns=test_json[0].keys() )\n",
    "            \n",
    "        \n",
    "        pipeline = HealthInsurance()\n",
    "        \n",
    "        # Data Cleaning\n",
    "        df1 = pipeline.data_cleaning( test_raw )\n",
    "        \n",
    "        # Feature Engineering\n",
    "        df2 = pipeline.feature_engineering( df1 )\n",
    "        \n",
    "        # Data Preparation\n",
    "        df3 = pipeline.data_preparation( df2 )\n",
    "        \n",
    "        # Prediction\n",
    "        df_response = pipeline.get_prediction( model, test_raw, df3 )\n",
    "        \n",
    "        return df_response\n",
    "    \n",
    "    else:\n",
    "        return Response( '{}', status=200, mimetype='application/json' )\n",
    "    \n",
    "if __name__ == '__main__':\n",
    "    app.run( '192.168.15.59')"
   ]
  },
  {
   "cell_type": "code",
   "execution_count": 15,
   "id": "ee9f40df",
   "metadata": {
    "ExecuteTime": {
     "end_time": "2022-10-06T21:33:42.402762Z",
     "start_time": "2022-10-06T21:33:42.265804Z"
    },
    "hidden": true
   },
   "outputs": [],
   "source": [
    "import requests"
   ]
  },
  {
   "cell_type": "code",
   "execution_count": 16,
   "id": "c5701c1b",
   "metadata": {
    "ExecuteTime": {
     "end_time": "2022-10-06T21:33:46.112123Z",
     "start_time": "2022-10-06T21:33:46.106122Z"
    },
    "hidden": true
   },
   "outputs": [
    {
     "name": "stderr",
     "output_type": "stream",
     "text": [
      "C:\\Users\\Pedro\\AppData\\Local\\Temp/ipykernel_7400/1935542039.py:3: SettingWithCopyWarning: \n",
      "A value is trying to be set on a copy of a slice from a DataFrame.\n",
      "Try using .loc[row_indexer,col_indexer] = value instead\n",
      "\n",
      "See the caveats in the documentation: https://pandas.pydata.org/pandas-docs/stable/user_guide/indexing.html#returning-a-view-versus-a-copy\n",
      "  df_test['response'] = y_validation\n"
     ]
    }
   ],
   "source": [
    "# Loading DataSet\n",
    "df_test = x_validation\n",
    "df_test['response'] = y_validation"
   ]
  },
  {
   "cell_type": "code",
   "execution_count": 23,
   "id": "cbfafe3f",
   "metadata": {
    "ExecuteTime": {
     "end_time": "2022-10-06T21:36:49.419559Z",
     "start_time": "2022-10-06T21:36:49.411564Z"
    },
    "hidden": true
   },
   "outputs": [
    {
     "data": {
      "text/plain": [
       "Index(['id', 'gender', 'age', 'driving_license', 'region_code',\n",
       "       'previously_insured', 'vehicle_age', 'vehicle_damage', 'annual_premium',\n",
       "       'policy_sales_channel', 'vintage', 'response'],\n",
       "      dtype='object')"
      ]
     },
     "execution_count": 23,
     "metadata": {},
     "output_type": "execute_result"
    }
   ],
   "source": [
    "df_test.columns"
   ]
  },
  {
   "cell_type": "code",
   "execution_count": 18,
   "id": "ff7a23b6",
   "metadata": {
    "ExecuteTime": {
     "end_time": "2022-10-06T21:33:52.573863Z",
     "start_time": "2022-10-06T21:33:51.369249Z"
    },
    "hidden": true
   },
   "outputs": [],
   "source": [
    "data= json.dumps( df_test.to_dict( orient='records' ) )"
   ]
  },
  {
   "cell_type": "code",
   "execution_count": 46,
   "id": "22f17de1",
   "metadata": {
    "ExecuteTime": {
     "end_time": "2022-10-07T15:16:39.264121Z",
     "start_time": "2022-10-07T15:16:32.592253Z"
    },
    "hidden": true
   },
   "outputs": [
    {
     "name": "stdout",
     "output_type": "stream",
     "text": [
      "Status Code 200\n"
     ]
    }
   ],
   "source": [
    "# API Call\n",
    "url = 'http://192.168.15.59:5000/healthinsurance/predict'\n",
    "header = {'Content-type': 'application/json' }\n",
    "\n",
    "r = requests.post( url, data=data, headers=header )\n",
    "print( 'Status Code {}'.format( r.status_code ) )"
   ]
  },
  {
   "cell_type": "code",
   "execution_count": 26,
   "id": "c0b9e8f1",
   "metadata": {
    "ExecuteTime": {
     "end_time": "2022-10-06T21:37:19.936098Z",
     "start_time": "2022-10-06T21:37:19.922103Z"
    },
    "hidden": true
   },
   "outputs": [
    {
     "ename": "AttributeError",
     "evalue": "'Response' object has no attribute 'type'",
     "output_type": "error",
     "traceback": [
      "\u001b[1;31m---------------------------------------------------------------------------\u001b[0m",
      "\u001b[1;31mAttributeError\u001b[0m                            Traceback (most recent call last)",
      "\u001b[1;32m~\\AppData\\Local\\Temp/ipykernel_7400/1209534462.py\u001b[0m in \u001b[0;36m<module>\u001b[1;34m\u001b[0m\n\u001b[1;32m----> 1\u001b[1;33m \u001b[0mr\u001b[0m\u001b[1;33m.\u001b[0m\u001b[0mtype\u001b[0m\u001b[1;33m\u001b[0m\u001b[1;33m\u001b[0m\u001b[0m\n\u001b[0m",
      "\u001b[1;31mAttributeError\u001b[0m: 'Response' object has no attribute 'type'"
     ]
    }
   ],
   "source": [
    "r.type"
   ]
  },
  {
   "cell_type": "code",
   "execution_count": 47,
   "id": "b0b6b149",
   "metadata": {
    "ExecuteTime": {
     "end_time": "2022-10-07T15:16:47.718021Z",
     "start_time": "2022-10-07T15:16:46.513382Z"
    },
    "hidden": true
   },
   "outputs": [],
   "source": [
    "d1 = pd.DataFrame( r.json(), columns=r.json()[0].keys() )\n",
    "\n"
   ]
  },
  {
   "cell_type": "code",
   "execution_count": 50,
   "id": "83945d6e",
   "metadata": {
    "ExecuteTime": {
     "end_time": "2022-10-07T15:17:16.676258Z",
     "start_time": "2022-10-07T15:17:16.625277Z"
    },
    "hidden": true
   },
   "outputs": [
    {
     "data": {
      "text/html": [
       "<div>\n",
       "<style scoped>\n",
       "    .dataframe tbody tr th:only-of-type {\n",
       "        vertical-align: middle;\n",
       "    }\n",
       "\n",
       "    .dataframe tbody tr th {\n",
       "        vertical-align: top;\n",
       "    }\n",
       "\n",
       "    .dataframe thead th {\n",
       "        text-align: right;\n",
       "    }\n",
       "</style>\n",
       "<table border=\"1\" class=\"dataframe\">\n",
       "  <thead>\n",
       "    <tr style=\"text-align: right;\">\n",
       "      <th></th>\n",
       "      <th>id</th>\n",
       "      <th>gender</th>\n",
       "      <th>age</th>\n",
       "      <th>driving_license</th>\n",
       "      <th>region_code</th>\n",
       "      <th>previously_insured</th>\n",
       "      <th>vehicle_age</th>\n",
       "      <th>vehicle_damage</th>\n",
       "      <th>annual_premium</th>\n",
       "      <th>policy_sales_channel</th>\n",
       "      <th>vintage</th>\n",
       "      <th>response</th>\n",
       "      <th>prediction</th>\n",
       "    </tr>\n",
       "  </thead>\n",
       "  <tbody>\n",
       "    <tr>\n",
       "      <th>41703</th>\n",
       "      <td>378985</td>\n",
       "      <td>0.138647</td>\n",
       "      <td>0.230769</td>\n",
       "      <td>1</td>\n",
       "      <td>0.187822</td>\n",
       "      <td>0</td>\n",
       "      <td>over_2_years</td>\n",
       "      <td>0</td>\n",
       "      <td>0.615433</td>\n",
       "      <td>26.0</td>\n",
       "      <td>0.335640</td>\n",
       "      <td>1</td>\n",
       "      <td>0.571429</td>\n",
       "    </tr>\n",
       "    <tr>\n",
       "      <th>32481</th>\n",
       "      <td>209468</td>\n",
       "      <td>0.138647</td>\n",
       "      <td>0.230769</td>\n",
       "      <td>1</td>\n",
       "      <td>0.124096</td>\n",
       "      <td>0</td>\n",
       "      <td>over_2_years</td>\n",
       "      <td>0</td>\n",
       "      <td>0.633331</td>\n",
       "      <td>26.0</td>\n",
       "      <td>0.380623</td>\n",
       "      <td>1</td>\n",
       "      <td>0.571429</td>\n",
       "    </tr>\n",
       "    <tr>\n",
       "      <th>17933</th>\n",
       "      <td>156435</td>\n",
       "      <td>0.138647</td>\n",
       "      <td>0.215385</td>\n",
       "      <td>1</td>\n",
       "      <td>0.187822</td>\n",
       "      <td>0</td>\n",
       "      <td>over_2_years</td>\n",
       "      <td>0</td>\n",
       "      <td>-1.623411</td>\n",
       "      <td>156.0</td>\n",
       "      <td>0.349481</td>\n",
       "      <td>1</td>\n",
       "      <td>0.571429</td>\n",
       "    </tr>\n",
       "    <tr>\n",
       "      <th>46178</th>\n",
       "      <td>171514</td>\n",
       "      <td>0.104000</td>\n",
       "      <td>0.046154</td>\n",
       "      <td>1</td>\n",
       "      <td>0.130518</td>\n",
       "      <td>0</td>\n",
       "      <td>over_2_years</td>\n",
       "      <td>0</td>\n",
       "      <td>0.859493</td>\n",
       "      <td>152.0</td>\n",
       "      <td>0.224913</td>\n",
       "      <td>0</td>\n",
       "      <td>0.571429</td>\n",
       "    </tr>\n",
       "    <tr>\n",
       "      <th>33398</th>\n",
       "      <td>325611</td>\n",
       "      <td>0.138647</td>\n",
       "      <td>0.230769</td>\n",
       "      <td>1</td>\n",
       "      <td>0.135351</td>\n",
       "      <td>0</td>\n",
       "      <td>over_2_years</td>\n",
       "      <td>0</td>\n",
       "      <td>0.627520</td>\n",
       "      <td>26.0</td>\n",
       "      <td>0.373702</td>\n",
       "      <td>1</td>\n",
       "      <td>0.571429</td>\n",
       "    </tr>\n",
       "    <tr>\n",
       "      <th>2735</th>\n",
       "      <td>63642</td>\n",
       "      <td>0.104000</td>\n",
       "      <td>0.415385</td>\n",
       "      <td>1</td>\n",
       "      <td>0.122860</td>\n",
       "      <td>0</td>\n",
       "      <td>over_2_years</td>\n",
       "      <td>0</td>\n",
       "      <td>12.875558</td>\n",
       "      <td>26.0</td>\n",
       "      <td>0.657439</td>\n",
       "      <td>1</td>\n",
       "      <td>0.571429</td>\n",
       "    </tr>\n",
       "    <tr>\n",
       "      <th>53733</th>\n",
       "      <td>24842</td>\n",
       "      <td>0.138647</td>\n",
       "      <td>0.323077</td>\n",
       "      <td>1</td>\n",
       "      <td>0.187822</td>\n",
       "      <td>0</td>\n",
       "      <td>over_2_years</td>\n",
       "      <td>0</td>\n",
       "      <td>-0.039868</td>\n",
       "      <td>124.0</td>\n",
       "      <td>0.467128</td>\n",
       "      <td>0</td>\n",
       "      <td>0.571429</td>\n",
       "    </tr>\n",
       "    <tr>\n",
       "      <th>32627</th>\n",
       "      <td>93612</td>\n",
       "      <td>0.104000</td>\n",
       "      <td>0.200000</td>\n",
       "      <td>1</td>\n",
       "      <td>0.187822</td>\n",
       "      <td>0</td>\n",
       "      <td>over_2_years</td>\n",
       "      <td>0</td>\n",
       "      <td>0.583066</td>\n",
       "      <td>124.0</td>\n",
       "      <td>0.325260</td>\n",
       "      <td>0</td>\n",
       "      <td>0.571429</td>\n",
       "    </tr>\n",
       "    <tr>\n",
       "      <th>66562</th>\n",
       "      <td>329887</td>\n",
       "      <td>0.138647</td>\n",
       "      <td>0.215385</td>\n",
       "      <td>1</td>\n",
       "      <td>0.159336</td>\n",
       "      <td>0</td>\n",
       "      <td>over_2_years</td>\n",
       "      <td>0</td>\n",
       "      <td>0.608169</td>\n",
       "      <td>124.0</td>\n",
       "      <td>0.377163</td>\n",
       "      <td>0</td>\n",
       "      <td>0.571429</td>\n",
       "    </tr>\n",
       "    <tr>\n",
       "      <th>20964</th>\n",
       "      <td>86891</td>\n",
       "      <td>0.104000</td>\n",
       "      <td>0.276923</td>\n",
       "      <td>1</td>\n",
       "      <td>0.187822</td>\n",
       "      <td>0</td>\n",
       "      <td>over_2_years</td>\n",
       "      <td>0</td>\n",
       "      <td>0.622987</td>\n",
       "      <td>26.0</td>\n",
       "      <td>0.352941</td>\n",
       "      <td>0</td>\n",
       "      <td>0.571429</td>\n",
       "    </tr>\n",
       "    <tr>\n",
       "      <th>919</th>\n",
       "      <td>263888</td>\n",
       "      <td>0.138647</td>\n",
       "      <td>0.076923</td>\n",
       "      <td>1</td>\n",
       "      <td>0.135351</td>\n",
       "      <td>0</td>\n",
       "      <td>over_2_years</td>\n",
       "      <td>0</td>\n",
       "      <td>-1.623411</td>\n",
       "      <td>160.0</td>\n",
       "      <td>0.370242</td>\n",
       "      <td>0</td>\n",
       "      <td>0.571429</td>\n",
       "    </tr>\n",
       "    <tr>\n",
       "      <th>561</th>\n",
       "      <td>103636</td>\n",
       "      <td>0.138647</td>\n",
       "      <td>0.153846</td>\n",
       "      <td>1</td>\n",
       "      <td>0.187822</td>\n",
       "      <td>0</td>\n",
       "      <td>over_2_years</td>\n",
       "      <td>0</td>\n",
       "      <td>-1.623411</td>\n",
       "      <td>156.0</td>\n",
       "      <td>0.397924</td>\n",
       "      <td>0</td>\n",
       "      <td>0.428571</td>\n",
       "    </tr>\n",
       "    <tr>\n",
       "      <th>29174</th>\n",
       "      <td>369515</td>\n",
       "      <td>0.138647</td>\n",
       "      <td>0.169231</td>\n",
       "      <td>1</td>\n",
       "      <td>0.094663</td>\n",
       "      <td>0</td>\n",
       "      <td>over_2_years</td>\n",
       "      <td>0</td>\n",
       "      <td>-1.623411</td>\n",
       "      <td>156.0</td>\n",
       "      <td>0.525952</td>\n",
       "      <td>1</td>\n",
       "      <td>0.428571</td>\n",
       "    </tr>\n",
       "    <tr>\n",
       "      <th>23901</th>\n",
       "      <td>188464</td>\n",
       "      <td>0.138647</td>\n",
       "      <td>0.384615</td>\n",
       "      <td>1</td>\n",
       "      <td>0.066201</td>\n",
       "      <td>0</td>\n",
       "      <td>over_2_years</td>\n",
       "      <td>0</td>\n",
       "      <td>0.216046</td>\n",
       "      <td>124.0</td>\n",
       "      <td>0.733564</td>\n",
       "      <td>0</td>\n",
       "      <td>0.428571</td>\n",
       "    </tr>\n",
       "    <tr>\n",
       "      <th>66714</th>\n",
       "      <td>48159</td>\n",
       "      <td>0.138647</td>\n",
       "      <td>0.230769</td>\n",
       "      <td>1</td>\n",
       "      <td>0.125070</td>\n",
       "      <td>0</td>\n",
       "      <td>over_2_years</td>\n",
       "      <td>0</td>\n",
       "      <td>-0.489810</td>\n",
       "      <td>26.0</td>\n",
       "      <td>0.577855</td>\n",
       "      <td>0</td>\n",
       "      <td>0.428571</td>\n",
       "    </tr>\n",
       "    <tr>\n",
       "      <th>30655</th>\n",
       "      <td>325023</td>\n",
       "      <td>0.104000</td>\n",
       "      <td>0.200000</td>\n",
       "      <td>1</td>\n",
       "      <td>0.187822</td>\n",
       "      <td>0</td>\n",
       "      <td>over_2_years</td>\n",
       "      <td>0</td>\n",
       "      <td>0.024924</td>\n",
       "      <td>163.0</td>\n",
       "      <td>0.065744</td>\n",
       "      <td>1</td>\n",
       "      <td>0.428571</td>\n",
       "    </tr>\n",
       "    <tr>\n",
       "      <th>58861</th>\n",
       "      <td>371553</td>\n",
       "      <td>0.104000</td>\n",
       "      <td>0.584615</td>\n",
       "      <td>1</td>\n",
       "      <td>0.187822</td>\n",
       "      <td>0</td>\n",
       "      <td>over_2_years</td>\n",
       "      <td>0</td>\n",
       "      <td>0.315239</td>\n",
       "      <td>26.0</td>\n",
       "      <td>0.235294</td>\n",
       "      <td>0</td>\n",
       "      <td>0.428571</td>\n",
       "    </tr>\n",
       "    <tr>\n",
       "      <th>50354</th>\n",
       "      <td>254394</td>\n",
       "      <td>0.138647</td>\n",
       "      <td>0.276923</td>\n",
       "      <td>1</td>\n",
       "      <td>0.099286</td>\n",
       "      <td>0</td>\n",
       "      <td>over_2_years</td>\n",
       "      <td>0</td>\n",
       "      <td>-1.623411</td>\n",
       "      <td>156.0</td>\n",
       "      <td>0.577855</td>\n",
       "      <td>0</td>\n",
       "      <td>0.428571</td>\n",
       "    </tr>\n",
       "    <tr>\n",
       "      <th>43034</th>\n",
       "      <td>266617</td>\n",
       "      <td>0.104000</td>\n",
       "      <td>0.538462</td>\n",
       "      <td>1</td>\n",
       "      <td>0.187822</td>\n",
       "      <td>0</td>\n",
       "      <td>over_2_years</td>\n",
       "      <td>0</td>\n",
       "      <td>-1.623411</td>\n",
       "      <td>26.0</td>\n",
       "      <td>0.197232</td>\n",
       "      <td>0</td>\n",
       "      <td>0.428571</td>\n",
       "    </tr>\n",
       "    <tr>\n",
       "      <th>43899</th>\n",
       "      <td>156031</td>\n",
       "      <td>0.104000</td>\n",
       "      <td>0.123077</td>\n",
       "      <td>1</td>\n",
       "      <td>0.072441</td>\n",
       "      <td>0</td>\n",
       "      <td>over_2_years</td>\n",
       "      <td>0</td>\n",
       "      <td>-1.623411</td>\n",
       "      <td>163.0</td>\n",
       "      <td>0.121107</td>\n",
       "      <td>1</td>\n",
       "      <td>0.428571</td>\n",
       "    </tr>\n",
       "  </tbody>\n",
       "</table>\n",
       "</div>"
      ],
      "text/plain": [
       "           id    gender       age  driving_license  region_code  previously_insured   vehicle_age  vehicle_damage  annual_premium  policy_sales_channel   vintage  response  prediction\n",
       "41703  378985  0.138647  0.230769                1     0.187822                   0  over_2_years               0        0.615433                  26.0  0.335640         1    0.571429\n",
       "32481  209468  0.138647  0.230769                1     0.124096                   0  over_2_years               0        0.633331                  26.0  0.380623         1    0.571429\n",
       "17933  156435  0.138647  0.215385                1     0.187822                   0  over_2_years               0       -1.623411                 156.0  0.349481         1    0.571429\n",
       "46178  171514  0.104000  0.046154                1     0.130518                   0  over_2_years               0        0.859493                 152.0  0.224913         0    0.571429\n",
       "33398  325611  0.138647  0.230769                1     0.135351                   0  over_2_years               0        0.627520                  26.0  0.373702         1    0.571429\n",
       "2735    63642  0.104000  0.415385                1     0.122860                   0  over_2_years               0       12.875558                  26.0  0.657439         1    0.571429\n",
       "53733   24842  0.138647  0.323077                1     0.187822                   0  over_2_years               0       -0.039868                 124.0  0.467128         0    0.571429\n",
       "32627   93612  0.104000  0.200000                1     0.187822                   0  over_2_years               0        0.583066                 124.0  0.325260         0    0.571429\n",
       "66562  329887  0.138647  0.215385                1     0.159336                   0  over_2_years               0        0.608169                 124.0  0.377163         0    0.571429\n",
       "20964   86891  0.104000  0.276923                1     0.187822                   0  over_2_years               0        0.622987                  26.0  0.352941         0    0.571429\n",
       "919    263888  0.138647  0.076923                1     0.135351                   0  over_2_years               0       -1.623411                 160.0  0.370242         0    0.571429\n",
       "561    103636  0.138647  0.153846                1     0.187822                   0  over_2_years               0       -1.623411                 156.0  0.397924         0    0.428571\n",
       "29174  369515  0.138647  0.169231                1     0.094663                   0  over_2_years               0       -1.623411                 156.0  0.525952         1    0.428571\n",
       "23901  188464  0.138647  0.384615                1     0.066201                   0  over_2_years               0        0.216046                 124.0  0.733564         0    0.428571\n",
       "66714   48159  0.138647  0.230769                1     0.125070                   0  over_2_years               0       -0.489810                  26.0  0.577855         0    0.428571\n",
       "30655  325023  0.104000  0.200000                1     0.187822                   0  over_2_years               0        0.024924                 163.0  0.065744         1    0.428571\n",
       "58861  371553  0.104000  0.584615                1     0.187822                   0  over_2_years               0        0.315239                  26.0  0.235294         0    0.428571\n",
       "50354  254394  0.138647  0.276923                1     0.099286                   0  over_2_years               0       -1.623411                 156.0  0.577855         0    0.428571\n",
       "43034  266617  0.104000  0.538462                1     0.187822                   0  over_2_years               0       -1.623411                  26.0  0.197232         0    0.428571\n",
       "43899  156031  0.104000  0.123077                1     0.072441                   0  over_2_years               0       -1.623411                 163.0  0.121107         1    0.428571"
      ]
     },
     "execution_count": 50,
     "metadata": {},
     "output_type": "execute_result"
    }
   ],
   "source": [
    "d1.sort_values( 'prediction', ascending=False )."
   ]
  },
  {
   "cell_type": "code",
   "execution_count": 55,
   "id": "a88dd697",
   "metadata": {
    "ExecuteTime": {
     "end_time": "2022-10-07T15:20:37.906552Z",
     "start_time": "2022-10-07T15:20:37.847572Z"
    },
    "hidden": true
   },
   "outputs": [
    {
     "name": "stdout",
     "output_type": "stream",
     "text": [
      "<class 'pandas.core.frame.DataFrame'>\n",
      "RangeIndex: 76222 entries, 0 to 76221\n",
      "Data columns (total 13 columns):\n",
      " #   Column                Non-Null Count  Dtype  \n",
      "---  ------                --------------  -----  \n",
      " 0   id                    76222 non-null  int64  \n",
      " 1   gender                76222 non-null  float64\n",
      " 2   age                   76222 non-null  float64\n",
      " 3   driving_license       76222 non-null  int64  \n",
      " 4   region_code           76222 non-null  float64\n",
      " 5   previously_insured    76222 non-null  int64  \n",
      " 6   vehicle_age           76222 non-null  object \n",
      " 7   vehicle_damage        76222 non-null  int64  \n",
      " 8   annual_premium        76222 non-null  float64\n",
      " 9   policy_sales_channel  76222 non-null  float64\n",
      " 10  vintage               76222 non-null  float64\n",
      " 11  response              76222 non-null  int64  \n",
      " 12  prediction            76222 non-null  float64\n",
      "dtypes: float64(7), int64(5), object(1)\n",
      "memory usage: 7.6+ MB\n"
     ]
    }
   ],
   "source": [
    "d1.info()"
   ]
  },
  {
   "cell_type": "code",
   "execution_count": null,
   "id": "37d2ecc8",
   "metadata": {
    "hidden": true
   },
   "outputs": [],
   "source": []
  }
 ],
 "metadata": {
  "kernelspec": {
   "display_name": "Python 3 (ipykernel)",
   "language": "python",
   "name": "python3"
  },
  "language_info": {
   "codemirror_mode": {
    "name": "ipython",
    "version": 3
   },
   "file_extension": ".py",
   "mimetype": "text/x-python",
   "name": "python",
   "nbconvert_exporter": "python",
   "pygments_lexer": "ipython3",
   "version": "3.9.7"
  }
 },
 "nbformat": 4,
 "nbformat_minor": 5
}
