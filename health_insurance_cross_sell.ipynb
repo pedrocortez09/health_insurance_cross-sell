{
 "cells": [
  {
   "cell_type": "markdown",
   "id": "59249c27",
   "metadata": {
    "heading_collapsed": true
   },
   "source": [
    "# 0.0 HELPER FUNCTIONS & IMPORTS"
   ]
  },
  {
   "cell_type": "code",
   "execution_count": 1,
   "id": "aab40977",
   "metadata": {
    "ExecuteTime": {
     "end_time": "2022-10-18T11:32:11.841610Z",
     "start_time": "2022-10-18T11:32:07.435640Z"
    },
    "hidden": true
   },
   "outputs": [],
   "source": [
    "import pandas as pd\n",
    "import seaborn as sns\n",
    "import numpy as np\n",
    "import scikitplot as skplt\n",
    "import boruta as bt\n",
    "import pickle\n",
    "import xgboost as xgb\n",
    "import warnings\n",
    "import random\n",
    "\n",
    "from IPython.display import Image\n",
    "from IPython.core.display import HTML\n",
    "from matplotlib import pyplot as plt\n",
    "from scipy import stats\n",
    "from sklearn import preprocessing as pp\n",
    "from sklearn import model_selection as ms\n",
    "from sklearn import ensemble as en\n",
    "from sklearn import neighbors as nh\n",
    "from sklearn import linear_model as lm\n",
    "from xgboost import XGBClassifier\n",
    "from lightgbm import LGBMClassifier"
   ]
  },
  {
   "cell_type": "code",
   "execution_count": 2,
   "id": "efdae423",
   "metadata": {
    "ExecuteTime": {
     "end_time": "2022-10-18T11:32:11.951577Z",
     "start_time": "2022-10-18T11:32:11.921588Z"
    },
    "hidden": true
   },
   "outputs": [],
   "source": [
    "# Funções\n",
    "\n",
    "def jupyter_settings():\n",
    "    \n",
    "    \n",
    "    plt.style.use( 'bmh' )\n",
    "    plt.rcParams['figure.figsize'] = [25, 12]\n",
    "    plt.rcParams['font.size'] = 24\n",
    "   \n",
    "\n",
    "    display( HTML( '<style>.container { width:80% !important; }</style>') )\n",
    "    pd.options.display.max_columns = None\n",
    "    pd.options.display.max_rows = None\n",
    "    pd.set_option( 'display.expand_frame_repr', False )\n",
    "    \n",
    "    sns.set()\n",
    "    \n",
    "def cramer_v( x, y ):\n",
    "    cm = pd.crosstab( x, y ).to_numpy()\n",
    "    n = cm.sum()\n",
    "    r, k = cm.shape\n",
    "\n",
    "    chi2 = stats.chi2_contingency( cm )[0]\n",
    "    chi2corr = max( 0, chi2 - (k-1)*(r-1)/(n-1) )\n",
    "\n",
    "    kcorr = k - (k-1)**2/(n-1)\n",
    "    rcorr = r - (r-1)**2/(n-1)\n",
    "    return np.sqrt( (chi2corr/n) / ( min( kcorr-1, rcorr-1 ) ) )\n",
    "\n",
    "\n",
    "\n",
    "\n",
    "def concat_order_data( x_val, y_val, yhat ):\n",
    "    \n",
    "    # copy data\n",
    "    data = x_val.copy()\n",
    "    data['response'] = y_val.copy()\n",
    "\n",
    "    # propensity score\n",
    "    data['score'] = yhat[:, 1].tolist()\n",
    "\n",
    "    # sorted clients by propensity score\n",
    "    data = data.sort_values( 'score', ascending=False )\n",
    "    \n",
    "    return data\n",
    "\n",
    "\n",
    "\n",
    "\n",
    "def precision_at_k( data, k=20000 ):\n",
    "    \n",
    "    # Reset Index\n",
    "    data = data.reset_index(drop=True)\n",
    "\n",
    "    # Create ranking order\n",
    "    data['ranking'] = data.index + 1\n",
    "\n",
    "    data['precision_at_k'] = data['response'].cumsum() / data['ranking']\n",
    "    \n",
    "    return data.loc[k, 'precision_at_k']\n",
    "\n",
    "\n",
    "\n",
    "def recall_at_k( data, k=20000 ):\n",
    "    \n",
    "    # Reset Index\n",
    "    data = data.reset_index(drop=True)\n",
    "\n",
    "    # Create ranking order\n",
    "    data['ranking'] = data.index + 1\n",
    "\n",
    "    data['recall_at_k'] = data['response'].cumsum() / data['response'].sum()\n",
    "    \n",
    "    return data.loc[k, 'recall_at_k']\n",
    "\n",
    "\n",
    "\n",
    "\n",
    "def at_k_metrics( model_name, x_val, y_val, yhat, k=20000 ):\n",
    "    \n",
    "    data = concat_order_data( x_val, y_val, yhat )\n",
    "    \n",
    "    pr = precision_at_k( data, k )\n",
    "    re = recall_at_k( data, k )\n",
    "    \n",
    "    return pd.DataFrame({\"Precision_at_k\": \"{}\".format(np.round(pr,3)),\n",
    "                         \"Recall_at_k\": \"{}\".format(np.round(re,3))}, index=[model_name])\n",
    "\n",
    "\n",
    "def cross_validation(model_name, model, x_train, y_train, k=20000 ):\n",
    "    \n",
    "    precision_at_k_list = []\n",
    "    recall_at_k_list = []\n",
    "\n",
    "    skf = ms.StratifiedKFold(n_splits=5, shuffle=True, random_state=5)\n",
    "    \n",
    "    for train_index, test_index in skf.split(x_train, y_train):\n",
    "        \n",
    "        x_train_cv = x_train.iloc[train_index]\n",
    "        y_train_cv = y_train.iloc[train_index]\n",
    "        \n",
    "        x_test_cv = x_train.iloc[test_index]\n",
    "        y_test_cv = y_train.iloc[test_index]\n",
    "        \n",
    "        # model training\n",
    "        model.fit(x_train_cv, y_train_cv)\n",
    "        \n",
    "        # prediction\n",
    "        pred = model.predict_proba(x_test_cv)\n",
    "        \n",
    "        # concat\n",
    "        data = x_test_cv.copy()\n",
    "        data['response'] = y_test_cv.copy()\n",
    "        \n",
    "        data['score'] = pred[:, 1].tolist()\n",
    "        \n",
    "        data = data.sort_values( 'score', ascending=False )\n",
    "        \n",
    "        # measuring at k metrics\n",
    "        precision_at_k_list.append( precision_at_k( data, k ) )\n",
    "        recall_at_k_list.append(recall_at_k( data, k ) )\n",
    "        \n",
    "    \n",
    "    precision_at_k_mean, precision_at_k_std = np.round( np.mean( precision_at_k_list ), 3 ), np.round( np.std( precision_at_k_list ), 3 )\n",
    "    recall_at_k_mean, recall_at_k_std = np.round( np.mean( recall_at_k_list ), 3 ), np.round( np.std( recall_at_k_list ), 3 )\n",
    "   \n",
    "    \n",
    "    return pd.DataFrame({\"Precision_at_k\": \"{} +/- {}\".format(precision_at_k_mean, precision_at_k_std),\n",
    "                         \"Recall_at_k\": \"{} +/- {}\".format(recall_at_k_mean, recall_at_k_std)}, index=[model_name])\n"
   ]
  },
  {
   "cell_type": "code",
   "execution_count": 3,
   "id": "fc360cf0",
   "metadata": {
    "ExecuteTime": {
     "end_time": "2022-10-17T23:48:45.132103Z",
     "start_time": "2022-10-17T23:48:45.123106Z"
    },
    "hidden": true
   },
   "outputs": [
    {
     "data": {
      "text/html": [
       "<style>.container { width:80% !important; }</style>"
      ],
      "text/plain": [
       "<IPython.core.display.HTML object>"
      ]
     },
     "metadata": {},
     "output_type": "display_data"
    }
   ],
   "source": [
    "jupyter_settings()"
   ]
  },
  {
   "cell_type": "code",
   "execution_count": 3,
   "id": "73346b4a",
   "metadata": {
    "ExecuteTime": {
     "end_time": "2022-10-18T11:32:14.838229Z",
     "start_time": "2022-10-18T11:32:14.363220Z"
    },
    "hidden": true
   },
   "outputs": [],
   "source": [
    "df_raw = pd.read_csv('C:/Users/Pedro/repos/health_insurance_cross_sell/pa004_health_insurance_cross_sell/health_insurance_cross-sell/data/raw/train.csv')"
   ]
  },
  {
   "cell_type": "code",
   "execution_count": 4,
   "id": "21f4eeda",
   "metadata": {
    "ExecuteTime": {
     "end_time": "2022-10-18T11:32:15.473229Z",
     "start_time": "2022-10-18T11:32:15.438240Z"
    },
    "hidden": true
   },
   "outputs": [
    {
     "data": {
      "text/html": [
       "<div>\n",
       "<style scoped>\n",
       "    .dataframe tbody tr th:only-of-type {\n",
       "        vertical-align: middle;\n",
       "    }\n",
       "\n",
       "    .dataframe tbody tr th {\n",
       "        vertical-align: top;\n",
       "    }\n",
       "\n",
       "    .dataframe thead th {\n",
       "        text-align: right;\n",
       "    }\n",
       "</style>\n",
       "<table border=\"1\" class=\"dataframe\">\n",
       "  <thead>\n",
       "    <tr style=\"text-align: right;\">\n",
       "      <th></th>\n",
       "      <th>id</th>\n",
       "      <th>Gender</th>\n",
       "      <th>Age</th>\n",
       "      <th>Driving_License</th>\n",
       "      <th>Region_Code</th>\n",
       "      <th>Previously_Insured</th>\n",
       "      <th>Vehicle_Age</th>\n",
       "      <th>Vehicle_Damage</th>\n",
       "      <th>Annual_Premium</th>\n",
       "      <th>Policy_Sales_Channel</th>\n",
       "      <th>Vintage</th>\n",
       "      <th>Response</th>\n",
       "    </tr>\n",
       "  </thead>\n",
       "  <tbody>\n",
       "    <tr>\n",
       "      <th>0</th>\n",
       "      <td>1</td>\n",
       "      <td>Male</td>\n",
       "      <td>44</td>\n",
       "      <td>1</td>\n",
       "      <td>28.0</td>\n",
       "      <td>0</td>\n",
       "      <td>&gt; 2 Years</td>\n",
       "      <td>Yes</td>\n",
       "      <td>40454.0</td>\n",
       "      <td>26.0</td>\n",
       "      <td>217</td>\n",
       "      <td>1</td>\n",
       "    </tr>\n",
       "    <tr>\n",
       "      <th>1</th>\n",
       "      <td>2</td>\n",
       "      <td>Male</td>\n",
       "      <td>76</td>\n",
       "      <td>1</td>\n",
       "      <td>3.0</td>\n",
       "      <td>0</td>\n",
       "      <td>1-2 Year</td>\n",
       "      <td>No</td>\n",
       "      <td>33536.0</td>\n",
       "      <td>26.0</td>\n",
       "      <td>183</td>\n",
       "      <td>0</td>\n",
       "    </tr>\n",
       "    <tr>\n",
       "      <th>2</th>\n",
       "      <td>3</td>\n",
       "      <td>Male</td>\n",
       "      <td>47</td>\n",
       "      <td>1</td>\n",
       "      <td>28.0</td>\n",
       "      <td>0</td>\n",
       "      <td>&gt; 2 Years</td>\n",
       "      <td>Yes</td>\n",
       "      <td>38294.0</td>\n",
       "      <td>26.0</td>\n",
       "      <td>27</td>\n",
       "      <td>1</td>\n",
       "    </tr>\n",
       "    <tr>\n",
       "      <th>3</th>\n",
       "      <td>4</td>\n",
       "      <td>Male</td>\n",
       "      <td>21</td>\n",
       "      <td>1</td>\n",
       "      <td>11.0</td>\n",
       "      <td>1</td>\n",
       "      <td>&lt; 1 Year</td>\n",
       "      <td>No</td>\n",
       "      <td>28619.0</td>\n",
       "      <td>152.0</td>\n",
       "      <td>203</td>\n",
       "      <td>0</td>\n",
       "    </tr>\n",
       "    <tr>\n",
       "      <th>4</th>\n",
       "      <td>5</td>\n",
       "      <td>Female</td>\n",
       "      <td>29</td>\n",
       "      <td>1</td>\n",
       "      <td>41.0</td>\n",
       "      <td>1</td>\n",
       "      <td>&lt; 1 Year</td>\n",
       "      <td>No</td>\n",
       "      <td>27496.0</td>\n",
       "      <td>152.0</td>\n",
       "      <td>39</td>\n",
       "      <td>0</td>\n",
       "    </tr>\n",
       "  </tbody>\n",
       "</table>\n",
       "</div>"
      ],
      "text/plain": [
       "   id  Gender  Age  Driving_License  Region_Code  Previously_Insured  \\\n",
       "0   1    Male   44                1         28.0                   0   \n",
       "1   2    Male   76                1          3.0                   0   \n",
       "2   3    Male   47                1         28.0                   0   \n",
       "3   4    Male   21                1         11.0                   1   \n",
       "4   5  Female   29                1         41.0                   1   \n",
       "\n",
       "  Vehicle_Age Vehicle_Damage  Annual_Premium  Policy_Sales_Channel  Vintage  \\\n",
       "0   > 2 Years            Yes         40454.0                  26.0      217   \n",
       "1    1-2 Year             No         33536.0                  26.0      183   \n",
       "2   > 2 Years            Yes         38294.0                  26.0       27   \n",
       "3    < 1 Year             No         28619.0                 152.0      203   \n",
       "4    < 1 Year             No         27496.0                 152.0       39   \n",
       "\n",
       "   Response  \n",
       "0         1  \n",
       "1         0  \n",
       "2         1  \n",
       "3         0  \n",
       "4         0  "
      ]
     },
     "execution_count": 4,
     "metadata": {},
     "output_type": "execute_result"
    }
   ],
   "source": [
    "df_raw.head()"
   ]
  },
  {
   "cell_type": "markdown",
   "id": "06fd9c32",
   "metadata": {
    "heading_collapsed": true
   },
   "source": [
    "# 1.0 DESCRIÇÃO DOS DADOS"
   ]
  },
  {
   "cell_type": "code",
   "execution_count": 5,
   "id": "a7623851",
   "metadata": {
    "ExecuteTime": {
     "end_time": "2022-10-18T11:32:19.874113Z",
     "start_time": "2022-10-18T11:32:19.850120Z"
    },
    "hidden": true
   },
   "outputs": [],
   "source": [
    "df1 = df_raw.copy()"
   ]
  },
  {
   "cell_type": "code",
   "execution_count": 6,
   "id": "2506db8e",
   "metadata": {
    "ExecuteTime": {
     "end_time": "2022-10-18T11:32:20.391322Z",
     "start_time": "2022-10-18T11:32:20.379327Z"
    },
    "hidden": true
   },
   "outputs": [],
   "source": [
    "cols_new = ['id', 'gender', 'age', 'driving_license', 'region_code',\n",
    "       'previously_insured', 'vehicle_age', 'vehicle_damage', 'annual_premium',\n",
    "       'policy_sales_channel', 'vintage', 'response']\n",
    "\n",
    "df1.columns = cols_new"
   ]
  },
  {
   "cell_type": "code",
   "execution_count": 7,
   "id": "2c1682fd",
   "metadata": {
    "ExecuteTime": {
     "end_time": "2022-10-18T11:32:21.121560Z",
     "start_time": "2022-10-18T11:32:20.962611Z"
    },
    "hidden": true
   },
   "outputs": [
    {
     "name": "stdout",
     "output_type": "stream",
     "text": [
      "<class 'pandas.core.frame.DataFrame'>\n",
      "RangeIndex: 381109 entries, 0 to 381108\n",
      "Data columns (total 12 columns):\n",
      " #   Column                Non-Null Count   Dtype  \n",
      "---  ------                --------------   -----  \n",
      " 0   id                    381109 non-null  int64  \n",
      " 1   gender                381109 non-null  object \n",
      " 2   age                   381109 non-null  int64  \n",
      " 3   driving_license       381109 non-null  int64  \n",
      " 4   region_code           381109 non-null  float64\n",
      " 5   previously_insured    381109 non-null  int64  \n",
      " 6   vehicle_age           381109 non-null  object \n",
      " 7   vehicle_damage        381109 non-null  object \n",
      " 8   annual_premium        381109 non-null  float64\n",
      " 9   policy_sales_channel  381109 non-null  float64\n",
      " 10  vintage               381109 non-null  int64  \n",
      " 11  response              381109 non-null  int64  \n",
      "dtypes: float64(3), int64(6), object(3)\n",
      "memory usage: 34.9+ MB\n"
     ]
    }
   ],
   "source": [
    "# Verificando características do DataFrame\n",
    "df1.info(verbose=True)"
   ]
  },
  {
   "cell_type": "code",
   "execution_count": 8,
   "id": "74e85cd9",
   "metadata": {
    "ExecuteTime": {
     "end_time": "2022-10-18T11:32:21.467114Z",
     "start_time": "2022-10-18T11:32:21.448121Z"
    },
    "hidden": true
   },
   "outputs": [
    {
     "name": "stdout",
     "output_type": "stream",
     "text": [
      "Número de colunas: 12\n",
      "Número de linhas: 381109\n"
     ]
    }
   ],
   "source": [
    "# Printando numero de linhas e colunas\n",
    "print('Número de colunas: {}'.format(df1.shape[1]))\n",
    "print('Número de linhas: {}'.format(df1.shape[0]))"
   ]
  },
  {
   "cell_type": "code",
   "execution_count": 9,
   "id": "0d9d6702",
   "metadata": {
    "ExecuteTime": {
     "end_time": "2022-10-18T11:32:22.576195Z",
     "start_time": "2022-10-18T11:32:22.138122Z"
    },
    "hidden": true
   },
   "outputs": [
    {
     "data": {
      "text/html": [
       "<div>\n",
       "<style scoped>\n",
       "    .dataframe tbody tr th:only-of-type {\n",
       "        vertical-align: middle;\n",
       "    }\n",
       "\n",
       "    .dataframe tbody tr th {\n",
       "        vertical-align: top;\n",
       "    }\n",
       "\n",
       "    .dataframe thead th {\n",
       "        text-align: right;\n",
       "    }\n",
       "</style>\n",
       "<table border=\"1\" class=\"dataframe\">\n",
       "  <thead>\n",
       "    <tr style=\"text-align: right;\">\n",
       "      <th></th>\n",
       "      <th>attributes</th>\n",
       "      <th>min</th>\n",
       "      <th>max</th>\n",
       "      <th>range</th>\n",
       "      <th>mean</th>\n",
       "      <th>median</th>\n",
       "      <th>std</th>\n",
       "      <th>skew</th>\n",
       "      <th>kurtosis</th>\n",
       "    </tr>\n",
       "  </thead>\n",
       "  <tbody>\n",
       "    <tr>\n",
       "      <th>0</th>\n",
       "      <td>age</td>\n",
       "      <td>20.0</td>\n",
       "      <td>85.0</td>\n",
       "      <td>65.0</td>\n",
       "      <td>38.822584</td>\n",
       "      <td>36.0</td>\n",
       "      <td>15.511591</td>\n",
       "      <td>0.672539</td>\n",
       "      <td>-0.565655</td>\n",
       "    </tr>\n",
       "    <tr>\n",
       "      <th>1</th>\n",
       "      <td>annual_premium</td>\n",
       "      <td>2630.0</td>\n",
       "      <td>540165.0</td>\n",
       "      <td>537535.0</td>\n",
       "      <td>30564.389581</td>\n",
       "      <td>31669.0</td>\n",
       "      <td>17213.132474</td>\n",
       "      <td>1.766087</td>\n",
       "      <td>34.004569</td>\n",
       "    </tr>\n",
       "    <tr>\n",
       "      <th>2</th>\n",
       "      <td>vintage</td>\n",
       "      <td>10.0</td>\n",
       "      <td>299.0</td>\n",
       "      <td>289.0</td>\n",
       "      <td>154.347397</td>\n",
       "      <td>154.0</td>\n",
       "      <td>83.671194</td>\n",
       "      <td>0.003030</td>\n",
       "      <td>-1.200688</td>\n",
       "    </tr>\n",
       "    <tr>\n",
       "      <th>3</th>\n",
       "      <td>driving_license</td>\n",
       "      <td>0.0</td>\n",
       "      <td>1.0</td>\n",
       "      <td>1.0</td>\n",
       "      <td>0.997869</td>\n",
       "      <td>1.0</td>\n",
       "      <td>0.046109</td>\n",
       "      <td>-21.595182</td>\n",
       "      <td>464.354302</td>\n",
       "    </tr>\n",
       "  </tbody>\n",
       "</table>\n",
       "</div>"
      ],
      "text/plain": [
       "        attributes     min       max     range          mean   median  \\\n",
       "0              age    20.0      85.0      65.0     38.822584     36.0   \n",
       "1   annual_premium  2630.0  540165.0  537535.0  30564.389581  31669.0   \n",
       "2          vintage    10.0     299.0     289.0    154.347397    154.0   \n",
       "3  driving_license     0.0       1.0       1.0      0.997869      1.0   \n",
       "\n",
       "            std       skew    kurtosis  \n",
       "0     15.511591   0.672539   -0.565655  \n",
       "1  17213.132474   1.766087   34.004569  \n",
       "2     83.671194   0.003030   -1.200688  \n",
       "3      0.046109 -21.595182  464.354302  "
      ]
     },
     "execution_count": 9,
     "metadata": {},
     "output_type": "execute_result"
    }
   ],
   "source": [
    "# Estatistica Descritiva\n",
    "df_statistics = df1[['age', 'annual_premium', 'vintage', 'driving_license']]\n",
    "\n",
    "# Central Tendency - mean, median\n",
    "ct1 = pd.DataFrame( df_statistics.apply( np.mean ) ).T\n",
    "ct2 = pd.DataFrame( df_statistics.apply( np.median ) ).T\n",
    "\n",
    "# Dispersion - std, min, max, range, skew, kurtosis\n",
    "d1 = pd.DataFrame( df_statistics.apply( np.std ) ).T\n",
    "d2 = pd.DataFrame( df_statistics.apply( min ) ).T\n",
    "d3 = pd.DataFrame( df_statistics.apply( max ) ).T\n",
    "d4 = pd.DataFrame( df_statistics.apply( lambda x: x.max() - x.min() ) ).T\n",
    "d5 = pd.DataFrame( df_statistics.apply( lambda x: x.skew() ) ).T\n",
    "d6 = pd.DataFrame( df_statistics.apply( lambda x: x.kurtosis() ) ).T\n",
    "\n",
    "# Concat\n",
    "m = pd.concat( [d2, d3, d4, ct1, ct2, d1, d5, d6] ).T.reset_index()\n",
    "m.columns = ['attributes', 'min', 'max', 'range', 'mean', 'median', 'std', 'skew', 'kurtosis']\n",
    "m"
   ]
  },
  {
   "cell_type": "code",
   "execution_count": 10,
   "id": "ad3c28a0",
   "metadata": {
    "ExecuteTime": {
     "end_time": "2022-10-18T11:32:22.607184Z",
     "start_time": "2022-10-18T11:32:22.578194Z"
    },
    "hidden": true
   },
   "outputs": [
    {
     "data": {
      "text/html": [
       "<div>\n",
       "<style scoped>\n",
       "    .dataframe tbody tr th:only-of-type {\n",
       "        vertical-align: middle;\n",
       "    }\n",
       "\n",
       "    .dataframe tbody tr th {\n",
       "        vertical-align: top;\n",
       "    }\n",
       "\n",
       "    .dataframe thead th {\n",
       "        text-align: right;\n",
       "    }\n",
       "</style>\n",
       "<table border=\"1\" class=\"dataframe\">\n",
       "  <thead>\n",
       "    <tr style=\"text-align: right;\">\n",
       "      <th></th>\n",
       "      <th>response</th>\n",
       "      <th>id</th>\n",
       "    </tr>\n",
       "  </thead>\n",
       "  <tbody>\n",
       "    <tr>\n",
       "      <th>0</th>\n",
       "      <td>0</td>\n",
       "      <td>334399</td>\n",
       "    </tr>\n",
       "    <tr>\n",
       "      <th>1</th>\n",
       "      <td>1</td>\n",
       "      <td>46710</td>\n",
       "    </tr>\n",
       "  </tbody>\n",
       "</table>\n",
       "</div>"
      ],
      "text/plain": [
       "   response      id\n",
       "0         0  334399\n",
       "1         1   46710"
      ]
     },
     "execution_count": 10,
     "metadata": {},
     "output_type": "execute_result"
    }
   ],
   "source": [
    "# Verificando o balanceamento da variável resposta\n",
    "df_response = df1[['response', 'id']].groupby('response').count().reset_index()\n",
    "df_response"
   ]
  },
  {
   "cell_type": "code",
   "execution_count": 11,
   "id": "66c97d5d",
   "metadata": {
    "ExecuteTime": {
     "end_time": "2022-10-18T11:32:23.109098Z",
     "start_time": "2022-10-18T11:32:22.937288Z"
    },
    "hidden": true
   },
   "outputs": [
    {
     "data": {
      "image/png": "[encoded data removed]",
      "text/plain": [
       "<Figure size 432x288 with 1 Axes>"
      ]
     },
     "metadata": {
      "needs_background": "light"
     },
     "output_type": "display_data"
    }
   ],
   "source": [
    "# Colocando em gráfico a variavel resposta\n",
    "sns.barplot( data=df_response, x='response', y='id' );"
   ]
  },
  {
   "cell_type": "markdown",
   "id": "aa0bbd22",
   "metadata": {
    "heading_collapsed": true
   },
   "source": [
    "# 2.0 FEATURE ENGINEERING"
   ]
  },
  {
   "cell_type": "code",
   "execution_count": 12,
   "id": "f9397af0",
   "metadata": {
    "ExecuteTime": {
     "end_time": "2022-10-18T11:32:27.772560Z",
     "start_time": "2022-10-18T11:32:27.745571Z"
    },
    "hidden": true
   },
   "outputs": [],
   "source": [
    "df2 = df1.copy()"
   ]
  },
  {
   "cell_type": "markdown",
   "id": "c7d0ca38",
   "metadata": {
    "heading_collapsed": true,
    "hidden": true
   },
   "source": [
    "## 2.1 Mapa Mental de Hipóteses"
   ]
  },
  {
   "cell_type": "code",
   "execution_count": null,
   "id": "b21872c1",
   "metadata": {
    "ExecuteTime": {
     "end_time": "2022-09-29T18:11:16.413474Z",
     "start_time": "2022-09-29T18:11:16.379486Z"
    },
    "hidden": true
   },
   "outputs": [],
   "source": [
    "Image('C:/Users/Pedro/repos/health_insurance_cross_sell/pa004_health_insurance_cross_sell/health_insurance_cross-sell/img/car_insurance.png')"
   ]
  },
  {
   "cell_type": "markdown",
   "id": "ebf8cf0c",
   "metadata": {
    "heading_collapsed": true,
    "hidden": true
   },
   "source": [
    "## 2.2 Criação das Hipóteses"
   ]
  },
  {
   "cell_type": "markdown",
   "id": "22362a42",
   "metadata": {
    "heading_collapsed": true,
    "hidden": true
   },
   "source": [
    "### 2.2.1 Hipóteses de Clientes"
   ]
  },
  {
   "cell_type": "markdown",
   "id": "d54ab0be",
   "metadata": {
    "hidden": true
   },
   "source": [
    "**1.** 100% dos clientes sem carteira de habilitação não aderem ao seguro.\n",
    "\n",
    "**2.** Clientes com mais dias associados tendem a aderir ao seguro.\n",
    "\n",
    "**3.** 100% dos clientes que ja tiveram o carro batido aderem ao seguro.\n",
    "\n",
    "**4.** Clientes mais velhos tendem a aderir ao seguro.\n",
    "\n",
    "**5.** Mulheres tendem a aderir ao seguro 30% mais que homens."
   ]
  },
  {
   "cell_type": "markdown",
   "id": "61b12c36",
   "metadata": {
    "heading_collapsed": true,
    "hidden": true
   },
   "source": [
    "### 2.2.1 Hipóteses de Localização"
   ]
  },
  {
   "cell_type": "markdown",
   "id": "f2fdce49",
   "metadata": {
    "hidden": true
   },
   "source": [
    "**1.** Clientes em zona rural aderem menos ao seguro.\n",
    "\n",
    "**2.** Clientes em cidades grandes aderem mais ao seguro."
   ]
  },
  {
   "cell_type": "markdown",
   "id": "92eaabb5",
   "metadata": {
    "heading_collapsed": true,
    "hidden": true
   },
   "source": [
    "### 2.2.1 Hipóteses de Veiculo"
   ]
  },
  {
   "cell_type": "markdown",
   "id": "159d3365",
   "metadata": {
    "hidden": true
   },
   "source": [
    "**1.** Com veículo mais velho tendem a não aderir ao seguro.\n",
    "\n",
    "**2.** 100% dos clientes que ja tem seguro de carro não aderem ao seguro."
   ]
  },
  {
   "cell_type": "markdown",
   "id": "b4b9a874",
   "metadata": {
    "heading_collapsed": true,
    "hidden": true
   },
   "source": [
    "## 2.3 Lista Final de Hipóteses"
   ]
  },
  {
   "cell_type": "markdown",
   "id": "5e2d8f88",
   "metadata": {
    "ExecuteTime": {
     "end_time": "2022-09-23T14:03:23.893795Z",
     "start_time": "2022-09-23T14:03:23.879799Z"
    },
    "hidden": true
   },
   "source": [
    "**1.** 100% dos clientes sem carteira de habilitação não aderem ao seguro.\n",
    "\n",
    "**2.** Clientes com mais dias associados tendem a aderir ao seguro.\n",
    "\n",
    "**3.** 100% dos clientes que ja tiveram o carro batido aderem ao seguro.\n",
    "\n",
    "**4.** Clientes mais velhos tendem a aderir ao seguro.\n",
    "\n",
    "**5.** Mulheres tendem a aderir ao seguro 30% mais que homens.\n",
    "\n",
    "**6.** Clientes em zona rural aderem menos ao seguro.\n",
    "\n",
    "**7.** Clientes em cidades grandes aderem mais ao seguro.\n",
    "\n",
    "**8.** Com veículo mais velho tendem a não aderir ao seguro.\n",
    "\n",
    "**9.** 100% dos clientes que ja tem seguro de carro não aderem ao seguro."
   ]
  },
  {
   "cell_type": "markdown",
   "id": "de6865c1",
   "metadata": {
    "hidden": true
   },
   "source": [
    "## 2.4 Feature Engineering"
   ]
  },
  {
   "cell_type": "code",
   "execution_count": 13,
   "id": "9b67e664",
   "metadata": {
    "ExecuteTime": {
     "end_time": "2022-10-18T11:32:30.540454Z",
     "start_time": "2022-10-18T11:32:30.281527Z"
    },
    "hidden": true
   },
   "outputs": [],
   "source": [
    "# vehicle_Age\n",
    "df2['vehicle_age'] = df2['vehicle_age'].apply( lambda x: 'below_1_year' if x == '< 1 Year' else 'between_1_2_year' if x == '1-2 Year' else 'over_2_years' )\n",
    "\n",
    "# vehicle_damage\n",
    "df2['vehicle_damage'] = df2['vehicle_damage'].apply( lambda x: 1 if x == 'Yes' else 0 )"
   ]
  },
  {
   "cell_type": "code",
   "execution_count": 14,
   "id": "33bdbfcb",
   "metadata": {
    "ExecuteTime": {
     "end_time": "2022-10-18T11:32:30.962920Z",
     "start_time": "2022-10-18T11:32:30.937930Z"
    },
    "hidden": true
   },
   "outputs": [
    {
     "data": {
      "text/plain": [
       "1    192413\n",
       "0    188696\n",
       "Name: vehicle_damage, dtype: int64"
      ]
     },
     "execution_count": 14,
     "metadata": {},
     "output_type": "execute_result"
    }
   ],
   "source": [
    "df2['vehicle_damage'].value_counts()"
   ]
  },
  {
   "cell_type": "markdown",
   "id": "67d94ce1",
   "metadata": {
    "heading_collapsed": true
   },
   "source": [
    "# 3.0 ANÁLISE EXPLORATÓRIA DOS DADOS"
   ]
  },
  {
   "cell_type": "code",
   "execution_count": 15,
   "id": "9aefe6db",
   "metadata": {
    "ExecuteTime": {
     "end_time": "2022-10-18T11:32:35.761535Z",
     "start_time": "2022-10-18T11:32:35.712550Z"
    },
    "hidden": true
   },
   "outputs": [],
   "source": [
    "df3 = df2.copy()"
   ]
  },
  {
   "cell_type": "markdown",
   "id": "3b5833b2",
   "metadata": {
    "heading_collapsed": true,
    "hidden": true
   },
   "source": [
    "## 3.1 Análise Univariada"
   ]
  },
  {
   "cell_type": "markdown",
   "id": "fca8f411",
   "metadata": {
    "heading_collapsed": true,
    "hidden": true
   },
   "source": [
    "### 3.1.1 Variavel Resposta"
   ]
  },
  {
   "cell_type": "code",
   "execution_count": null,
   "id": "38687618",
   "metadata": {
    "ExecuteTime": {
     "end_time": "2022-09-28T18:00:46.032509Z",
     "start_time": "2022-09-28T18:00:45.411484Z"
    },
    "hidden": true
   },
   "outputs": [],
   "source": [
    "sns.displot( df3['response'] );"
   ]
  },
  {
   "cell_type": "markdown",
   "id": "a372532c",
   "metadata": {
    "heading_collapsed": true,
    "hidden": true
   },
   "source": [
    "### 3.1.2 Varivavel Numérica"
   ]
  },
  {
   "cell_type": "code",
   "execution_count": null,
   "id": "64897335",
   "metadata": {
    "ExecuteTime": {
     "end_time": "2022-09-28T18:00:50.203885Z",
     "start_time": "2022-09-28T18:00:48.915298Z"
    },
    "hidden": true
   },
   "outputs": [],
   "source": [
    "df_statistics['vehicle_damage'] = df3['vehicle_damage']\n",
    "df_statistics.hist(bins=25);"
   ]
  },
  {
   "cell_type": "markdown",
   "id": "cb4ff745",
   "metadata": {
    "heading_collapsed": true,
    "hidden": true
   },
   "source": [
    "### 3.1.3 Varivavel Categórica"
   ]
  },
  {
   "cell_type": "code",
   "execution_count": null,
   "id": "c92bcb54",
   "metadata": {
    "ExecuteTime": {
     "end_time": "2022-09-28T18:00:52.419767Z",
     "start_time": "2022-09-28T18:00:52.395775Z"
    },
    "hidden": true
   },
   "outputs": [],
   "source": [
    "cat_attributes = df3.select_dtypes( exclude=['int64', 'float64', 'datetime64[ns]'] )\n",
    "cat_attributes.columns"
   ]
  },
  {
   "cell_type": "code",
   "execution_count": null,
   "id": "894fa732",
   "metadata": {
    "ExecuteTime": {
     "end_time": "2022-09-28T14:28:40.065783Z",
     "start_time": "2022-09-28T14:28:39.222053Z"
    },
    "hidden": true
   },
   "outputs": [],
   "source": [
    "plt.subplot( 1, 2, 1 )\n",
    "ax1 = sns.countplot( df3['gender'] );\n",
    "for i in ax1.containers:\n",
    "    ax1.bar_label(i,);\n",
    "    \n",
    "plt.subplot( 1, 2, 2 )\n",
    "ax2 = sns.countplot( df3['vehicle_age'] );\n",
    "for i in ax2.containers:\n",
    "    ax2.bar_label(i,);"
   ]
  },
  {
   "cell_type": "markdown",
   "id": "0d5c9915",
   "metadata": {
    "heading_collapsed": true,
    "hidden": true
   },
   "source": [
    "## 3.2 Análise Bivariada"
   ]
  },
  {
   "cell_type": "markdown",
   "id": "c9e5d6cb",
   "metadata": {
    "heading_collapsed": true,
    "hidden": true
   },
   "source": [
    "### 1. 100% dos clientes sem carteira de habilitação não aderem ao seguro.\n",
    "    FALSA. Das 812 pessoas que não possuem carteira de motorista, 41 aceitaram o seguro: 5,05%"
   ]
  },
  {
   "cell_type": "code",
   "execution_count": null,
   "id": "5933a0ad",
   "metadata": {
    "ExecuteTime": {
     "end_time": "2022-09-28T14:28:40.532633Z",
     "start_time": "2022-09-28T14:28:40.067783Z"
    },
    "hidden": true
   },
   "outputs": [],
   "source": [
    "plt.subplot( 1, 2, 1 )\n",
    "df3_aux1 = df3.loc[df3['driving_license']==1, :]\n",
    "aux1 = df3_aux1[['driving_license', 'response', 'id']].groupby(['driving_license', 'response']).count().reset_index()\n",
    "a = sns.barplot( data=aux1, x='driving_license', y='id', hue='response')\n",
    "for i in a.containers:\n",
    "    a.bar_label(i,);\n",
    "    \n",
    "plt.subplot( 1, 2, 2 )\n",
    "df3_aux2 = df3.loc[df3['driving_license']==0, :]\n",
    "aux1 = df3_aux2[['driving_license', 'response', 'id']].groupby(['driving_license', 'response']).count().reset_index()\n",
    "b = sns.barplot( data=aux1, x='driving_license', y='id', hue='response')\n",
    "for i in b.containers:\n",
    "    b.bar_label(i,);"
   ]
  },
  {
   "cell_type": "markdown",
   "id": "db7daefe",
   "metadata": {
    "hidden": true
   },
   "source": [
    "### 2. Clientes com mais dias associados tendem a aderir ao seguro.\n",
    "    Falsa - Na média ambos que aceitaram ou recusaram tem a mesma quantidade de dias associados"
   ]
  },
  {
   "cell_type": "code",
   "execution_count": null,
   "id": "d88455da",
   "metadata": {
    "ExecuteTime": {
     "end_time": "2022-09-28T14:28:40.783583Z",
     "start_time": "2022-09-28T14:28:40.562654Z"
    },
    "hidden": true
   },
   "outputs": [],
   "source": [
    "aux1 = df3[['vintage', 'response']].groupby('response').mean().reset_index()\n",
    "a = sns.barplot( data=aux1, x='response', y='vintage');\n",
    "for i in a.containers:\n",
    "    a.bar_label(i,);"
   ]
  },
  {
   "cell_type": "markdown",
   "id": "0182224f",
   "metadata": {
    "hidden": true
   },
   "source": [
    "### **3.** 100% dos clientes que ja tiveram o carro batido aderem ao seguro.\n",
    "    Falsa - Das pessoas que ja bateram o carro 76,23% recusaram o seguro."
   ]
  },
  {
   "cell_type": "code",
   "execution_count": null,
   "id": "46b1f175",
   "metadata": {
    "ExecuteTime": {
     "end_time": "2022-09-28T14:28:41.422571Z",
     "start_time": "2022-09-28T14:28:41.122668Z"
    },
    "hidden": true
   },
   "outputs": [],
   "source": [
    "aux1 = df3[['vehicle_damage', 'response', 'id']].groupby(['response', 'vehicle_damage']).count().reset_index()\n",
    "a = sns.barplot( data=aux1, x='vehicle_damage', y='id', hue='response');\n",
    "for i in a.containers:\n",
    "    a.bar_label(i,);"
   ]
  },
  {
   "cell_type": "markdown",
   "id": "a61d6c8f",
   "metadata": {
    "hidden": true
   },
   "source": [
    "### **4.** Clientes mais velhos tendem a aderir ao seguro.\n",
    "    Verdadeiro - Na média, clientes que aceitam o seguro são mais velhos."
   ]
  },
  {
   "cell_type": "code",
   "execution_count": null,
   "id": "be16dc85",
   "metadata": {
    "ExecuteTime": {
     "end_time": "2022-09-28T14:28:42.465371Z",
     "start_time": "2022-09-28T14:28:41.618642Z"
    },
    "hidden": true
   },
   "outputs": [],
   "source": [
    "plt.subplot(1, 2, 1)\n",
    "aux1 = df3[['age', 'response']].groupby('response').mean().reset_index()\n",
    "a = sns.barplot( data=aux1, x= 'response', y='age');\n",
    "for i in a.containers:\n",
    "    a.bar_label(i,);\n",
    "    \n",
    "plt.subplot(1, 2, 2)\n",
    "sns.histplot( df3['age'] );"
   ]
  },
  {
   "cell_type": "markdown",
   "id": "9d685874",
   "metadata": {
    "hidden": true
   },
   "source": [
    "### **5.** Mulheres tendem a aderir ao seguro 30% mais que homens.\n",
    "    Falsa - Apenas 10,39% das mulheres aceitaram o seguro. Enquanto 13,84% dos homens aceitaram."
   ]
  },
  {
   "cell_type": "code",
   "execution_count": null,
   "id": "616b2e9e",
   "metadata": {
    "ExecuteTime": {
     "end_time": "2022-09-28T14:28:42.871241Z",
     "start_time": "2022-09-28T14:28:42.467371Z"
    },
    "hidden": true
   },
   "outputs": [],
   "source": [
    "\n",
    "aux1 = df3[['gender', 'response', 'id']].groupby(['response', 'gender']).count().reset_index()\n",
    "a = sns.barplot( data=aux1, x= 'gender', y='id', hue='response');\n",
    "for i in a.containers:\n",
    "    a.bar_label(i,);"
   ]
  },
  {
   "cell_type": "markdown",
   "id": "f4c05e82",
   "metadata": {
    "heading_collapsed": true,
    "hidden": true
   },
   "source": [
    "### **6.** Clientes em zona rural aderem menos ao seguro."
   ]
  },
  {
   "cell_type": "markdown",
   "id": "ab99cd90",
   "metadata": {
    "hidden": true
   },
   "source": [
    "### **7.** Clientes em cidades grandes aderem mais ao seguro."
   ]
  },
  {
   "cell_type": "markdown",
   "id": "4fb0d0ba",
   "metadata": {
    "hidden": true
   },
   "source": [
    "### **8.** Clientes com veículo mais velho tendem a não aderir ao seguro.\n",
    "    Falsa - A maior taxa de conversão são os que tem o carro > 2 anos, com 29,37%. Seguido dos carros entre 1-2 anos com 17,38%."
   ]
  },
  {
   "cell_type": "code",
   "execution_count": null,
   "id": "2af3654e",
   "metadata": {
    "ExecuteTime": {
     "end_time": "2022-09-28T14:28:43.923329Z",
     "start_time": "2022-09-28T14:28:43.563445Z"
    },
    "hidden": true
   },
   "outputs": [],
   "source": [
    "aux1 = df3[['vehicle_age', 'response', 'id']].groupby(['response', 'vehicle_age']).count().reset_index()\n",
    "a = sns.barplot( data=aux1, x='vehicle_age', y='id', hue='response');\n",
    "for i in a.containers:\n",
    "    a.bar_label(i,);"
   ]
  },
  {
   "cell_type": "markdown",
   "id": "717f71fe",
   "metadata": {
    "hidden": true
   },
   "source": [
    "### **9.** 100% dos clientes que ja tem seguro de carro não aderem ao seguro.\n",
    "    Falsa - 99,91% dos que ja possuem seguro não aderem ao novo seguro."
   ]
  },
  {
   "cell_type": "code",
   "execution_count": null,
   "id": "b52ead16",
   "metadata": {
    "ExecuteTime": {
     "end_time": "2022-09-28T14:28:44.967287Z",
     "start_time": "2022-09-28T14:28:44.675381Z"
    },
    "hidden": true
   },
   "outputs": [],
   "source": [
    "aux1 = df3[['previously_insured', 'response', 'id']].groupby(['response', 'previously_insured']).count().reset_index()\n",
    "a = sns.barplot( data=aux1, x='previously_insured', y='id', hue='response');\n",
    "for i in a.containers:\n",
    "    a.bar_label(i,);"
   ]
  },
  {
   "cell_type": "markdown",
   "id": "f5768a2e",
   "metadata": {
    "heading_collapsed": true,
    "hidden": true
   },
   "source": [
    "## 3.1 Análise Multivariada"
   ]
  },
  {
   "cell_type": "markdown",
   "id": "f6bdecb1",
   "metadata": {
    "heading_collapsed": true,
    "hidden": true
   },
   "source": [
    "### 3.1.1 Numerical Attributes"
   ]
  },
  {
   "cell_type": "code",
   "execution_count": null,
   "id": "8976d34e",
   "metadata": {
    "ExecuteTime": {
     "end_time": "2022-09-28T18:00:59.470561Z",
     "start_time": "2022-09-28T18:00:58.362579Z"
    },
    "hidden": true
   },
   "outputs": [],
   "source": [
    "num_atributes = df3.select_dtypes( include=['int64', 'float64'] )\n",
    "correlation = num_atributes.corr( method='pearson' )\n",
    "sns.heatmap( correlation, annot=True );"
   ]
  },
  {
   "cell_type": "markdown",
   "id": "ba4ec885",
   "metadata": {
    "hidden": true
   },
   "source": [
    "### 3.1.1 Categorical Attributes"
   ]
  },
  {
   "cell_type": "code",
   "execution_count": null,
   "id": "fc6d52a3",
   "metadata": {
    "ExecuteTime": {
     "end_time": "2022-09-28T18:01:01.317554Z",
     "start_time": "2022-09-28T18:01:01.300559Z"
    },
    "hidden": true
   },
   "outputs": [],
   "source": [
    "# only categorical data\n",
    "a = df3.select_dtypes( include='object' )\n",
    "a.columns"
   ]
  },
  {
   "cell_type": "code",
   "execution_count": null,
   "id": "2f53b5f1",
   "metadata": {
    "ExecuteTime": {
     "end_time": "2022-09-28T18:01:04.142674Z",
     "start_time": "2022-09-28T18:01:03.419560Z"
    },
    "hidden": true
   },
   "outputs": [],
   "source": [
    "# Calculate cramer V\n",
    "a1 = cramer_v( a['gender'], a['gender'] )\n",
    "a2 = cramer_v( a['gender'], a['vehicle_age'] )\n",
    "a4 = cramer_v( a['vehicle_age'], a['gender'] )\n",
    "a5 = cramer_v( a['vehicle_age'], a['vehicle_age'] )\n",
    "\n",
    "# Final dataset\n",
    "d = pd.DataFrame( {'gender': [a1, a2],\n",
    "                    'vehicle_age': [a4, a5] } )\n",
    "d = d.set_index( d.columns )\n",
    "sns.heatmap( d, annot=True );"
   ]
  },
  {
   "cell_type": "markdown",
   "id": "3ca8438e",
   "metadata": {
    "heading_collapsed": true
   },
   "source": [
    "# 4.0 DATA PREPARATION"
   ]
  },
  {
   "cell_type": "code",
   "execution_count": 63,
   "id": "dd20ae0f",
   "metadata": {
    "ExecuteTime": {
     "end_time": "2022-10-18T13:23:58.423257Z",
     "start_time": "2022-10-18T13:23:58.299299Z"
    },
    "hidden": true
   },
   "outputs": [],
   "source": [
    "df4= df3.copy()"
   ]
  },
  {
   "cell_type": "code",
   "execution_count": 64,
   "id": "7426d9f2",
   "metadata": {
    "ExecuteTime": {
     "end_time": "2022-10-18T13:24:00.245036Z",
     "start_time": "2022-10-18T13:24:00.074088Z"
    },
    "hidden": true
   },
   "outputs": [],
   "source": [
    "X = df3.drop('response', axis=1)\n",
    "y = df3['response'].copy()\n",
    "\n",
    "x_train, x_validation, y_train, y_validation = ms.train_test_split( X, y, test_size=0.20 )\n",
    "\n",
    "df4 = pd.concat( [ x_train, y_train ], axis = 1 )"
   ]
  },
  {
   "cell_type": "markdown",
   "id": "2c4f033d",
   "metadata": {
    "hidden": true
   },
   "source": [
    "## Stardadization"
   ]
  },
  {
   "cell_type": "code",
   "execution_count": 18,
   "id": "83ca2bff",
   "metadata": {
    "ExecuteTime": {
     "end_time": "2022-10-18T11:32:41.255703Z",
     "start_time": "2022-10-18T11:32:41.200722Z"
    },
    "hidden": true
   },
   "outputs": [],
   "source": [
    "ss = pp.StandardScaler()\n",
    "\n",
    "# Annual Premium\n",
    "df4['annual_premium'] = ss.fit_transform( df4[['annual_premium']].values )\n",
    "pickle.dump( ss, open( 'C:/Users/Pedro/repos/health_insurance_cross_sell/pa004_health_insurance_cross_sell/health_insurance_cross-sell/src/features/annual_premium_scaler.pkl', 'wb' ) )"
   ]
  },
  {
   "cell_type": "markdown",
   "id": "fadf686e",
   "metadata": {
    "hidden": true
   },
   "source": [
    "## Rescaling"
   ]
  },
  {
   "cell_type": "code",
   "execution_count": 19,
   "id": "6affc9e6",
   "metadata": {
    "ExecuteTime": {
     "end_time": "2022-10-18T11:32:42.183736Z",
     "start_time": "2022-10-18T11:32:42.136753Z"
    },
    "hidden": true
   },
   "outputs": [],
   "source": [
    "mms_age = pp.MinMaxScaler()\n",
    "mms_vintage = pp.MinMaxScaler()\n",
    "\n",
    "# Age\n",
    "df4['age'] = mms_age.fit_transform( df4[['age']].values )\n",
    "pickle.dump( mms_age, open('C:/Users/Pedro/repos/health_insurance_cross_sell/pa004_health_insurance_cross_sell/health_insurance_cross-sell/src/features/age_scaler.pkl', 'wb' ) )\n",
    "\n",
    "# Vintage\n",
    "df4['vintage'] = mms_vintage.fit_transform( df4[['vintage']].values )\n",
    "pickle.dump( mms_vintage, open('C:/Users/Pedro/repos/health_insurance_cross_sell/pa004_health_insurance_cross_sell/health_insurance_cross-sell/src/features/vintage_scaler.pkl', 'wb') )"
   ]
  },
  {
   "cell_type": "markdown",
   "id": "bf9cfd71",
   "metadata": {
    "hidden": true
   },
   "source": [
    "## Encoder"
   ]
  },
  {
   "cell_type": "code",
   "execution_count": 20,
   "id": "1faddb15",
   "metadata": {
    "ExecuteTime": {
     "end_time": "2022-10-18T11:32:43.585301Z",
     "start_time": "2022-10-18T11:32:43.369352Z"
    },
    "hidden": true
   },
   "outputs": [],
   "source": [
    "# Gender - Target Encoding\n",
    "target_encoding_gender = df4.groupby('gender')['response'].mean()\n",
    "df4.loc[:, 'gender'] = df4['gender'].map( target_encoding_gender )\n",
    "pickle.dump(target_encoding_gender, open('C:/Users/Pedro/repos/health_insurance_cross_sell/pa004_health_insurance_cross_sell/health_insurance_cross-sell/src/features/target_encode_gender_scaler.pkl', 'wb'  )  )\n",
    "\n",
    "# Region Code - Target Encoding\n",
    "target_encoding_region_code = df4.groupby('region_code')['response'].mean() \n",
    "df4.loc[:, 'region_code'] = df4['region_code'].map( target_encoding_region_code )\n",
    "pickle.dump(target_encoding_region_code, open('C:/Users/Pedro/repos/health_insurance_cross_sell/pa004_health_insurance_cross_sell/health_insurance_cross-sell/src/features/target_encode_region_code_scaler.pkl', 'wb' ) )\n",
    " \n",
    "# Vehicle Age - One Hot Encoding\n",
    "df4 = pd.get_dummies( df4, prefix='vehicle_age', columns=['vehicle_age'] )\n",
    "\n",
    "# Policy Sales Channel - Target Encoding / Frequency Encoding\n",
    "fe_policy_sales_channel = df4.groupby('policy_sales_channel').size() / len( df4 )\n",
    "df4.loc[:, 'policy_sales_channel'] = df4['policy_sales_channel'].map( fe_policy_sales_channel )\n",
    "pickle.dump(fe_policy_sales_channel, open('C:/Users/Pedro/repos/health_insurance_cross_sell/pa004_health_insurance_cross_sell/health_insurance_cross-sell/src/features/fe_policy_sales_channel_scaler.pkl', 'wb'))"
   ]
  },
  {
   "cell_type": "markdown",
   "id": "8d5a3f8f",
   "metadata": {
    "ExecuteTime": {
     "end_time": "2022-09-27T13:12:55.900157Z",
     "start_time": "2022-09-27T13:12:55.881162Z"
    },
    "hidden": true
   },
   "source": [
    "## 4.1 Validation Preparation"
   ]
  },
  {
   "cell_type": "code",
   "execution_count": 21,
   "id": "564ea909",
   "metadata": {
    "ExecuteTime": {
     "end_time": "2022-10-18T11:32:47.827179Z",
     "start_time": "2022-10-18T11:32:47.713216Z"
    },
    "hidden": true
   },
   "outputs": [
    {
     "name": "stderr",
     "output_type": "stream",
     "text": [
      "C:\\Users\\Pedro\\anaconda3\\lib\\site-packages\\pandas\\core\\indexing.py:1773: SettingWithCopyWarning: \n",
      "A value is trying to be set on a copy of a slice from a DataFrame.\n",
      "Try using .loc[row_indexer,col_indexer] = value instead\n",
      "\n",
      "See the caveats in the documentation: https://pandas.pydata.org/pandas-docs/stable/user_guide/indexing.html#returning-a-view-versus-a-copy\n",
      "  self._setitem_single_column(ilocs[0], value, pi)\n",
      "C:\\Users\\Pedro\\anaconda3\\lib\\site-packages\\pandas\\core\\indexing.py:1835: SettingWithCopyWarning: \n",
      "A value is trying to be set on a copy of a slice from a DataFrame.\n",
      "Try using .loc[row_indexer,col_indexer] = value instead\n",
      "\n",
      "See the caveats in the documentation: https://pandas.pydata.org/pandas-docs/stable/user_guide/indexing.html#returning-a-view-versus-a-copy\n",
      "  self._setitem_single_column(loc, value[:, i].tolist(), pi)\n",
      "C:\\Users\\Pedro\\anaconda3\\lib\\site-packages\\pandas\\core\\indexing.py:1773: SettingWithCopyWarning: \n",
      "A value is trying to be set on a copy of a slice from a DataFrame.\n",
      "Try using .loc[row_indexer,col_indexer] = value instead\n",
      "\n",
      "See the caveats in the documentation: https://pandas.pydata.org/pandas-docs/stable/user_guide/indexing.html#returning-a-view-versus-a-copy\n",
      "  self._setitem_single_column(ilocs[0], value, pi)\n",
      "C:\\Users\\Pedro\\anaconda3\\lib\\site-packages\\pandas\\core\\indexing.py:1835: SettingWithCopyWarning: \n",
      "A value is trying to be set on a copy of a slice from a DataFrame.\n",
      "Try using .loc[row_indexer,col_indexer] = value instead\n",
      "\n",
      "See the caveats in the documentation: https://pandas.pydata.org/pandas-docs/stable/user_guide/indexing.html#returning-a-view-versus-a-copy\n",
      "  self._setitem_single_column(loc, value[:, i].tolist(), pi)\n",
      "C:\\Users\\Pedro\\anaconda3\\lib\\site-packages\\pandas\\core\\indexing.py:1835: SettingWithCopyWarning: \n",
      "A value is trying to be set on a copy of a slice from a DataFrame.\n",
      "Try using .loc[row_indexer,col_indexer] = value instead\n",
      "\n",
      "See the caveats in the documentation: https://pandas.pydata.org/pandas-docs/stable/user_guide/indexing.html#returning-a-view-versus-a-copy\n",
      "  self._setitem_single_column(loc, value[:, i].tolist(), pi)\n"
     ]
    }
   ],
   "source": [
    "# Gender\n",
    "x_validation.loc[:, 'gender'] = x_validation.loc[:, 'gender'].map( target_encoding_gender )\n",
    "\n",
    "# Age\n",
    "x_validation.loc[:, 'age'] = mms_age.transform( x_validation[['age']].values )\n",
    "\n",
    "# Region Code\n",
    "x_validation.loc[:, 'region_code'] = x_validation.loc[:, 'region_code'].map( target_encoding_region_code )\n",
    "\n",
    "# Vintage\n",
    "x_validation.loc[:, 'vintage'] = mms_vintage.transform( x_validation[['vintage']].values )\n",
    "\n",
    "# Annual Premium\n",
    "x_validation.loc[:, 'annual_premium'] = ss.transform( x_validation[['annual_premium']].values )\n",
    "\n",
    "# Vehicle Age\n",
    "x_validation = pd.get_dummies( x_validation, prefix='vehicle_age', columns=['vehicle_age'] )\n",
    "\n",
    "# Policy Sales Channel\n",
    "x_validation.loc[:, 'policy_sales_channel'] = x_validation['policy_sales_channel'].map( fe_policy_sales_channel )\n",
    "\n",
    "# fill NA - Conferir se tinha NA\n",
    "x_validation = x_validation.fillna( 0 )"
   ]
  },
  {
   "cell_type": "markdown",
   "id": "36fba760",
   "metadata": {
    "heading_collapsed": true
   },
   "source": [
    "# 5.0 FEATURE SELECTION"
   ]
  },
  {
   "cell_type": "markdown",
   "id": "821939ea",
   "metadata": {
    "hidden": true
   },
   "source": [
    "## 5.1 Features Importance"
   ]
  },
  {
   "cell_type": "code",
   "execution_count": 22,
   "id": "baadbb19",
   "metadata": {
    "ExecuteTime": {
     "end_time": "2022-10-18T11:33:08.950260Z",
     "start_time": "2022-10-18T11:32:53.785163Z"
    },
    "hidden": true
   },
   "outputs": [
    {
     "data": {
      "text/plain": [
       "ExtraTreesClassifier(n_estimators=250, n_jobs=-1, random_state=0)"
      ]
     },
     "execution_count": 22,
     "metadata": {},
     "output_type": "execute_result"
    }
   ],
   "source": [
    "# Model Definition\n",
    "forest = en.ExtraTreesClassifier( n_estimators=250, random_state=0, n_jobs=-1 )\n",
    "\n",
    "# Data Preparation\n",
    "x_train_n = df4.drop( ['id', 'response'], axis=1 )\n",
    "y_train_n = y_train.values\n",
    "forest.fit( x_train_n, y_train_n )"
   ]
  },
  {
   "cell_type": "code",
   "execution_count": 23,
   "id": "c8351bfe",
   "metadata": {
    "ExecuteTime": {
     "end_time": "2022-10-18T11:33:09.592055Z",
     "start_time": "2022-10-18T11:33:08.952260Z"
    },
    "hidden": true
   },
   "outputs": [
    {
     "name": "stdout",
     "output_type": "stream",
     "text": [
      "Feature Importance:\n",
      "                        feature  importance\n",
      "0                       vintage    0.271494\n",
      "0                annual_premium    0.244036\n",
      "0                           age    0.165584\n",
      "0                   region_code    0.105819\n",
      "0                vehicle_damage    0.069741\n",
      "0          policy_sales_channel    0.060565\n",
      "0            previously_insured    0.054703\n",
      "0      vehicle_age_below_1_year    0.014127\n",
      "0  vehicle_age_between_1_2_year    0.006557\n",
      "0                        gender    0.004672\n",
      "0      vehicle_age_over_2_years    0.002205\n",
      "0               driving_license    0.000497\n"
     ]
    }
   ],
   "source": [
    "importances = forest.feature_importances_\n",
    "std = np.std([tree.feature_importances_ for tree in forest.estimators_], axis=0)\n",
    "indices = np.argsort(importances)[::-1]\n",
    "\n",
    "# Print Feature Ranking\n",
    "print('Feature Importance:')\n",
    "df = pd.DataFrame()\n",
    "for i, j in zip( x_train_n, importances ):\n",
    "    aux = pd.DataFrame( {'feature':i, 'importance':j}, index=[0] )\n",
    "    df = pd.concat( [df, aux], axis=0 )\n",
    "    \n",
    "print(df.sort_values('importance', ascending=False))"
   ]
  },
  {
   "cell_type": "markdown",
   "id": "249e34a9",
   "metadata": {
    "heading_collapsed": true
   },
   "source": [
    "# 6.0 MACHINE LEARNING"
   ]
  },
  {
   "cell_type": "code",
   "execution_count": 24,
   "id": "8ec8e1fb",
   "metadata": {
    "ExecuteTime": {
     "end_time": "2022-10-18T11:33:14.520055Z",
     "start_time": "2022-10-18T11:33:14.491064Z"
    },
    "hidden": true
   },
   "outputs": [],
   "source": [
    "cols_selected = ['vintage', 'annual_premium', 'age', 'region_code', 'vehicle_damage', 'policy_sales_channel', 'previously_insured']\n",
    "\n",
    "x_train = df4[cols_selected]\n",
    "x_val = x_validation[cols_selected]\n",
    "y_val = y_validation.copy()"
   ]
  },
  {
   "cell_type": "markdown",
   "id": "b2b69ef3",
   "metadata": {
    "hidden": true
   },
   "source": [
    "## 6.1 KNN"
   ]
  },
  {
   "cell_type": "code",
   "execution_count": 25,
   "id": "06ef2f9c",
   "metadata": {
    "ExecuteTime": {
     "end_time": "2022-10-18T11:33:47.791797Z",
     "start_time": "2022-10-18T11:33:17.945236Z"
    },
    "hidden": true
   },
   "outputs": [
    {
     "data": {
      "text/plain": [
       "<AxesSubplot:title={'center':'Lift Curve'}, xlabel='Percentage of sample', ylabel='Lift'>"
      ]
     },
     "execution_count": 25,
     "metadata": {},
     "output_type": "execute_result"
    },
    {
     "data": {
      "image/png": "[encoded data removed]",
      "text/plain": [
       "<Figure size 1296x720 with 2 Axes>"
      ]
     },
     "metadata": {
      "needs_background": "light"
     },
     "output_type": "display_data"
    }
   ],
   "source": [
    "# Model Definition\n",
    "knn_model = nh.KNeighborsClassifier( n_neighbors=7 )\n",
    "\n",
    "# Model Training\n",
    "knn_model.fit( x_train, y_train )\n",
    "\n",
    "# Model Prediction - Poder de Generalização\n",
    "yhat_knn = knn_model.predict_proba( x_val )\n",
    "\n",
    "# Acumulative Gain\n",
    "fig, axs = plt.subplots(ncols=2, figsize=(18,10))\n",
    "skplt.metrics.plot_cumulative_gain( y_val, yhat_knn, ax=axs[0], title='Cumulative Gains Curve')\n",
    "skplt.metrics.plot_lift_curve( y_val, yhat_knn, ax=axs[1], title='Lift Curve' )"
   ]
  },
  {
   "cell_type": "code",
   "execution_count": 29,
   "id": "fd355aa3",
   "metadata": {
    "ExecuteTime": {
     "end_time": "2022-10-18T11:34:17.496548Z",
     "start_time": "2022-10-18T11:34:17.413575Z"
    },
    "hidden": true
   },
   "outputs": [
    {
     "data": {
      "text/html": [
       "<div>\n",
       "<style scoped>\n",
       "    .dataframe tbody tr th:only-of-type {\n",
       "        vertical-align: middle;\n",
       "    }\n",
       "\n",
       "    .dataframe tbody tr th {\n",
       "        vertical-align: top;\n",
       "    }\n",
       "\n",
       "    .dataframe thead th {\n",
       "        text-align: right;\n",
       "    }\n",
       "</style>\n",
       "<table border=\"1\" class=\"dataframe\">\n",
       "  <thead>\n",
       "    <tr style=\"text-align: right;\">\n",
       "      <th></th>\n",
       "      <th>Precision_at_k</th>\n",
       "      <th>Recall_at_k</th>\n",
       "    </tr>\n",
       "  </thead>\n",
       "  <tbody>\n",
       "    <tr>\n",
       "      <th>KNN</th>\n",
       "      <td>0.293</td>\n",
       "      <td>0.628</td>\n",
       "    </tr>\n",
       "  </tbody>\n",
       "</table>\n",
       "</div>"
      ],
      "text/plain": [
       "    Precision_at_k Recall_at_k\n",
       "KNN          0.293       0.628"
      ]
     },
     "execution_count": 29,
     "metadata": {},
     "output_type": "execute_result"
    }
   ],
   "source": [
    "knn_metrics = at_k_metrics( 'KNN', x_validation, y_validation, yhat_knn, k=20000 )\n",
    "knn_metrics"
   ]
  },
  {
   "cell_type": "markdown",
   "id": "6df7e5cb",
   "metadata": {
    "hidden": true
   },
   "source": [
    "## 6.2 Logistic Regression"
   ]
  },
  {
   "cell_type": "code",
   "execution_count": 30,
   "id": "5247fdd2",
   "metadata": {
    "ExecuteTime": {
     "end_time": "2022-10-18T11:34:20.133005Z",
     "start_time": "2022-10-18T11:34:18.521522Z"
    },
    "hidden": true
   },
   "outputs": [
    {
     "data": {
      "text/plain": [
       "<AxesSubplot:title={'center':'Lift Curve'}, xlabel='Percentage of sample', ylabel='Lift'>"
      ]
     },
     "execution_count": 30,
     "metadata": {},
     "output_type": "execute_result"
    },
    {
     "data": {
      "image/png": "[encoded data removed]",
      "text/plain": [
       "<Figure size 1296x720 with 2 Axes>"
      ]
     },
     "metadata": {
      "needs_background": "light"
     },
     "output_type": "display_data"
    }
   ],
   "source": [
    "# Model Definition\n",
    "lr_model = lm.LogisticRegression( random_state=42 )\n",
    "\n",
    "# Model Training\n",
    "lr_model.fit( x_train, y_train )\n",
    "\n",
    "# Model Prediction\n",
    "yhat_lr = lr_model.predict_proba( x_val )\n",
    "\n",
    "fig, axs = plt.subplots(ncols=2, figsize=(18,10))\n",
    "skplt.metrics.plot_cumulative_gain( y_val, yhat_lr, ax=axs[0], title='Cumulative Gains Curve')\n",
    "skplt.metrics.plot_lift_curve( y_val, yhat_lr, ax=axs[1], title='Lift Curve' )"
   ]
  },
  {
   "cell_type": "code",
   "execution_count": 31,
   "id": "bc6ec952",
   "metadata": {
    "ExecuteTime": {
     "end_time": "2022-10-18T11:34:22.366820Z",
     "start_time": "2022-10-18T11:34:22.281847Z"
    },
    "hidden": true
   },
   "outputs": [
    {
     "data": {
      "text/html": [
       "<div>\n",
       "<style scoped>\n",
       "    .dataframe tbody tr th:only-of-type {\n",
       "        vertical-align: middle;\n",
       "    }\n",
       "\n",
       "    .dataframe tbody tr th {\n",
       "        vertical-align: top;\n",
       "    }\n",
       "\n",
       "    .dataframe thead th {\n",
       "        text-align: right;\n",
       "    }\n",
       "</style>\n",
       "<table border=\"1\" class=\"dataframe\">\n",
       "  <thead>\n",
       "    <tr style=\"text-align: right;\">\n",
       "      <th></th>\n",
       "      <th>Precision_at_k</th>\n",
       "      <th>Recall_at_k</th>\n",
       "    </tr>\n",
       "  </thead>\n",
       "  <tbody>\n",
       "    <tr>\n",
       "      <th>Logistic Regression</th>\n",
       "      <td>0.281</td>\n",
       "      <td>0.603</td>\n",
       "    </tr>\n",
       "  </tbody>\n",
       "</table>\n",
       "</div>"
      ],
      "text/plain": [
       "                    Precision_at_k Recall_at_k\n",
       "Logistic Regression          0.281       0.603"
      ]
     },
     "execution_count": 31,
     "metadata": {},
     "output_type": "execute_result"
    }
   ],
   "source": [
    "lr_metrics = at_k_metrics( 'Logistic Regression', x_validation, y_validation, yhat_lr, k=20000 )\n",
    "lr_metrics"
   ]
  },
  {
   "cell_type": "markdown",
   "id": "221243a4",
   "metadata": {
    "hidden": true
   },
   "source": [
    "## 6.3 Extra Trees"
   ]
  },
  {
   "cell_type": "code",
   "execution_count": 32,
   "id": "5e6c2c7f",
   "metadata": {
    "ExecuteTime": {
     "end_time": "2022-10-18T11:35:56.748584Z",
     "start_time": "2022-10-18T11:34:23.904798Z"
    },
    "hidden": true
   },
   "outputs": [
    {
     "data": {
      "text/plain": [
       "<AxesSubplot:title={'center':'Lift Curve'}, xlabel='Percentage of sample', ylabel='Lift'>"
      ]
     },
     "execution_count": 32,
     "metadata": {},
     "output_type": "execute_result"
    },
    {
     "data": {
      "image/png": "[encoded data removed]",
      "text/plain": [
       "<Figure size 1296x720 with 2 Axes>"
      ]
     },
     "metadata": {
      "needs_background": "light"
     },
     "output_type": "display_data"
    }
   ],
   "source": [
    "# Model Definition\n",
    "et_model = en.ExtraTreesClassifier( n_estimators=1000, n_jobs=-1, random_state=42 )\n",
    "\n",
    "# Model Training\n",
    "et_model.fit( x_train, y_train )\n",
    "\n",
    "# Model Prediction - Poder de Generalização\n",
    "yhat_et = et_model.predict_proba( x_val )\n",
    "\n",
    "fig, axs = plt.subplots(ncols=2, figsize=(18,10))\n",
    "skplt.metrics.plot_cumulative_gain( y_val, yhat_et, ax=axs[0], title='Cumulative Gains Curve')\n",
    "skplt.metrics.plot_lift_curve( y_val, yhat_et, ax=axs[1], title='Lift Curve' )"
   ]
  },
  {
   "cell_type": "code",
   "execution_count": 33,
   "id": "ce00a87e",
   "metadata": {
    "ExecuteTime": {
     "end_time": "2022-10-18T11:35:56.997504Z",
     "start_time": "2022-10-18T11:35:56.759581Z"
    },
    "hidden": true
   },
   "outputs": [
    {
     "data": {
      "text/html": [
       "<div>\n",
       "<style scoped>\n",
       "    .dataframe tbody tr th:only-of-type {\n",
       "        vertical-align: middle;\n",
       "    }\n",
       "\n",
       "    .dataframe tbody tr th {\n",
       "        vertical-align: top;\n",
       "    }\n",
       "\n",
       "    .dataframe thead th {\n",
       "        text-align: right;\n",
       "    }\n",
       "</style>\n",
       "<table border=\"1\" class=\"dataframe\">\n",
       "  <thead>\n",
       "    <tr style=\"text-align: right;\">\n",
       "      <th></th>\n",
       "      <th>Precision_at_k</th>\n",
       "      <th>Recall_at_k</th>\n",
       "    </tr>\n",
       "  </thead>\n",
       "  <tbody>\n",
       "    <tr>\n",
       "      <th>Extra Trees</th>\n",
       "      <td>0.302</td>\n",
       "      <td>0.647</td>\n",
       "    </tr>\n",
       "  </tbody>\n",
       "</table>\n",
       "</div>"
      ],
      "text/plain": [
       "            Precision_at_k Recall_at_k\n",
       "Extra Trees          0.302       0.647"
      ]
     },
     "execution_count": 33,
     "metadata": {},
     "output_type": "execute_result"
    }
   ],
   "source": [
    "et_metrics = at_k_metrics( 'Extra Trees', x_validation, y_validation, yhat_et, k=20000 )\n",
    "et_metrics"
   ]
  },
  {
   "cell_type": "markdown",
   "id": "90d3e8a7",
   "metadata": {
    "hidden": true
   },
   "source": [
    "## 6.4 Random Forest"
   ]
  },
  {
   "cell_type": "code",
   "execution_count": 34,
   "id": "15dfed74",
   "metadata": {
    "ExecuteTime": {
     "end_time": "2022-10-18T11:37:37.542187Z",
     "start_time": "2022-10-18T11:35:57.001503Z"
    },
    "hidden": true
   },
   "outputs": [
    {
     "data": {
      "text/plain": [
       "<AxesSubplot:title={'center':'Lift Curve'}, xlabel='Percentage of sample', ylabel='Lift'>"
      ]
     },
     "execution_count": 34,
     "metadata": {},
     "output_type": "execute_result"
    },
    {
     "data": {
      "image/png": "[encoded data removed]",
      "text/plain": [
       "<Figure size 1296x720 with 2 Axes>"
      ]
     },
     "metadata": {
      "needs_background": "light"
     },
     "output_type": "display_data"
    }
   ],
   "source": [
    "# model definition\n",
    "rf = en.RandomForestClassifier( n_estimators=1000, n_jobs=-1, random_state=42 ) \n",
    "\n",
    "# model training\n",
    "rf.fit( x_train, y_train )\n",
    "\n",
    "# model prediction\n",
    "yhat_rf = rf.predict_proba( x_val )\n",
    "\n",
    "fig, axs = plt.subplots(ncols=2, figsize=(18,10))\n",
    "skplt.metrics.plot_cumulative_gain( y_val, yhat_rf, ax=axs[0], title='Cumulative Gains Curve')\n",
    "skplt.metrics.plot_lift_curve( y_val, yhat_rf, ax=axs[1], title='Lift Curve' )"
   ]
  },
  {
   "cell_type": "code",
   "execution_count": 35,
   "id": "5ff34308",
   "metadata": {
    "ExecuteTime": {
     "end_time": "2022-10-18T11:37:37.728126Z",
     "start_time": "2022-10-18T11:37:37.552184Z"
    },
    "hidden": true
   },
   "outputs": [
    {
     "data": {
      "text/html": [
       "<div>\n",
       "<style scoped>\n",
       "    .dataframe tbody tr th:only-of-type {\n",
       "        vertical-align: middle;\n",
       "    }\n",
       "\n",
       "    .dataframe tbody tr th {\n",
       "        vertical-align: top;\n",
       "    }\n",
       "\n",
       "    .dataframe thead th {\n",
       "        text-align: right;\n",
       "    }\n",
       "</style>\n",
       "<table border=\"1\" class=\"dataframe\">\n",
       "  <thead>\n",
       "    <tr style=\"text-align: right;\">\n",
       "      <th></th>\n",
       "      <th>Precision_at_k</th>\n",
       "      <th>Recall_at_k</th>\n",
       "    </tr>\n",
       "  </thead>\n",
       "  <tbody>\n",
       "    <tr>\n",
       "      <th>Random Forest</th>\n",
       "      <td>0.309</td>\n",
       "      <td>0.661</td>\n",
       "    </tr>\n",
       "  </tbody>\n",
       "</table>\n",
       "</div>"
      ],
      "text/plain": [
       "              Precision_at_k Recall_at_k\n",
       "Random Forest          0.309       0.661"
      ]
     },
     "execution_count": 35,
     "metadata": {},
     "output_type": "execute_result"
    }
   ],
   "source": [
    "rf_metrics = at_k_metrics( 'Random Forest', x_validation, y_validation, yhat_rf, k=20000 )\n",
    "rf_metrics"
   ]
  },
  {
   "cell_type": "markdown",
   "id": "4376fe97",
   "metadata": {
    "hidden": true
   },
   "source": [
    "## 6.5 XGBoost "
   ]
  },
  {
   "cell_type": "code",
   "execution_count": 36,
   "id": "08a35e5a",
   "metadata": {
    "ExecuteTime": {
     "end_time": "2022-10-18T11:37:52.074277Z",
     "start_time": "2022-10-18T11:37:37.730126Z"
    },
    "hidden": true
   },
   "outputs": [
    {
     "name": "stdout",
     "output_type": "stream",
     "text": [
      "[08:37:38] WARNING: C:/Users/administrator/workspace/xgboost-win64_release_1.6.0/src/learner.cc:627: \n",
      "Parameters: { \"eval_metrics\" } might not be used.\n",
      "\n",
      "  This could be a false alarm, with some parameters getting used by language bindings but\n",
      "  then being mistakenly passed down to XGBoost core, or some parameter actually being used\n",
      "  but getting flagged wrongly here. Please open an issue if you find any such cases.\n",
      "\n",
      "\n"
     ]
    },
    {
     "data": {
      "image/png": "[encoded data removed]",
      "text/plain": [
       "<Figure size 1296x720 with 2 Axes>"
      ]
     },
     "metadata": {
      "needs_background": "light"
     },
     "output_type": "display_data"
    }
   ],
   "source": [
    "xgb_model = xgb.XGBClassifier( objective='binary:logistic', eval_metrics='error' )\n",
    "\n",
    "xgb_model.fit( x_train, y_train )\n",
    "\n",
    "yhat_xgb = xgb_model.predict_proba( x_val )\n",
    "\n",
    "fig, axs = plt.subplots(ncols=2, figsize=(18,10))\n",
    "skplt.metrics.plot_cumulative_gain( y_val, yhat_xgb, ax=axs[0], title='Cumulative Gains Curve');\n",
    "skplt.metrics.plot_lift_curve( y_val, yhat_xgb, ax=axs[1], title='Lift Curve' );"
   ]
  },
  {
   "cell_type": "code",
   "execution_count": 37,
   "id": "8b8c7718",
   "metadata": {
    "ExecuteTime": {
     "end_time": "2022-10-18T11:37:52.169245Z",
     "start_time": "2022-10-18T11:37:52.076277Z"
    },
    "hidden": true
   },
   "outputs": [
    {
     "data": {
      "text/html": [
       "<div>\n",
       "<style scoped>\n",
       "    .dataframe tbody tr th:only-of-type {\n",
       "        vertical-align: middle;\n",
       "    }\n",
       "\n",
       "    .dataframe tbody tr th {\n",
       "        vertical-align: top;\n",
       "    }\n",
       "\n",
       "    .dataframe thead th {\n",
       "        text-align: right;\n",
       "    }\n",
       "</style>\n",
       "<table border=\"1\" class=\"dataframe\">\n",
       "  <thead>\n",
       "    <tr style=\"text-align: right;\">\n",
       "      <th></th>\n",
       "      <th>Precision_at_k</th>\n",
       "      <th>Recall_at_k</th>\n",
       "    </tr>\n",
       "  </thead>\n",
       "  <tbody>\n",
       "    <tr>\n",
       "      <th>XGBoost</th>\n",
       "      <td>0.329</td>\n",
       "      <td>0.705</td>\n",
       "    </tr>\n",
       "  </tbody>\n",
       "</table>\n",
       "</div>"
      ],
      "text/plain": [
       "        Precision_at_k Recall_at_k\n",
       "XGBoost          0.329       0.705"
      ]
     },
     "execution_count": 37,
     "metadata": {},
     "output_type": "execute_result"
    }
   ],
   "source": [
    "xgb_metrics = at_k_metrics( 'XGBoost', x_validation, y_validation, yhat_xgb, k=20000 )\n",
    "xgb_metrics"
   ]
  },
  {
   "cell_type": "markdown",
   "id": "2ba4c595",
   "metadata": {
    "hidden": true
   },
   "source": [
    "## 6.6 Light Gradient Boost Machine"
   ]
  },
  {
   "cell_type": "code",
   "execution_count": 38,
   "id": "c5de7bdd",
   "metadata": {
    "ExecuteTime": {
     "end_time": "2022-10-18T11:37:53.949417Z",
     "start_time": "2022-10-18T11:37:52.171247Z"
    },
    "hidden": true
   },
   "outputs": [
    {
     "data": {
      "image/png": "[encoded data removed]",
      "text/plain": [
       "<Figure size 1296x720 with 2 Axes>"
      ]
     },
     "metadata": {
      "needs_background": "light"
     },
     "output_type": "display_data"
    }
   ],
   "source": [
    "lgbm_model = LGBMClassifier()\n",
    "\n",
    "lgbm_model.fit(x_train, y_train)\n",
    "\n",
    "yhat_lgbm = lgbm_model.predict_proba( x_val )\n",
    "\n",
    "fig, axs = plt.subplots(ncols=2, figsize=(18,10))\n",
    "skplt.metrics.plot_cumulative_gain( y_val, yhat_lgbm, ax=axs[0], title='Cumulative Gains Curve');\n",
    "skplt.metrics.plot_lift_curve( y_val, yhat_lgbm, ax=axs[1], title='Lift Curve' );"
   ]
  },
  {
   "cell_type": "code",
   "execution_count": 39,
   "id": "fcf8be81",
   "metadata": {
    "ExecuteTime": {
     "end_time": "2022-10-18T11:37:54.042386Z",
     "start_time": "2022-10-18T11:37:53.951416Z"
    },
    "hidden": true
   },
   "outputs": [
    {
     "data": {
      "text/html": [
       "<div>\n",
       "<style scoped>\n",
       "    .dataframe tbody tr th:only-of-type {\n",
       "        vertical-align: middle;\n",
       "    }\n",
       "\n",
       "    .dataframe tbody tr th {\n",
       "        vertical-align: top;\n",
       "    }\n",
       "\n",
       "    .dataframe thead th {\n",
       "        text-align: right;\n",
       "    }\n",
       "</style>\n",
       "<table border=\"1\" class=\"dataframe\">\n",
       "  <thead>\n",
       "    <tr style=\"text-align: right;\">\n",
       "      <th></th>\n",
       "      <th>Precision_at_k</th>\n",
       "      <th>Recall_at_k</th>\n",
       "    </tr>\n",
       "  </thead>\n",
       "  <tbody>\n",
       "    <tr>\n",
       "      <th>Light Gradient</th>\n",
       "      <td>0.331</td>\n",
       "      <td>0.709</td>\n",
       "    </tr>\n",
       "  </tbody>\n",
       "</table>\n",
       "</div>"
      ],
      "text/plain": [
       "               Precision_at_k Recall_at_k\n",
       "Light Gradient          0.331       0.709"
      ]
     },
     "execution_count": 39,
     "metadata": {},
     "output_type": "execute_result"
    }
   ],
   "source": [
    "lgbm_metrics = at_k_metrics( 'Light Gradient', x_validation, y_validation, yhat_lgbm, k=20000 )\n",
    "lgbm_metrics"
   ]
  },
  {
   "cell_type": "markdown",
   "id": "dee4eadd",
   "metadata": {
    "hidden": true
   },
   "source": [
    "## Metrics Resume"
   ]
  },
  {
   "cell_type": "code",
   "execution_count": 40,
   "id": "ec28988d",
   "metadata": {
    "ExecuteTime": {
     "end_time": "2022-10-18T11:37:54.073376Z",
     "start_time": "2022-10-18T11:37:54.045385Z"
    },
    "hidden": true
   },
   "outputs": [
    {
     "data": {
      "text/html": [
       "<div>\n",
       "<style scoped>\n",
       "    .dataframe tbody tr th:only-of-type {\n",
       "        vertical-align: middle;\n",
       "    }\n",
       "\n",
       "    .dataframe tbody tr th {\n",
       "        vertical-align: top;\n",
       "    }\n",
       "\n",
       "    .dataframe thead th {\n",
       "        text-align: right;\n",
       "    }\n",
       "</style>\n",
       "<table border=\"1\" class=\"dataframe\">\n",
       "  <thead>\n",
       "    <tr style=\"text-align: right;\">\n",
       "      <th></th>\n",
       "      <th>Precision_at_k</th>\n",
       "      <th>Recall_at_k</th>\n",
       "    </tr>\n",
       "  </thead>\n",
       "  <tbody>\n",
       "    <tr>\n",
       "      <th>Light Gradient</th>\n",
       "      <td>0.331</td>\n",
       "      <td>0.709</td>\n",
       "    </tr>\n",
       "    <tr>\n",
       "      <th>XGBoost</th>\n",
       "      <td>0.329</td>\n",
       "      <td>0.705</td>\n",
       "    </tr>\n",
       "    <tr>\n",
       "      <th>Random Forest</th>\n",
       "      <td>0.309</td>\n",
       "      <td>0.661</td>\n",
       "    </tr>\n",
       "    <tr>\n",
       "      <th>Extra Trees</th>\n",
       "      <td>0.302</td>\n",
       "      <td>0.647</td>\n",
       "    </tr>\n",
       "    <tr>\n",
       "      <th>KNN</th>\n",
       "      <td>0.293</td>\n",
       "      <td>0.628</td>\n",
       "    </tr>\n",
       "    <tr>\n",
       "      <th>Logistic Regression</th>\n",
       "      <td>0.281</td>\n",
       "      <td>0.603</td>\n",
       "    </tr>\n",
       "  </tbody>\n",
       "</table>\n",
       "</div>"
      ],
      "text/plain": [
       "                    Precision_at_k Recall_at_k\n",
       "Light Gradient               0.331       0.709\n",
       "XGBoost                      0.329       0.705\n",
       "Random Forest                0.309       0.661\n",
       "Extra Trees                  0.302       0.647\n",
       "KNN                          0.293       0.628\n",
       "Logistic Regression          0.281       0.603"
      ]
     },
     "execution_count": 40,
     "metadata": {},
     "output_type": "execute_result"
    }
   ],
   "source": [
    "metrics = pd.concat([ knn_metrics, lr_metrics, et_metrics, rf_metrics, xgb_metrics, lgbm_metrics] )\n",
    "metrics.sort_values('Precision_at_k', ascending=False)"
   ]
  },
  {
   "cell_type": "markdown",
   "id": "434a1a6c",
   "metadata": {
    "heading_collapsed": true
   },
   "source": [
    "# 7.0 CROSS VALIDATION"
   ]
  },
  {
   "cell_type": "code",
   "execution_count": 115,
   "id": "b1cbbdb2",
   "metadata": {
    "ExecuteTime": {
     "end_time": "2022-10-10T22:31:07.067095Z",
     "start_time": "2022-10-10T22:31:07.018111Z"
    },
    "hidden": true
   },
   "outputs": [
    {
     "data": {
      "text/html": [
       "<div>\n",
       "<style scoped>\n",
       "    .dataframe tbody tr th:only-of-type {\n",
       "        vertical-align: middle;\n",
       "    }\n",
       "\n",
       "    .dataframe tbody tr th {\n",
       "        vertical-align: top;\n",
       "    }\n",
       "\n",
       "    .dataframe thead th {\n",
       "        text-align: right;\n",
       "    }\n",
       "</style>\n",
       "<table border=\"1\" class=\"dataframe\">\n",
       "  <thead>\n",
       "    <tr style=\"text-align: right;\">\n",
       "      <th></th>\n",
       "      <th>Precision_at_k</th>\n",
       "      <th>Recall_at_k</th>\n",
       "    </tr>\n",
       "  </thead>\n",
       "  <tbody>\n",
       "    <tr>\n",
       "      <th>Light Gradient</th>\n",
       "      <td>0.309 +/- 0.001</td>\n",
       "      <td>0.828 +/- 0.004</td>\n",
       "    </tr>\n",
       "    <tr>\n",
       "      <th>XGBoost</th>\n",
       "      <td>0.308 +/- 0.002</td>\n",
       "      <td>0.824 +/- 0.005</td>\n",
       "    </tr>\n",
       "    <tr>\n",
       "      <th>Random Forest</th>\n",
       "      <td>0.293 +/- 0.001</td>\n",
       "      <td>0.784 +/- 0.004</td>\n",
       "    </tr>\n",
       "    <tr>\n",
       "      <th>Extra Trees</th>\n",
       "      <td>0.288 +/- 0.002</td>\n",
       "      <td>0.772 +/- 0.005</td>\n",
       "    </tr>\n",
       "    <tr>\n",
       "      <th>Logistic Regression</th>\n",
       "      <td>0.276 +/- 0.003</td>\n",
       "      <td>0.74 +/- 0.009</td>\n",
       "    </tr>\n",
       "    <tr>\n",
       "      <th>KNN</th>\n",
       "      <td>0.276 +/- 0.001</td>\n",
       "      <td>0.738 +/- 0.003</td>\n",
       "    </tr>\n",
       "  </tbody>\n",
       "</table>\n",
       "</div>"
      ],
      "text/plain": [
       "                      Precision_at_k      Recall_at_k\n",
       "Light Gradient       0.309 +/- 0.001  0.828 +/- 0.004\n",
       "XGBoost              0.308 +/- 0.002  0.824 +/- 0.005\n",
       "Random Forest        0.293 +/- 0.001  0.784 +/- 0.004\n",
       "Extra Trees          0.288 +/- 0.002  0.772 +/- 0.005\n",
       "Logistic Regression  0.276 +/- 0.003   0.74 +/- 0.009\n",
       "KNN                  0.276 +/- 0.001  0.738 +/- 0.003"
      ]
     },
     "execution_count": 115,
     "metadata": {},
     "output_type": "execute_result"
    }
   ],
   "source": [
    "results.sort_values( 'Precision_at_k', ascending=False )"
   ]
  },
  {
   "cell_type": "code",
   "execution_count": 62,
   "id": "1ff9c953",
   "metadata": {
    "ExecuteTime": {
     "end_time": "2022-10-17T21:17:57.050659Z",
     "start_time": "2022-10-17T21:17:57.046657Z"
    },
    "hidden": true
   },
   "outputs": [],
   "source": [
    "warnings.filterwarnings( 'ignore' )"
   ]
  },
  {
   "cell_type": "code",
   "execution_count": 112,
   "id": "492cbc19",
   "metadata": {
    "ExecuteTime": {
     "end_time": "2022-10-10T18:00:11.757675Z",
     "start_time": "2022-10-10T17:48:28.812959Z"
    },
    "hidden": true
   },
   "outputs": [
    {
     "name": "stdout",
     "output_type": "stream",
     "text": [
      "[14:59:16] WARNING: C:/Users/administrator/workspace/xgboost-win64_release_1.6.0/src/learner.cc:627: \n",
      "Parameters: { \"eval_metrics\" } might not be used.\n",
      "\n",
      "  This could be a false alarm, with some parameters getting used by language bindings but\n",
      "  then being mistakenly passed down to XGBoost core, or some parameter actually being used\n",
      "  but getting flagged wrongly here. Please open an issue if you find any such cases.\n",
      "\n",
      "\n",
      "[14:59:26] WARNING: C:/Users/administrator/workspace/xgboost-win64_release_1.6.0/src/learner.cc:627: \n",
      "Parameters: { \"eval_metrics\" } might not be used.\n",
      "\n",
      "  This could be a false alarm, with some parameters getting used by language bindings but\n",
      "  then being mistakenly passed down to XGBoost core, or some parameter actually being used\n",
      "  but getting flagged wrongly here. Please open an issue if you find any such cases.\n",
      "\n",
      "\n",
      "[14:59:36] WARNING: C:/Users/administrator/workspace/xgboost-win64_release_1.6.0/src/learner.cc:627: \n",
      "Parameters: { \"eval_metrics\" } might not be used.\n",
      "\n",
      "  This could be a false alarm, with some parameters getting used by language bindings but\n",
      "  then being mistakenly passed down to XGBoost core, or some parameter actually being used\n",
      "  but getting flagged wrongly here. Please open an issue if you find any such cases.\n",
      "\n",
      "\n",
      "[14:59:46] WARNING: C:/Users/administrator/workspace/xgboost-win64_release_1.6.0/src/learner.cc:627: \n",
      "Parameters: { \"eval_metrics\" } might not be used.\n",
      "\n",
      "  This could be a false alarm, with some parameters getting used by language bindings but\n",
      "  then being mistakenly passed down to XGBoost core, or some parameter actually being used\n",
      "  but getting flagged wrongly here. Please open an issue if you find any such cases.\n",
      "\n",
      "\n",
      "[14:59:56] WARNING: C:/Users/administrator/workspace/xgboost-win64_release_1.6.0/src/learner.cc:627: \n",
      "Parameters: { \"eval_metrics\" } might not be used.\n",
      "\n",
      "  This could be a false alarm, with some parameters getting used by language bindings but\n",
      "  then being mistakenly passed down to XGBoost core, or some parameter actually being used\n",
      "  but getting flagged wrongly here. Please open an issue if you find any such cases.\n",
      "\n",
      "\n"
     ]
    }
   ],
   "source": [
    "# knn_model_cv = cross_validation( 'KNN', knn_model, x_train, y_train )\n",
    "# lr_model_cv = cross_validation( 'Logistic Regression', lr_model, x_train, y_train )\n",
    "# rf_model_cv = cross_validation( 'Random Forest', rf, x_train, y_train )\n",
    "# et_model_cv = cross_validation( 'Extra Trees', et_model, x_train, y_train )\n",
    "# xgb_model_cv = cross_validation( 'XGBoost', xgb_model, x_train, y_train )\n",
    "# lgbm_model_cv = cross_validation( 'Light Gradient', lgbm_model, x_train, y_train )"
   ]
  },
  {
   "cell_type": "code",
   "execution_count": 113,
   "id": "2c11da48",
   "metadata": {
    "ExecuteTime": {
     "end_time": "2022-10-10T18:00:39.777476Z",
     "start_time": "2022-10-10T18:00:39.743657Z"
    },
    "hidden": true
   },
   "outputs": [],
   "source": [
    "results = pd.concat( [knn_model_cv, lr_model_cv, rf_model_cv, et_model_cv, xgb_model_cv, lgbm_model_cv] )"
   ]
  },
  {
   "cell_type": "code",
   "execution_count": 114,
   "id": "b800c338",
   "metadata": {
    "ExecuteTime": {
     "end_time": "2022-10-10T18:00:40.216224Z",
     "start_time": "2022-10-10T18:00:40.185566Z"
    },
    "hidden": true
   },
   "outputs": [
    {
     "data": {
      "text/html": [
       "<div>\n",
       "<style scoped>\n",
       "    .dataframe tbody tr th:only-of-type {\n",
       "        vertical-align: middle;\n",
       "    }\n",
       "\n",
       "    .dataframe tbody tr th {\n",
       "        vertical-align: top;\n",
       "    }\n",
       "\n",
       "    .dataframe thead th {\n",
       "        text-align: right;\n",
       "    }\n",
       "</style>\n",
       "<table border=\"1\" class=\"dataframe\">\n",
       "  <thead>\n",
       "    <tr style=\"text-align: right;\">\n",
       "      <th></th>\n",
       "      <th>Precision_at_k</th>\n",
       "      <th>Recall_at_k</th>\n",
       "    </tr>\n",
       "  </thead>\n",
       "  <tbody>\n",
       "    <tr>\n",
       "      <th>Light Gradient</th>\n",
       "      <td>0.309 +/- 0.001</td>\n",
       "      <td>0.828 +/- 0.004</td>\n",
       "    </tr>\n",
       "    <tr>\n",
       "      <th>XGBoost</th>\n",
       "      <td>0.308 +/- 0.002</td>\n",
       "      <td>0.824 +/- 0.005</td>\n",
       "    </tr>\n",
       "    <tr>\n",
       "      <th>Random Forest</th>\n",
       "      <td>0.293 +/- 0.001</td>\n",
       "      <td>0.784 +/- 0.004</td>\n",
       "    </tr>\n",
       "    <tr>\n",
       "      <th>Extra Trees</th>\n",
       "      <td>0.288 +/- 0.002</td>\n",
       "      <td>0.772 +/- 0.005</td>\n",
       "    </tr>\n",
       "    <tr>\n",
       "      <th>Logistic Regression</th>\n",
       "      <td>0.276 +/- 0.003</td>\n",
       "      <td>0.74 +/- 0.009</td>\n",
       "    </tr>\n",
       "    <tr>\n",
       "      <th>KNN</th>\n",
       "      <td>0.276 +/- 0.001</td>\n",
       "      <td>0.738 +/- 0.003</td>\n",
       "    </tr>\n",
       "  </tbody>\n",
       "</table>\n",
       "</div>"
      ],
      "text/plain": [
       "                      Precision_at_k      Recall_at_k\n",
       "Light Gradient       0.309 +/- 0.001  0.828 +/- 0.004\n",
       "XGBoost              0.308 +/- 0.002  0.824 +/- 0.005\n",
       "Random Forest        0.293 +/- 0.001  0.784 +/- 0.004\n",
       "Extra Trees          0.288 +/- 0.002  0.772 +/- 0.005\n",
       "Logistic Regression  0.276 +/- 0.003   0.74 +/- 0.009\n",
       "KNN                  0.276 +/- 0.001  0.738 +/- 0.003"
      ]
     },
     "execution_count": 114,
     "metadata": {},
     "output_type": "execute_result"
    }
   ],
   "source": [
    "results.sort_values( 'Precision_at_k', ascending=False )"
   ]
  },
  {
   "cell_type": "markdown",
   "id": "38ee0426",
   "metadata": {
    "heading_collapsed": true
   },
   "source": [
    "# 8.0 HYPER-PARAMETER FINE TUNING"
   ]
  },
  {
   "cell_type": "code",
   "execution_count": 130,
   "id": "e7cb891c",
   "metadata": {
    "ExecuteTime": {
     "end_time": "2022-10-10T22:55:31.524553Z",
     "start_time": "2022-10-10T22:55:31.519557Z"
    },
    "hidden": true
   },
   "outputs": [],
   "source": [
    "warnings.filterwarnings( 'ignore' )"
   ]
  },
  {
   "cell_type": "code",
   "execution_count": 47,
   "id": "37e121f2",
   "metadata": {
    "ExecuteTime": {
     "end_time": "2022-10-18T13:10:44.908304Z",
     "start_time": "2022-10-18T13:10:44.896307Z"
    },
    "hidden": true
   },
   "outputs": [],
   "source": [
    "param = {'num_leaves':[35, 50, 80, 110],\n",
    "         'max_depth':[3, 5, 7, 9],\n",
    "         'max_bin':[200, 255, 300, 350],\n",
    "         'eta':[0.01, 0.05, 0.1],\n",
    "        }\n",
    "\n",
    "MAX_EVAL = 7"
   ]
  },
  {
   "cell_type": "code",
   "execution_count": 49,
   "id": "ffdee91d",
   "metadata": {
    "ExecuteTime": {
     "end_time": "2022-10-18T13:11:29.746347Z",
     "start_time": "2022-10-18T13:10:59.402099Z"
    },
    "hidden": true
   },
   "outputs": [
    {
     "name": "stdout",
     "output_type": "stream",
     "text": [
      "{'num_leaves': 50, 'max_depth': 3, 'max_bin': 200, 'eta': 0.05}\n",
      "{'num_leaves': 50, 'max_depth': 3, 'max_bin': 300, 'eta': 0.1}\n",
      "{'num_leaves': 80, 'max_depth': 5, 'max_bin': 300, 'eta': 0.05}\n",
      "{'num_leaves': 110, 'max_depth': 5, 'max_bin': 255, 'eta': 0.01}\n",
      "{'num_leaves': 80, 'max_depth': 3, 'max_bin': 255, 'eta': 0.05}\n",
      "{'num_leaves': 80, 'max_depth': 3, 'max_bin': 300, 'eta': 0.01}\n",
      "{'num_leaves': 35, 'max_depth': 7, 'max_bin': 300, 'eta': 0.1}\n"
     ]
    },
    {
     "data": {
      "text/html": [
       "<div>\n",
       "<style scoped>\n",
       "    .dataframe tbody tr th:only-of-type {\n",
       "        vertical-align: middle;\n",
       "    }\n",
       "\n",
       "    .dataframe tbody tr th {\n",
       "        vertical-align: top;\n",
       "    }\n",
       "\n",
       "    .dataframe thead th {\n",
       "        text-align: right;\n",
       "    }\n",
       "</style>\n",
       "<table border=\"1\" class=\"dataframe\">\n",
       "  <thead>\n",
       "    <tr style=\"text-align: right;\">\n",
       "      <th></th>\n",
       "      <th>Precision_at_k</th>\n",
       "      <th>Recall_at_k</th>\n",
       "    </tr>\n",
       "  </thead>\n",
       "  <tbody>\n",
       "    <tr>\n",
       "      <th>Light Gradient Classifier</th>\n",
       "      <td>0.31 +/- 0.002</td>\n",
       "      <td>0.829 +/- 0.004</td>\n",
       "    </tr>\n",
       "    <tr>\n",
       "      <th>Light Gradient Classifier</th>\n",
       "      <td>0.31 +/- 0.002</td>\n",
       "      <td>0.829 +/- 0.004</td>\n",
       "    </tr>\n",
       "    <tr>\n",
       "      <th>Light Gradient Classifier</th>\n",
       "      <td>0.31 +/- 0.002</td>\n",
       "      <td>0.829 +/- 0.004</td>\n",
       "    </tr>\n",
       "    <tr>\n",
       "      <th>Light Gradient Classifier</th>\n",
       "      <td>0.31 +/- 0.002</td>\n",
       "      <td>0.829 +/- 0.004</td>\n",
       "    </tr>\n",
       "    <tr>\n",
       "      <th>Light Gradient Classifier</th>\n",
       "      <td>0.31 +/- 0.002</td>\n",
       "      <td>0.829 +/- 0.004</td>\n",
       "    </tr>\n",
       "    <tr>\n",
       "      <th>Light Gradient Classifier</th>\n",
       "      <td>0.31 +/- 0.002</td>\n",
       "      <td>0.829 +/- 0.004</td>\n",
       "    </tr>\n",
       "    <tr>\n",
       "      <th>Light Gradient Classifier</th>\n",
       "      <td>0.31 +/- 0.002</td>\n",
       "      <td>0.829 +/- 0.004</td>\n",
       "    </tr>\n",
       "  </tbody>\n",
       "</table>\n",
       "</div>"
      ],
      "text/plain": [
       "                           Precision_at_k      Recall_at_k\n",
       "Light Gradient Classifier  0.31 +/- 0.002  0.829 +/- 0.004\n",
       "Light Gradient Classifier  0.31 +/- 0.002  0.829 +/- 0.004\n",
       "Light Gradient Classifier  0.31 +/- 0.002  0.829 +/- 0.004\n",
       "Light Gradient Classifier  0.31 +/- 0.002  0.829 +/- 0.004\n",
       "Light Gradient Classifier  0.31 +/- 0.002  0.829 +/- 0.004\n",
       "Light Gradient Classifier  0.31 +/- 0.002  0.829 +/- 0.004\n",
       "Light Gradient Classifier  0.31 +/- 0.002  0.829 +/- 0.004"
      ]
     },
     "execution_count": 49,
     "metadata": {},
     "output_type": "execute_result"
    }
   ],
   "source": [
    "final_result = pd.DataFrame()\n",
    "\n",
    "for i in range ( MAX_EVAL ):\n",
    "    # choose values parameters randomly\n",
    "    hp = {k: random.sample( v, 1 )[0] for k, v in param.items()}\n",
    "    print(hp)\n",
    "\n",
    "    # model\n",
    "    model_lgbm = LGBMClassifier( objective='binary',\n",
    "                              num_leaves=hp['num_leaves'],\n",
    "                              max_depth=hp['max_depth'],\n",
    "                              max_bin=hp['max_bin'],\n",
    "                              eta=hp['eta'] )\n",
    "\n",
    "\n",
    "    # performance\n",
    "    result = cross_validation( 'Light Gradient Classifier', lgbm_model, x_train, y_train )\n",
    "    final_result = pd.concat( [final_result, result] )\n",
    "    \n",
    "final_result  "
   ]
  },
  {
   "cell_type": "code",
   "execution_count": 51,
   "id": "1831eee8",
   "metadata": {
    "ExecuteTime": {
     "end_time": "2022-10-18T13:16:34.561142Z",
     "start_time": "2022-10-18T13:16:33.350531Z"
    },
    "hidden": true
   },
   "outputs": [
    {
     "name": "stdout",
     "output_type": "stream",
     "text": [
      "[LightGBM] [Warning] learning_rate is set=0.1, eta=0.1 will be ignored. Current value: learning_rate=0.1\n"
     ]
    }
   ],
   "source": [
    "# model_definition\n",
    "lgbm_model_tuned = LGBMClassifier( objective='binary',\n",
    "                              num_leaves=80,\n",
    "                              max_depth=7,\n",
    "                              max_bin=300,\n",
    "                              eta=0.1 )\n",
    "\n",
    "# Model training\n",
    "lgbm_model_tuned.fit(x_train, y_train)\n",
    "\n",
    "\n",
    "yhat_lgbm_tuned = lgbm_model_tuned.predict_proba( x_val )"
   ]
  },
  {
   "cell_type": "code",
   "execution_count": 52,
   "id": "0c3be889",
   "metadata": {
    "ExecuteTime": {
     "end_time": "2022-10-18T13:17:14.703017Z",
     "start_time": "2022-10-18T13:17:14.227162Z"
    },
    "hidden": true
   },
   "outputs": [
    {
     "data": {
      "image/png": "[encoded data removed]",
      "text/plain": [
       "<Figure size 1296x720 with 2 Axes>"
      ]
     },
     "metadata": {
      "needs_background": "light"
     },
     "output_type": "display_data"
    }
   ],
   "source": [
    "fig, axs = plt.subplots(ncols=2, figsize=(18,10))\n",
    "skplt.metrics.plot_cumulative_gain( y_val, yhat_lgbm_tuned, ax=axs[0], title='Cumulative Gains Curve');\n",
    "skplt.metrics.plot_lift_curve( y_val, yhat_lgbm_tuned, ax=axs[1], title='Lift Curve' );"
   ]
  },
  {
   "cell_type": "markdown",
   "id": "1a97ae7d",
   "metadata": {
    "heading_collapsed": true
   },
   "source": [
    "# 9.0 MODEL PERFORMANCE"
   ]
  },
  {
   "cell_type": "code",
   "execution_count": 57,
   "id": "af9b2904",
   "metadata": {
    "ExecuteTime": {
     "end_time": "2022-10-18T13:21:05.312735Z",
     "start_time": "2022-10-18T13:21:05.225762Z"
    },
    "hidden": true
   },
   "outputs": [
    {
     "name": "stdout",
     "output_type": "stream",
     "text": [
      "Precision At K: 0.3309834508274586\n",
      "Recall At K: 0.7094630800557282\n"
     ]
    }
   ],
   "source": [
    "df7 = x_validation.copy()\n",
    "df7['response'] = y_validation.copy()\n",
    "\n",
    "# Propensity Score\n",
    "df7['score'] = yhat_lgbm_tuned[:, 1].tolist()\n",
    "\n",
    "# Sort clients by propensity score\n",
    "df7 = df7.sort_values( 'score', ascending=False )\n",
    "\n",
    "# Compute precision at K\n",
    "precision = precision_at_k( df7, k=20000 )\n",
    "print('Precision At K: {}'.format( precision_at_50 ) )\n",
    "\n",
    "# Recall at K\n",
    "recall = recall_at_k( df7, k=20000 )\n",
    "print('Recall At K: {}'.format( recall_at_50 ) )"
   ]
  },
  {
   "cell_type": "markdown",
   "id": "7d8e66c0",
   "metadata": {},
   "source": [
    "# 10.0 DEPLOY TO PRODUCTION     "
   ]
  },
  {
   "cell_type": "code",
   "execution_count": 73,
   "id": "cc2c15a1",
   "metadata": {
    "ExecuteTime": {
     "end_time": "2022-10-18T13:35:09.125238Z",
     "start_time": "2022-10-18T13:35:09.098246Z"
    }
   },
   "outputs": [],
   "source": [
    "pickle.dump( lgbm_model_tuned, open('models/model_lgbm_tuned.pkl', 'wb') )"
   ]
  },
  {
   "cell_type": "markdown",
   "id": "98bbff6a",
   "metadata": {},
   "source": [
    "## 10.1 Health Insurance Class"
   ]
  },
  {
   "cell_type": "code",
   "execution_count": null,
   "id": "7e78f422",
   "metadata": {
    "ExecuteTime": {
     "end_time": "2022-10-06T14:46:29.915796Z",
     "start_time": "2022-10-06T14:46:29.896802Z"
    }
   },
   "outputs": [],
   "source": [
    "import pickle\n",
    "import pandas as pd\n",
    "\n",
    "\n",
    "class HealthInsurance(object):\n",
    "\n",
    "    def __init__( self ):  \n",
    "        self.homepath = 'C:/Users/Pedro/repos/health_insurance_cross_sell/pa004_health_insurance_cross_sell/health_insurance_cross-sell/'\n",
    "        self.age_scaler                  = pickle.load( open(self.homepath + 'src/features/age_scaler.pkl', 'rb') )\n",
    "        self.annual_premium_scaler       = pickle.load( open(self.homepath + 'src/features/annual_premium_scaler.pkl', 'rb') )\n",
    "        self.policy_sales_channel_scaler = pickle.load( open(self.homepath + 'src/features/fe_policy_sales_channel_scaler.pkl', 'rb') )\n",
    "        self.gender_scaler               = pickle.load( open(self.homepath + 'src/features/target_encode_gender_scaler.pkl', 'rb') )\n",
    "        self.region_code_scaler          = pickle.load( open(self.homepath + 'src/features/target_encode_region_code_scaler.pkl', 'rb') )\n",
    "        self.vintage_scaler              = pickle.load( open(self.homepath + 'src/features/vintage_scaler.pkl', 'rb') )\n",
    "        \n",
    "        \n",
    "        \n",
    "    def data_cleaning(self, data):\n",
    "        \n",
    "        cols_new = ['id', 'gender', 'age', 'driving_license', 'region_code',\n",
    "                    'previously_insured', 'vehicle_age', 'vehicle_damage', \n",
    "                    'annual_premium', 'policy_sales_channel', 'vintage', 'response']\n",
    "\n",
    "        data.columns = cols_new\n",
    "        \n",
    "        return data\n",
    "    \n",
    "    \n",
    "    def feature_engineering(self, data):\n",
    "        \n",
    "        # vehicle_Age\n",
    "        data['vehicle_age'] = data['vehicle_age'].apply( lambda x: 'below_1_year' if x == '< 1 Year' else 'between_1_2_year' if x == '1-2 Year' else 'over_2_years' )\n",
    "\n",
    "        # vehicle_damage\n",
    "        data['vehicle_damage'] = data['vehicle_damage'].apply( lambda x: 1 if x == 'Yes' else 0 )\n",
    "        \n",
    "        return data\n",
    "    \n",
    "    \n",
    "    def data_preparation(self, data):\n",
    "        \n",
    "        # Annual Premium\n",
    "        data['annual_premium'] = self.annual_premium_scaler.transform( data[['annual_premium']].values )\n",
    "        \n",
    "        # Age\n",
    "        data['age'] = self.age_scaler.transform( data[['age']].values )\n",
    "        \n",
    "        # Vintage\n",
    "        data['vintage'] = self.vintage_scaler.transform( data[['vintage']].values )\n",
    "        \n",
    "        # Gender \n",
    "        data.loc[:, 'gender'] = data['gender'].map( self.gender_scaler )\n",
    "        \n",
    "        # Region Code \n",
    "        data.loc[:, 'region_code'] = data['region_code'].map( self.region_code_scaler )\n",
    "        \n",
    "        # Vehicle Age \n",
    "        data = pd.get_dummies( data, prefix='vehicle_age', columns=['vehicle_age'] )\n",
    "        \n",
    "        # Policy Sales Channel - Target Encoding / Frequency Encoding\n",
    "        data.loc[:, 'policy_sales_channel'] = data['policy_sales_channel'].map( self.policy_sales_channel_scaler )\n",
    "        \n",
    "        \n",
    "        # Best Features       \n",
    "        cols_selected = ['vintage', 'annual_premium', 'age', 'region_code', 'vehicle_damage', 'policy_sales_channel', 'previously_insured']\n",
    "        \n",
    "        return data[ cols_selected ] \n",
    "    \n",
    "    \n",
    "    def get_prediction(self, model, original_data, test_data):\n",
    "        # model prediciton\n",
    "        pred = model.predict_proba(test_data)\n",
    "\n",
    "        # creating a prediction dataframe of the predict_proba (class 0 and 1 predictions)\n",
    "        table_proba = pd.DataFrame(pred)\n",
    "\n",
    "        # join prediction into original data\n",
    "        original_data['Score'] = table_proba[1]\n",
    "\n",
    "        original_data.sort_values('Score', ascending=False, inplace=True)\n",
    "\n",
    "        return original_data.to_json(orient='records', date_format='iso')"
   ]
  },
  {
   "cell_type": "markdown",
   "id": "c3e10708",
   "metadata": {},
   "source": [
    "## 10.2 API Handler"
   ]
  },
  {
   "cell_type": "code",
   "execution_count": null,
   "id": "40525c68",
   "metadata": {
    "ExecuteTime": {
     "end_time": "2022-10-06T14:40:43.730978Z",
     "start_time": "2022-10-06T14:40:40.632799Z"
    }
   },
   "outputs": [],
   "source": [
    "import pickle\n",
    "import pandas as pd\n",
    "from flask import Flask, request, Response\n",
    "from healthinsurance.HealthInsurance import HealthInsurance\n",
    "\n",
    "\n",
    "\n",
    "# Loading Model\n",
    "path = 'C:/Users/Pedro/repos/health_insurance_cross_sell/pa004_health_insurance_cross_sell/health_insurance_cross-sell/'\n",
    "model = pickle.load( open(path + 'models/model_lgbm_tuned.pkl', 'rb' ) )\n",
    "\n",
    "# Initialize API\n",
    "app = Flask(__name__)\n",
    "\n",
    "@app.route( '/healthinsurance/predict',  methods=['POST'] )\n",
    "\n",
    "def health_insurance_predict():\n",
    "    test_json = request.get_json()\n",
    "\n",
    "    if test_json:\n",
    "        if isinstance(test_json, dict):  # unique row\n",
    "            test_raw = pd.DataFrame(test_json, index=[0])\n",
    "\n",
    "        else:  # multiple rows\n",
    "            test_raw = pd.DataFrame(test_json, columns=test_json[0].keys())\n",
    "\n",
    "        test_raw_copy = test_raw.copy()\n",
    "\n",
    "        # instantiate HealthInsurance class\n",
    "        pipeline = HealthInsurance()\n",
    "\n",
    "        # data cleaning\n",
    "        df1 = pipeline.data_cleaning(test_raw)\n",
    "        print('apos df1')\n",
    "        print(test_raw.head())\n",
    "        print(test_raw.head().values)\n",
    "\n",
    "        # feature engineering\n",
    "        df2 = pipeline.feature_engineering(df1)\n",
    "        print('apos df2')\n",
    "        print(test_raw.head())\n",
    "        print(test_raw.head().values)\n",
    "\n",
    "        # data preparation\n",
    "        df3 = pipeline.data_preparation(df2)\n",
    "        print('apos df3')\n",
    "        print(test_raw.head())\n",
    "        print(test_raw.head().values)\n",
    "\n",
    "        # prediction\n",
    "        df_response = pipeline.get_prediction(model, test_raw_copy, df3)\n",
    "\n",
    "        return df_response\n",
    "\n",
    "    else:\n",
    "        return Response('{}', status=200, mimetype='application/json')\n",
    "    \n",
    "if __name__ == '__main__':\n",
    "    app.run( '192.168.15.59')"
   ]
  },
  {
   "cell_type": "code",
   "execution_count": 65,
   "id": "ee9f40df",
   "metadata": {
    "ExecuteTime": {
     "end_time": "2022-10-18T13:24:07.417980Z",
     "start_time": "2022-10-18T13:24:07.403985Z"
    }
   },
   "outputs": [],
   "source": [
    "import requests"
   ]
  },
  {
   "cell_type": "code",
   "execution_count": 66,
   "id": "c5701c1b",
   "metadata": {
    "ExecuteTime": {
     "end_time": "2022-10-18T13:24:07.938155Z",
     "start_time": "2022-10-18T13:24:07.922163Z"
    }
   },
   "outputs": [
    {
     "name": "stderr",
     "output_type": "stream",
     "text": [
      "C:\\Users\\Pedro\\AppData\\Local\\Temp/ipykernel_13904/1935542039.py:3: SettingWithCopyWarning: \n",
      "A value is trying to be set on a copy of a slice from a DataFrame.\n",
      "Try using .loc[row_indexer,col_indexer] = value instead\n",
      "\n",
      "See the caveats in the documentation: https://pandas.pydata.org/pandas-docs/stable/user_guide/indexing.html#returning-a-view-versus-a-copy\n",
      "  df_test['response'] = y_validation\n"
     ]
    }
   ],
   "source": [
    "# Loading DataSet\n",
    "df_test = x_validation\n",
    "df_test['response'] = y_validation"
   ]
  },
  {
   "cell_type": "code",
   "execution_count": 67,
   "id": "cbfafe3f",
   "metadata": {
    "ExecuteTime": {
     "end_time": "2022-10-18T13:24:13.118130Z",
     "start_time": "2022-10-18T13:24:13.107134Z"
    }
   },
   "outputs": [
    {
     "data": {
      "text/plain": [
       "Index(['id', 'gender', 'age', 'driving_license', 'region_code',\n",
       "       'previously_insured', 'vehicle_age', 'vehicle_damage', 'annual_premium',\n",
       "       'policy_sales_channel', 'vintage', 'response'],\n",
       "      dtype='object')"
      ]
     },
     "execution_count": 67,
     "metadata": {},
     "output_type": "execute_result"
    }
   ],
   "source": [
    "df_test.columns"
   ]
  },
  {
   "cell_type": "code",
   "execution_count": 68,
   "id": "ff7a23b6",
   "metadata": {
    "ExecuteTime": {
     "end_time": "2022-10-18T13:24:19.606574Z",
     "start_time": "2022-10-18T13:24:18.369973Z"
    }
   },
   "outputs": [],
   "source": [
    "data= json.dumps( df_test.to_dict( orient='records' ) )"
   ]
  },
  {
   "cell_type": "code",
   "execution_count": 74,
   "id": "22f17de1",
   "metadata": {
    "ExecuteTime": {
     "end_time": "2022-10-18T13:35:40.495635Z",
     "start_time": "2022-10-18T13:35:39.160068Z"
    }
   },
   "outputs": [
    {
     "name": "stdout",
     "output_type": "stream",
     "text": [
      "Status Code 200\n"
     ]
    }
   ],
   "source": [
    "# API Call\n",
    "url = 'http://192.168.15.59:5000/healthinsurance/predict'\n",
    "header = {'Content-type': 'application/json' }\n",
    "\n",
    "r = requests.post( url, data=data, headers=header )\n",
    "print( 'Status Code {}'.format( r.status_code ) )"
   ]
  },
  {
   "cell_type": "code",
   "execution_count": 76,
   "id": "b0b6b149",
   "metadata": {
    "ExecuteTime": {
     "end_time": "2022-10-18T13:35:46.867620Z",
     "start_time": "2022-10-18T13:35:45.775970Z"
    }
   },
   "outputs": [],
   "source": [
    "d1 = pd.DataFrame( r.json(), columns=r.json()[0].keys() )"
   ]
  },
  {
   "cell_type": "code",
   "execution_count": 81,
   "id": "83945d6e",
   "metadata": {
    "ExecuteTime": {
     "end_time": "2022-10-18T13:36:18.069328Z",
     "start_time": "2022-10-18T13:36:18.018345Z"
    }
   },
   "outputs": [
    {
     "data": {
      "text/html": [
       "<div>\n",
       "<style scoped>\n",
       "    .dataframe tbody tr th:only-of-type {\n",
       "        vertical-align: middle;\n",
       "    }\n",
       "\n",
       "    .dataframe tbody tr th {\n",
       "        vertical-align: top;\n",
       "    }\n",
       "\n",
       "    .dataframe thead th {\n",
       "        text-align: right;\n",
       "    }\n",
       "</style>\n",
       "<table border=\"1\" class=\"dataframe\">\n",
       "  <thead>\n",
       "    <tr style=\"text-align: right;\">\n",
       "      <th></th>\n",
       "      <th>id</th>\n",
       "      <th>gender</th>\n",
       "      <th>age</th>\n",
       "      <th>driving_license</th>\n",
       "      <th>region_code</th>\n",
       "      <th>previously_insured</th>\n",
       "      <th>vehicle_age</th>\n",
       "      <th>vehicle_damage</th>\n",
       "      <th>annual_premium</th>\n",
       "      <th>policy_sales_channel</th>\n",
       "      <th>vintage</th>\n",
       "      <th>response</th>\n",
       "      <th>Score</th>\n",
       "    </tr>\n",
       "  </thead>\n",
       "  <tbody>\n",
       "    <tr>\n",
       "      <th>0</th>\n",
       "      <td>281222</td>\n",
       "      <td>Male</td>\n",
       "      <td>20</td>\n",
       "      <td>1</td>\n",
       "      <td>27.0</td>\n",
       "      <td>1</td>\n",
       "      <td>below_1_year</td>\n",
       "      <td>0</td>\n",
       "      <td>32060.0</td>\n",
       "      <td>160.0</td>\n",
       "      <td>239</td>\n",
       "      <td>1</td>\n",
       "      <td>0.622744</td>\n",
       "    </tr>\n",
       "    <tr>\n",
       "      <th>1</th>\n",
       "      <td>228156</td>\n",
       "      <td>Male</td>\n",
       "      <td>60</td>\n",
       "      <td>1</td>\n",
       "      <td>8.0</td>\n",
       "      <td>1</td>\n",
       "      <td>between_1_2_year</td>\n",
       "      <td>0</td>\n",
       "      <td>36955.0</td>\n",
       "      <td>25.0</td>\n",
       "      <td>268</td>\n",
       "      <td>1</td>\n",
       "      <td>0.490976</td>\n",
       "    </tr>\n",
       "    <tr>\n",
       "      <th>2</th>\n",
       "      <td>350460</td>\n",
       "      <td>Female</td>\n",
       "      <td>32</td>\n",
       "      <td>1</td>\n",
       "      <td>21.0</td>\n",
       "      <td>0</td>\n",
       "      <td>below_1_year</td>\n",
       "      <td>1</td>\n",
       "      <td>2630.0</td>\n",
       "      <td>163.0</td>\n",
       "      <td>51</td>\n",
       "      <td>0</td>\n",
       "      <td>0.476173</td>\n",
       "    </tr>\n",
       "    <tr>\n",
       "      <th>3</th>\n",
       "      <td>286009</td>\n",
       "      <td>Male</td>\n",
       "      <td>32</td>\n",
       "      <td>1</td>\n",
       "      <td>21.0</td>\n",
       "      <td>0</td>\n",
       "      <td>between_1_2_year</td>\n",
       "      <td>1</td>\n",
       "      <td>2630.0</td>\n",
       "      <td>156.0</td>\n",
       "      <td>12</td>\n",
       "      <td>0</td>\n",
       "      <td>0.473561</td>\n",
       "    </tr>\n",
       "    <tr>\n",
       "      <th>4</th>\n",
       "      <td>349811</td>\n",
       "      <td>Male</td>\n",
       "      <td>52</td>\n",
       "      <td>1</td>\n",
       "      <td>38.0</td>\n",
       "      <td>0</td>\n",
       "      <td>between_1_2_year</td>\n",
       "      <td>1</td>\n",
       "      <td>64931.0</td>\n",
       "      <td>26.0</td>\n",
       "      <td>11</td>\n",
       "      <td>1</td>\n",
       "      <td>0.463388</td>\n",
       "    </tr>\n",
       "    <tr>\n",
       "      <th>...</th>\n",
       "      <td>...</td>\n",
       "      <td>...</td>\n",
       "      <td>...</td>\n",
       "      <td>...</td>\n",
       "      <td>...</td>\n",
       "      <td>...</td>\n",
       "      <td>...</td>\n",
       "      <td>...</td>\n",
       "      <td>...</td>\n",
       "      <td>...</td>\n",
       "      <td>...</td>\n",
       "      <td>...</td>\n",
       "      <td>...</td>\n",
       "    </tr>\n",
       "    <tr>\n",
       "      <th>76217</th>\n",
       "      <td>121930</td>\n",
       "      <td>Male</td>\n",
       "      <td>21</td>\n",
       "      <td>1</td>\n",
       "      <td>30.0</td>\n",
       "      <td>1</td>\n",
       "      <td>below_1_year</td>\n",
       "      <td>0</td>\n",
       "      <td>44991.0</td>\n",
       "      <td>152.0</td>\n",
       "      <td>158</td>\n",
       "      <td>0</td>\n",
       "      <td>0.000007</td>\n",
       "    </tr>\n",
       "    <tr>\n",
       "      <th>76218</th>\n",
       "      <td>136553</td>\n",
       "      <td>Female</td>\n",
       "      <td>21</td>\n",
       "      <td>1</td>\n",
       "      <td>6.0</td>\n",
       "      <td>1</td>\n",
       "      <td>below_1_year</td>\n",
       "      <td>0</td>\n",
       "      <td>45033.0</td>\n",
       "      <td>152.0</td>\n",
       "      <td>25</td>\n",
       "      <td>0</td>\n",
       "      <td>0.000006</td>\n",
       "    </tr>\n",
       "    <tr>\n",
       "      <th>76219</th>\n",
       "      <td>341946</td>\n",
       "      <td>Female</td>\n",
       "      <td>22</td>\n",
       "      <td>1</td>\n",
       "      <td>25.0</td>\n",
       "      <td>1</td>\n",
       "      <td>below_1_year</td>\n",
       "      <td>0</td>\n",
       "      <td>44514.0</td>\n",
       "      <td>152.0</td>\n",
       "      <td>55</td>\n",
       "      <td>0</td>\n",
       "      <td>0.000006</td>\n",
       "    </tr>\n",
       "    <tr>\n",
       "      <th>76220</th>\n",
       "      <td>363791</td>\n",
       "      <td>Male</td>\n",
       "      <td>63</td>\n",
       "      <td>1</td>\n",
       "      <td>33.0</td>\n",
       "      <td>1</td>\n",
       "      <td>between_1_2_year</td>\n",
       "      <td>0</td>\n",
       "      <td>44358.0</td>\n",
       "      <td>138.0</td>\n",
       "      <td>11</td>\n",
       "      <td>0</td>\n",
       "      <td>0.000005</td>\n",
       "    </tr>\n",
       "    <tr>\n",
       "      <th>76221</th>\n",
       "      <td>64922</td>\n",
       "      <td>Male</td>\n",
       "      <td>23</td>\n",
       "      <td>1</td>\n",
       "      <td>15.0</td>\n",
       "      <td>1</td>\n",
       "      <td>below_1_year</td>\n",
       "      <td>0</td>\n",
       "      <td>44420.0</td>\n",
       "      <td>152.0</td>\n",
       "      <td>50</td>\n",
       "      <td>0</td>\n",
       "      <td>0.000003</td>\n",
       "    </tr>\n",
       "  </tbody>\n",
       "</table>\n",
       "<p>76222 rows × 13 columns</p>\n",
       "</div>"
      ],
      "text/plain": [
       "           id  gender  age  driving_license  region_code  previously_insured  \\\n",
       "0      281222    Male   20                1         27.0                   1   \n",
       "1      228156    Male   60                1          8.0                   1   \n",
       "2      350460  Female   32                1         21.0                   0   \n",
       "3      286009    Male   32                1         21.0                   0   \n",
       "4      349811    Male   52                1         38.0                   0   \n",
       "...       ...     ...  ...              ...          ...                 ...   \n",
       "76217  121930    Male   21                1         30.0                   1   \n",
       "76218  136553  Female   21                1          6.0                   1   \n",
       "76219  341946  Female   22                1         25.0                   1   \n",
       "76220  363791    Male   63                1         33.0                   1   \n",
       "76221   64922    Male   23                1         15.0                   1   \n",
       "\n",
       "            vehicle_age  vehicle_damage  annual_premium  policy_sales_channel  \\\n",
       "0          below_1_year               0         32060.0                 160.0   \n",
       "1      between_1_2_year               0         36955.0                  25.0   \n",
       "2          below_1_year               1          2630.0                 163.0   \n",
       "3      between_1_2_year               1          2630.0                 156.0   \n",
       "4      between_1_2_year               1         64931.0                  26.0   \n",
       "...                 ...             ...             ...                   ...   \n",
       "76217      below_1_year               0         44991.0                 152.0   \n",
       "76218      below_1_year               0         45033.0                 152.0   \n",
       "76219      below_1_year               0         44514.0                 152.0   \n",
       "76220  between_1_2_year               0         44358.0                 138.0   \n",
       "76221      below_1_year               0         44420.0                 152.0   \n",
       "\n",
       "       vintage  response     Score  \n",
       "0          239         1  0.622744  \n",
       "1          268         1  0.490976  \n",
       "2           51         0  0.476173  \n",
       "3           12         0  0.473561  \n",
       "4           11         1  0.463388  \n",
       "...        ...       ...       ...  \n",
       "76217      158         0  0.000007  \n",
       "76218       25         0  0.000006  \n",
       "76219       55         0  0.000006  \n",
       "76220       11         0  0.000005  \n",
       "76221       50         0  0.000003  \n",
       "\n",
       "[76222 rows x 13 columns]"
      ]
     },
     "execution_count": 81,
     "metadata": {},
     "output_type": "execute_result"
    }
   ],
   "source": [
    "d1.sort_values( 'Score', ascending=False )"
   ]
  },
  {
   "cell_type": "markdown",
   "id": "59e0b81f",
   "metadata": {
    "heading_collapsed": true
   },
   "source": [
    "# Further considerations"
   ]
  },
  {
   "cell_type": "markdown",
   "id": "27b80274",
   "metadata": {
    "hidden": true
   },
   "source": [
    "For future learning to rank problems or new CRISP rounds, consider training these models:\n",
    "\n",
    "- Balanced Bagging Classifier;\n",
    "- Easy Ensemble Classifier;\n",
    "- Random Under Sampler Classifier;\n",
    "- Stochastic Gradient Descent Classifier;"
   ]
  },
  {
   "cell_type": "code",
   "execution_count": null,
   "id": "27a8fbf9",
   "metadata": {
    "hidden": true
   },
   "outputs": [],
   "source": []
  }
 ],
 "metadata": {
  "kernelspec": {
   "display_name": "Python 3 (ipykernel)",
   "language": "python",
   "name": "python3"
  },
  "language_info": {
   "codemirror_mode": {
    "name": "ipython",
    "version": 3
   },
   "file_extension": ".py",
   "mimetype": "text/x-python",
   "name": "python",
   "nbconvert_exporter": "python",
   "pygments_lexer": "ipython3",
   "version": "3.9.7"
  }
 },
 "nbformat": 4,
 "nbformat_minor": 5
}
